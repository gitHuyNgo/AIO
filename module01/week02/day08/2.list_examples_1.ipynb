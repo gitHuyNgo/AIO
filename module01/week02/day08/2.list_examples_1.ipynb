{
 "cells": [
  {
   "cell_type": "markdown",
   "metadata": {},
   "source": [
    "# List\n",
    "\n"
   ]
  },
  {
   "cell_type": "code",
   "execution_count": null,
   "metadata": {},
   "outputs": [],
   "source": [
    "# tạo một list (danh sách) các phần tử có kiểu int\n",
    "\n",
    "l = [1, 2, 3, 4, 5, 6, 7, 8, 9]\n",
    "\n",
    "# lấy phần tử dùng forward index\n",
    "# l[0] = 1\n",
    "# l[1] = 2\n",
    "\n",
    "# lấy phần tử dung backward index\n",
    "# l[-1] = 9\n",
    "# l[-2] = 8"
   ]
  },
  {
   "cell_type": "code",
   "execution_count": 1,
   "metadata": {},
   "outputs": [
    {
     "name": "stdout",
     "output_type": "stream",
     "text": [
      "1\n",
      "2\n",
      "9\n",
      "8\n"
     ]
    }
   ],
   "source": [
    "l = [1, 2, 3, 4, 5, 6, 7, 8, 9]\n",
    "\n",
    "# lấy phần tử dùng forward index\n",
    "print(l[0])\n",
    "print(l[1])\n",
    "\n",
    "# lấy phần tử dung backward index\n",
    "print(l[-1])\n",
    "print(l[-2])"
   ]
  },
  {
   "cell_type": "code",
   "execution_count": 5,
   "metadata": {},
   "outputs": [
    {
     "name": "stdout",
     "output_type": "stream",
     "text": [
      "[5]\n",
      "[5, 8]\n"
     ]
    }
   ],
   "source": [
    "n1 = 5\n",
    "n2 = 8\n",
    "\n",
    "l1 = [n1]\n",
    "l2 = [n1,n2]\n",
    "\n",
    "print(l1)\n",
    "print(l2)"
   ]
  },
  {
   "cell_type": "code",
   "execution_count": null,
   "metadata": {},
   "outputs": [],
   "source": [
    "# các cách tạo list\n",
    "\n",
    "# hàm range([start,] stop [, step])\n",
    "# start và step là 2 biến tùy chọn, nghĩa là không cần truyền vào hàm range cũng được\n",
    "# giá trị mặc định của start là 0 và step là 1\n",
    "\n",
    "\n",
    "# cách 1\n",
    "# tạo một list rỗng l\n",
    "l = []\n",
    "\n",
    "# với mỗi giá trị của i\n",
    "# tạo list chứa một phần tử là i và nối với list l\n",
    "for i in range(10):\n",
    "    l = l + [i]\n",
    "\n",
    "# cách 2\n",
    "# tạo một list rỗng l\n",
    "l = []\n",
    "\n",
    "# với mỗi giá trị của i\n",
    "# chèn i vào list l\n",
    "for i in range(1000):\n",
    "    l.append(i)\n",
    "\n",
    "# cách 3\n",
    "# cách này hay được sử dụng\n",
    "l = [i for i in range(1000)]\n",
    "\n",
    "# cách 4\n",
    "# ép kiểu 'range' về kiểu list\n",
    "l = list(range(1000))"
   ]
  },
  {
   "cell_type": "code",
   "execution_count": 4,
   "metadata": {},
   "outputs": [
    {
     "name": "stdout",
     "output_type": "stream",
     "text": [
      "<type 'list'>\n",
      "0\n",
      "<type 'list'>\n"
     ]
    }
   ],
   "source": [
    "a = range(10)\n",
    "print(type(a))\n",
    "print(a[0])\n",
    "\n",
    "b = []\n",
    "print(type(b))"
   ]
  },
  {
   "cell_type": "code",
   "execution_count": 7,
   "metadata": {},
   "outputs": [
    {
     "name": "stdout",
     "output_type": "stream",
     "text": [
      "[67, 90, 77, 32, 57, 81, 36, 64, 61, 73]\n"
     ]
    }
   ],
   "source": [
    "# bài tập cho list\n",
    "\n",
    "import random\n",
    "\n",
    "l = [random.randint(1,100) for i in range(10)]\n",
    "print(l)\n",
    "\n",
    "# chỉ dùng cách lấy phần tử trong list dựa vào index, và những hàm cơ bản cho list như append\n",
    "# tự suy nghĩ và giải quyết các bài này sẽ giúp các bạn tăng khả năng tư duy lập trình\n",
    "\n",
    "# bài 1: tìm giá trị max và min của list l\n",
    "# bộ test: max([1,5,7,3])  --> 7\n",
    "# bộ test: min([1,5,7,3])  --> 1\n",
    "\n",
    "# bài 2: dùng bất kỳ phương pháp nào bạn biết hoặc suy luận ra được, sort (sắp xếp)\n",
    "# các phần tử trong list l sao cho các phần tử có giá trị tăng dần (và giảm dần)\n",
    "# bộ test: sort_increasing([1,5,7,3])  --> [1,3,5,7]\n",
    "# bộ test: sort_reducing([1,5,7,3])  --> [7,5,3,1]\n",
    "\n",
    "# bài 3: xáo trộn vị trí các phần tử trong list.\n",
    "# (thao tác này thường được dùng trước khi đưa data vào training)\n",
    "# bộ test: permutate([1,5,7,3])  --> có thể là [5,7,3,1]"
   ]
  },
  {
   "cell_type": "code",
   "execution_count": null,
   "metadata": {},
   "outputs": [],
   "source": [
    "# list slicing\n",
    "\n",
    "# Chúng ta có thể lấy nhiều phần tử trong list bằng cú pháp\n",
    "\n",
    "\n",
    "# lấy các phần tử trong list từ vị trí start đến vị trí (end-1) với bước nhảy step \n",
    "# 1\n",
    "# giá trị trả về là một list "
   ]
  },
  {
   "cell_type": "code",
   "execution_count": 21,
   "metadata": {},
   "outputs": [
    {
     "name": "stdout",
     "output_type": "stream",
     "text": [
      "[0, 1, 2, 3, 4, 5, 6, 7, 8, 9]\n",
      "[0, 1, 2, 3, 4, 5, 6, 7, 8, 9]\n",
      "[0, 1]\n",
      "[1, 2, 3]\n",
      "[4, 5, 6, 7, 8, 9]\n",
      "[0, 1, 2, 3, 4, 5]\n",
      "[0, 2, 4, 6, 8]\n",
      "[1, 3, 5, 7, 9]\n"
     ]
    }
   ],
   "source": [
    "l = [i for i in range(10)]\n",
    "\n",
    "# lấy tất cả các phần tử\n",
    "print(l[:])\n",
    "\n",
    "# lấy tất cả các phần tử\n",
    "print(l[0:10])\n",
    "\n",
    "# lấy phần tử ở vị trí 0,1\n",
    "print(l[0:2])\n",
    "\n",
    "# lấy các phần tử vị trí 1,2,3\n",
    "print(l[1:4])\n",
    "\n",
    "# lấy phần tử từ vị trí thứ 4 trở đi\n",
    "print(l[4:])\n",
    "\n",
    "# lấy các phần tử từ đầu đến vị trí thứ 5\n",
    "print(l[:6])\n",
    "\n",
    "# lấy tất cả các phần tử là số chẵn\n",
    "print(l[0:10:2])\n",
    "\n",
    "# lấy tất cả các phần tử là số lẻ\n",
    "print(l[1:10:2])"
   ]
  },
  {
   "cell_type": "code",
   "execution_count": null,
   "metadata": {},
   "outputs": [],
   "source": [
    "# bài tập cho list slicing\n",
    "\n",
    "import random\n",
    "\n",
    "l = [random.randint(1,100) for i in range(10)]\n",
    "print(l)\n",
    "\n",
    "# Bài 1: lấy tất cả các phần tử\n",
    "\n",
    "# Bài 2: lấy phần tử ở vị trí 0,2\n",
    "\n",
    "# Bài 3: lấy các phần tử vị trí 2,3,4\n",
    "\n",
    "# Bài 4: lấy phần tử từ vị trí thứ 3 trở đi\n",
    "\n",
    "# Bài 5: lấy các phần tử từ đầu đến vị trí thứ 6"
   ]
  },
  {
   "cell_type": "code",
   "execution_count": null,
   "metadata": {},
   "outputs": [],
   "source": []
  }
 ],
 "metadata": {
  "kernelspec": {
   "display_name": "Python 3 (ipykernel)",
   "language": "python",
   "name": "python3"
  },
  "language_info": {
   "codemirror_mode": {
    "name": "ipython",
    "version": 3
   },
   "file_extension": ".py",
   "mimetype": "text/x-python",
   "name": "python",
   "nbconvert_exporter": "python",
   "pygments_lexer": "ipython3",
   "version": "3.8.2"
  }
 },
 "nbformat": 4,
 "nbformat_minor": 2
}
