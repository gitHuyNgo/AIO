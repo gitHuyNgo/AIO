{
 "cells": [
  {
   "cell_type": "code",
   "execution_count": 4,
   "metadata": {
    "colab": {
     "base_uri": "https://localhost:8080/"
    },
    "executionInfo": {
     "elapsed": 11,
     "status": "ok",
     "timestamp": 1749206699199,
     "user": {
      "displayName": "Thái Nguyễn Quốc",
      "userId": "04072932238722635186"
     },
     "user_tz": -420
    },
    "id": "uz7a-BYViwAb",
    "outputId": "93ad6fdc-86ae-4bfc-94d7-0a108cf72385"
   },
   "outputs": [
    {
     "name": "stdout",
     "output_type": "stream",
     "text": [
      "[12, 23, 60, 7, 7]\n",
      "12\n",
      "[23, 60]\n"
     ]
    }
   ],
   "source": [
    "# Create a list\n",
    "nums = [12, 23, 60, 7, 7]\n",
    "print(nums)\n",
    "\n",
    "# Acesses elements\n",
    "print(nums[0])\n",
    "print(nums[1:3])"
   ]
  },
  {
   "cell_type": "code",
   "execution_count": 10,
   "metadata": {
    "colab": {
     "base_uri": "https://localhost:8080/"
    },
    "executionInfo": {
     "elapsed": 16,
     "status": "ok",
     "timestamp": 1749206697136,
     "user": {
      "displayName": "Thái Nguyễn Quốc",
      "userId": "04072932238722635186"
     },
     "user_tz": -420
    },
    "id": "VuAPSBDc16pP",
    "outputId": "df8931f3-9cd7-4a60-d05d-cfe75b505d8d"
   },
   "outputs": [
    {
     "name": "stdout",
     "output_type": "stream",
     "text": [
      "[12, 23, 60]\n",
      "[20, 23, 60]\n",
      "20\n",
      "23\n",
      "60\n"
     ]
    }
   ],
   "source": [
    "# Update elements\n",
    "nums = [12, 23, 60]\n",
    "print(nums)\n",
    "nums[0] = 20\n",
    "print(nums)\n",
    "\n",
    "for item in nums:\n",
    "    print(item)"
   ]
  },
  {
   "cell_type": "code",
   "execution_count": 1,
   "metadata": {
    "id": "0EryKh-fpt4f"
   },
   "outputs": [
    {
     "name": "stdout",
     "output_type": "stream",
     "text": [
      "[12, 23, 60]\n",
      "[12, 23, 60, 50]\n",
      "[12, 23, 60, 50, 1, -1]\n",
      "[23, 60, 50, 1, -1]\n",
      "[]\n"
     ]
    }
   ],
   "source": [
    "# Update elements\n",
    "nums = [12, 23, 60]\n",
    "print(nums)\n",
    "nums.append(50)\n",
    "print(nums)\n",
    "nums.extend([1, -1])\n",
    "print(nums)\n",
    "nums.remove(12)\n",
    "print(nums)\n",
    "nums.clear()\n",
    "print(nums)"
   ]
  },
  {
   "cell_type": "code",
   "execution_count": 7,
   "metadata": {},
   "outputs": [
    {
     "name": "stdout",
     "output_type": "stream",
     "text": [
      "(1, 3, -2.0, 'Hello')\n",
      "1\n",
      "Hello\n",
      "(-2.0, 'Hello')\n"
     ]
    }
   ],
   "source": [
    "# Create a tuple\n",
    "t = (1, 3, -2.0, \"Hello\")\n",
    "print(t)\n",
    "\n",
    "# Access elements\n",
    "print(t[0])\n",
    "print(t[-1])\n",
    "print(t[2:4])"
   ]
  },
  {
   "cell_type": "code",
   "execution_count": 9,
   "metadata": {},
   "outputs": [
    {
     "name": "stdout",
     "output_type": "stream",
     "text": [
      "1\n",
      "-2.0\n",
      "Hello\n"
     ]
    },
    {
     "ename": "TypeError",
     "evalue": "'tuple' object does not support item assignment",
     "output_type": "error",
     "traceback": [
      "\u001b[0;31m---------------------------------------------------------------------------\u001b[0m",
      "\u001b[0;31mTypeError\u001b[0m                                 Traceback (most recent call last)",
      "Cell \u001b[0;32mIn[9], line 7\u001b[0m\n\u001b[1;32m      4\u001b[0m     \u001b[38;5;28mprint\u001b[39m(item)\n\u001b[1;32m      6\u001b[0m \u001b[38;5;66;03m# Modify\u001b[39;00m\n\u001b[0;32m----> 7\u001b[0m \u001b[43mt\u001b[49m\u001b[43m[\u001b[49m\u001b[38;5;241;43m2\u001b[39;49m\u001b[43m]\u001b[49m \u001b[38;5;241m=\u001b[39m \u001b[38;5;124m\"\u001b[39m\u001b[38;5;124mHi\u001b[39m\u001b[38;5;124m\"\u001b[39m\n",
      "\u001b[0;31mTypeError\u001b[0m: 'tuple' object does not support item assignment"
     ]
    }
   ],
   "source": [
    "# Iterate through a tuple\n",
    "t = (1, -2.0, \"Hello\")\n",
    "for item in t:\n",
    "    print(item)\n",
    "\n",
    "# Modify\n",
    "t[2] = \"Hi\""
   ]
  },
  {
   "cell_type": "code",
   "execution_count": 11,
   "metadata": {},
   "outputs": [
    {
     "name": "stdout",
     "output_type": "stream",
     "text": [
      "(1, -2.0, 'Hello')\n"
     ]
    },
    {
     "ename": "AttributeError",
     "evalue": "'tuple' object has no attribute 'add'",
     "output_type": "error",
     "traceback": [
      "\u001b[0;31m---------------------------------------------------------------------------\u001b[0m",
      "\u001b[0;31mAttributeError\u001b[0m                            Traceback (most recent call last)",
      "Cell \u001b[0;32mIn[11], line 3\u001b[0m\n\u001b[1;32m      1\u001b[0m t \u001b[38;5;241m=\u001b[39m (\u001b[38;5;241m1\u001b[39m, \u001b[38;5;241m-\u001b[39m\u001b[38;5;241m2.0\u001b[39m, \u001b[38;5;124m\"\u001b[39m\u001b[38;5;124mHello\u001b[39m\u001b[38;5;124m\"\u001b[39m)\n\u001b[1;32m      2\u001b[0m \u001b[38;5;28mprint\u001b[39m(t)\n\u001b[0;32m----> 3\u001b[0m \u001b[43mt\u001b[49m\u001b[38;5;241;43m.\u001b[39;49m\u001b[43madd\u001b[49m(\u001b[38;5;124m\"\u001b[39m\u001b[38;5;124mhi\u001b[39m\u001b[38;5;124m\"\u001b[39m)\n\u001b[1;32m      4\u001b[0m \u001b[38;5;28mprint\u001b[39m(t)\n\u001b[1;32m      5\u001b[0m t\u001b[38;5;241m.\u001b[39mupdate((\u001b[38;5;241m1\u001b[39m,))\n",
      "\u001b[0;31mAttributeError\u001b[0m: 'tuple' object has no attribute 'add'"
     ]
    }
   ],
   "source": [
    "t = (1, -2.0, \"Hello\")\n",
    "print(t)\n",
    "t.add(\"hi\")\n",
    "print(t)\n",
    "t.update((1,))\n",
    "print(t)"
   ]
  },
  {
   "cell_type": "code",
   "execution_count": 16,
   "metadata": {},
   "outputs": [
    {
     "name": "stdout",
     "output_type": "stream",
     "text": [
      "{1, 2, 3}\n",
      "{'Hello', 1, 2, 3}\n",
      "Hello\n",
      "1\n",
      "2\n",
      "3\n"
     ]
    }
   ],
   "source": [
    "# create a set\n",
    "s = {1, 2, 3, 1}\n",
    "print(s)\n",
    "\n",
    "# Add an element\n",
    "s.add(\"Hello\")\n",
    "print(s)\n",
    "\n",
    "for item in s:\n",
    "    print(item)"
   ]
  },
  {
   "cell_type": "code",
   "execution_count": 19,
   "metadata": {},
   "outputs": [
    {
     "name": "stdout",
     "output_type": "stream",
     "text": [
      "{1, 2, 3}\n",
      "True\n",
      "True\n"
     ]
    }
   ],
   "source": [
    "s = {1, 2, 3, 1}\n",
    "print(s)\n",
    "\n",
    "print(all(s))\n",
    "print(any(s))"
   ]
  },
  {
   "cell_type": "code",
   "execution_count": 29,
   "metadata": {},
   "outputs": [
    {
     "name": "stdout",
     "output_type": "stream",
     "text": [
      "{1, 2, 3}\n",
      "{'Hello', 1, 2, 3}\n",
      "{1, 'Hello', 2, 3}\n",
      "False\n",
      "True\n",
      "{1, 'Hello', 3}\n",
      "{1, 'Hello'}\n",
      "set()\n"
     ]
    }
   ],
   "source": [
    "s = {1, 2, 3, 1}\n",
    "print(s)\n",
    "s.add(\"Hello\")\n",
    "print(s)\n",
    "s.update({1})\n",
    "print(s)\n",
    "print(s.issuperset({2,3}))\n",
    "s.remove(2)\n",
    "print(s)\n",
    "s.discard(3)\n",
    "print(s)\n",
    "s.clear()\n",
    "print(s)"
   ]
  },
  {
   "cell_type": "code",
   "execution_count": 34,
   "metadata": {},
   "outputs": [
    {
     "name": "stdout",
     "output_type": "stream",
     "text": [
      "{'name': 'Python', 'num_student': 20}\n",
      "Python\n",
      "{'name': 'Python', 'num_student': 20, 'topic': 'Dictionary'}\n",
      "{'name': 'Python', 'num_student': 30, 'topic': 'Dictionary'}\n",
      "name\n",
      "num_student\n",
      "topic\n"
     ]
    }
   ],
   "source": [
    "class_infor = {\"name\": \"Python\",\n",
    "    \"num_student\": 20}\n",
    "print(class_infor)\n",
    "print(class_infor[\"name\"])\n",
    "class_infor[\"topic\"] = \"Dictionary\"\n",
    "print(class_infor)\n",
    "class_infor[\"num_student\"] = 30\n",
    "print(class_infor)\n",
    "\n",
    "for item in class_infor:\n",
    "    print(item)"
   ]
  },
  {
   "cell_type": "code",
   "execution_count": 37,
   "metadata": {},
   "outputs": [
    {
     "name": "stdout",
     "output_type": "stream",
     "text": [
      "name\n",
      "num_student\n",
      "topic\n",
      "Python\n",
      "30\n",
      "Dictionary\n",
      "('name', 'Python')\n",
      "('num_student', 30)\n",
      "('topic', 'Dictionary')\n"
     ]
    }
   ],
   "source": [
    "for item in class_infor.keys():\n",
    "    print(item)\n",
    "\n",
    "for item in class_infor.values():\n",
    "    print(item)\n",
    "\n",
    "for item in class_infor.items():\n",
    "    print(item)"
   ]
  },
  {
   "cell_type": "code",
   "execution_count": 43,
   "metadata": {},
   "outputs": [
    {
     "name": "stdout",
     "output_type": "stream",
     "text": [
      "{'name': 'An'}\n",
      "An\n",
      "20\n",
      "{'name': 'An', 'class': 'Python'}\n",
      "Python\n",
      "{'name': 'An'}\n",
      "True\n"
     ]
    }
   ],
   "source": [
    "person = {\"name\": \"An\"}\n",
    "print(person)\n",
    "print(person.get(\"name\"))\n",
    "print(person.get(\"age\", 20))\n",
    "person.update({\"class\": \"Python\"})\n",
    "print(person)\n",
    "print(person.pop(\"class\"))\n",
    "print(person)\n",
    "print(\"name\" in person)"
   ]
  }
 ],
 "metadata": {
  "colab": {
   "authorship_tag": "ABX9TyMLDaNP4vWz3V2Zz4Q5tV3Z",
   "provenance": []
  },
  "kernelspec": {
   "display_name": "Python 3",
   "name": "python3"
  },
  "language_info": {
   "codemirror_mode": {
    "name": "ipython",
    "version": 3
   },
   "file_extension": ".py",
   "mimetype": "text/x-python",
   "name": "python",
   "nbconvert_exporter": "python",
   "pygments_lexer": "ipython3",
   "version": "3.9.6"
  }
 },
 "nbformat": 4,
 "nbformat_minor": 0
}
