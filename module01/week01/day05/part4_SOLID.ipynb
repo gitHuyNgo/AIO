{
 "cells": [
  {
   "cell_type": "markdown",
   "id": "6f5d5638-a7bf-4b6c-a88a-a8d8aac83a51",
   "metadata": {},
   "source": [
    "# Part 4: SOLID Principles and Design Patterns for Beginners"
   ]
  },
  {
   "cell_type": "markdown",
   "id": "b49f3092-6f29-47a4-870c-3b550bfd3160",
   "metadata": {},
   "source": [
    "## Example 1: Single Responsibility Principle (SRP)"
   ]
  },
  {
   "cell_type": "code",
   "execution_count": 1,
   "id": "c2356e9d-91c4-4e4c-8163-14195ec0bdcc",
   "metadata": {},
   "outputs": [
    {
     "name": "stdout",
     "output_type": "stream",
     "text": [
      "Violating SRP - one class with multiple responsibilities:\n",
      "\n",
      "Report Card for Alice Smith (ID: A12345)\n",
      "------------------------------\n",
      "Math: 85\n",
      "Science: 92\n",
      "History: 78\n",
      "------------------------------\n",
      "GPA: 85.00\n",
      "Saving student Alice Smith with ID A12345 to database...\n"
     ]
    }
   ],
   "source": [
    "# Violating SRP - one class doing too many things\n",
    "print(\"Violating SRP - one class with multiple responsibilities:\")\n",
    "\n",
    "\n",
    "class Student:\n",
    "    def __init__(self, name, student_id):\n",
    "        self.name = name\n",
    "        self.student_id = student_id\n",
    "        self.grades = []\n",
    "\n",
    "    def add_grade(self, course, grade):\n",
    "        \"\"\"Add a grade for a course.\"\"\"\n",
    "        self.grades.append({\"course\": course, \"grade\": grade})\n",
    "\n",
    "    def calculate_gpa(self):\n",
    "        \"\"\"Calculate the student's GPA.\"\"\"\n",
    "        if not self.grades:\n",
    "            return 0\n",
    "\n",
    "        total = sum(item[\"grade\"] for item in self.grades)\n",
    "        return total / len(self.grades)\n",
    "\n",
    "    def save_to_database(self):\n",
    "        \"\"\"Save student data to the database.\"\"\"\n",
    "        print(f\"Saving student {self.name} with ID {self.student_id} to database...\")\n",
    "        # Database code would go here\n",
    "\n",
    "    def print_report_card(self):\n",
    "        \"\"\"Print a report card for the student.\"\"\"\n",
    "        print(f\"\\nReport Card for {self.name} (ID: {self.student_id})\")\n",
    "        print(\"-\" * 30)\n",
    "\n",
    "        for item in self.grades:\n",
    "            print(f\"{item['course']}: {item['grade']}\")\n",
    "\n",
    "        print(\"-\" * 30)\n",
    "        print(f\"GPA: {self.calculate_gpa():.2f}\")\n",
    "\n",
    "\n",
    "# Using the SRP-violating class\n",
    "alice = Student(\"Alice Smith\", \"A12345\")\n",
    "alice.add_grade(\"Math\", 85)\n",
    "alice.add_grade(\"Science\", 92)\n",
    "alice.add_grade(\"History\", 78)\n",
    "alice.print_report_card()\n",
    "alice.save_to_database()"
   ]
  },
  {
   "cell_type": "code",
   "execution_count": 2,
   "id": "d7992eed-df03-4eee-8e25-1143865549b5",
   "metadata": {},
   "outputs": [
    {
     "name": "stdout",
     "output_type": "stream",
     "text": [
      "\n",
      "Following SRP - separate classes for different responsibilities:\n",
      "\n",
      "Report Card for Bob Johnson (ID: B67890)\n",
      "------------------------------\n",
      "Math: 90\n",
      "Science: 88\n",
      "History: 82\n",
      "------------------------------\n",
      "GPA: 86.67\n",
      "Saving student Bob Johnson with ID B67890 to database...\n"
     ]
    }
   ],
   "source": [
    "# Following SRP - separate responsibilities into different classes\n",
    "print(\"\\nFollowing SRP - separate classes for different responsibilities:\")\n",
    "\n",
    "\n",
    "class StudentData:\n",
    "    \"\"\"Responsible only for storing student data.\"\"\"\n",
    "\n",
    "    def __init__(self, name, student_id):\n",
    "        self.name = name\n",
    "        self.student_id = student_id\n",
    "        self.grades = []\n",
    "\n",
    "    def add_grade(self, course, grade):\n",
    "        \"\"\"Add a grade for a course.\"\"\"\n",
    "        self.grades.append({\"course\": course, \"grade\": grade})\n",
    "\n",
    "\n",
    "class GradeCalculator:\n",
    "    \"\"\"Responsible only for calculating grades.\"\"\"\n",
    "\n",
    "    @staticmethod\n",
    "    def calculate_gpa(student):\n",
    "        \"\"\"Calculate a student's GPA.\"\"\"\n",
    "        if not student.grades:\n",
    "            return 0\n",
    "\n",
    "        total = sum(item[\"grade\"] for item in student.grades)\n",
    "        return total / len(student.grades)\n",
    "\n",
    "\n",
    "class StudentRepository:\n",
    "    \"\"\"Responsible only for saving and loading student data.\"\"\"\n",
    "\n",
    "    @staticmethod\n",
    "    def save(student):\n",
    "        \"\"\"Save a student to the database.\"\"\"\n",
    "        print(\n",
    "            f\"Saving student {student.name} with ID {student.student_id} to database...\"\n",
    "        )\n",
    "        # Database code would go here\n",
    "\n",
    "    @staticmethod\n",
    "    def load(student_id):\n",
    "        \"\"\"Load a student from the database.\"\"\"\n",
    "        print(f\"Loading student with ID {student_id} from database...\")\n",
    "        # Database code would go here\n",
    "        return None  # Placeholder\n",
    "\n",
    "\n",
    "class ReportCardPrinter:\n",
    "    \"\"\"Responsible only for printing report cards.\"\"\"\n",
    "\n",
    "    @staticmethod\n",
    "    def print_report_card(student, calculator):\n",
    "        \"\"\"Print a report card for a student.\"\"\"\n",
    "        print(f\"\\nReport Card for {student.name} (ID: {student.student_id})\")\n",
    "        print(\"-\" * 30)\n",
    "\n",
    "        for item in student.grades:\n",
    "            print(f\"{item['course']}: {item['grade']}\")\n",
    "\n",
    "        print(\"-\" * 30)\n",
    "        print(f\"GPA: {calculator.calculate_gpa(student):.2f}\")\n",
    "\n",
    "\n",
    "# Using the SRP-compliant classes\n",
    "bob = StudentData(\"Bob Johnson\", \"B67890\")\n",
    "bob.add_grade(\"Math\", 90)\n",
    "bob.add_grade(\"Science\", 88)\n",
    "bob.add_grade(\"History\", 82)\n",
    "\n",
    "calculator = GradeCalculator()\n",
    "printer = ReportCardPrinter()\n",
    "repository = StudentRepository()\n",
    "\n",
    "printer.print_report_card(bob, calculator)\n",
    "repository.save(bob)"
   ]
  },
  {
   "cell_type": "markdown",
   "id": "3062c341-a258-413c-a592-77f86b3e7279",
   "metadata": {},
   "source": [
    "**Why this is better (SRP):**\n",
    "1. Each class has just one responsibility and one reason to change\n",
    "2. If we need to change how grades are calculated, we only update GradeCalculator\n",
    "3. If we need to change how reports are formatted, we only update ReportCardPrinter\n",
    "4. If we need to change the database, we only update StudentRepository\n",
    "5. Each class is simpler and easier to understand"
   ]
  },
  {
   "cell_type": "markdown",
   "id": "8256ee2e-1cf1-4ddf-b917-7052931f07b6",
   "metadata": {},
   "source": [
    "## Example 2: Open/Closed Principle (OCP)"
   ]
  },
  {
   "cell_type": "code",
   "execution_count": 7,
   "id": "46028790-0552-47f1-b35c-b9721728e133",
   "metadata": {},
   "outputs": [
    {
     "name": "stdout",
     "output_type": "stream",
     "text": [
      "Violating OCP - need to modify existing code to add new shapes:\n"
     ]
    }
   ],
   "source": [
    "# Violating OCP\n",
    "print(\"Violating OCP - need to modify existing code to add new shapes:\")\n",
    "\n",
    "\n",
    "class PaymentProcessor:\n",
    "    def process_payment(self, payment_type, amount):\n",
    "        if payment_type == \"credit_card\":\n",
    "            print(f\"Xử lý thanh toán thẻ tín dụng: {amount}\")\n",
    "        elif payment_type == \"paypal\":\n",
    "            print(f\"Xử lý thanh toán PayPal: {amount}\")\n",
    "        # Cần sửa đổi code mỗi khi thêm phương thức mới\n",
    "        # elif payment_type == \"momo\":\n",
    "        #     print(f\"Xử lý thanh toán MoMo: {amount}\")\n"
   ]
  },
  {
   "cell_type": "code",
   "execution_count": 8,
   "id": "460f0e73-f1c9-48e7-8c66-b021969c1716",
   "metadata": {},
   "outputs": [],
   "source": [
    "# Following OCP\n",
    "from abc import ABC, abstractmethod\n",
    "\n",
    "class PaymentProcessor(ABC):\n",
    "    @abstractmethod\n",
    "    def process(self, amount):\n",
    "        pass\n",
    "\n",
    "class CreditCardProcessor(PaymentProcessor):\n",
    "    def process(self, amount):\n",
    "        print(f\"Xử lý thanh toán thẻ tín dụng: {amount}\")\n",
    "\n",
    "class PayPalProcessor(PaymentProcessor):\n",
    "    def process(self, amount):\n",
    "        print(f\"Xử lý thanh toán PayPal: {amount}\")\n",
    "\n",
    "# Dễ dàng mở rộng thêm phương thức mới\n",
    "class MoMoProcessor(PaymentProcessor):\n",
    "    def process(self, amount):\n",
    "        print(f\"Xử lý thanh toán MoMo: {amount}\")"
   ]
  },
  {
   "cell_type": "markdown",
   "id": "89df02c7-188e-4801-a94f-b4f6acb2a283",
   "metadata": {},
   "source": [
    "**Why this is better (OCP):**\n",
    "1. We can add new shapes without changing the AreaCalculator class\n",
    "2. Each shape knows how to calculate its own area\n",
    "3. The calculator works with any shape that implements the area method\n",
    "4. This reduces the risk of breaking existing code when adding new features"
   ]
  },
  {
   "cell_type": "markdown",
   "id": "b3eea15d-da30-4b37-a8e8-a9f84656001b",
   "metadata": {},
   "source": [
    "## Example 3: Liskov Substitution Principle (LSP)"
   ]
  },
  {
   "cell_type": "code",
   "execution_count": 9,
   "id": "f2a606d7-819b-435e-9c14-f88b1d73615e",
   "metadata": {},
   "outputs": [
    {
     "name": "stdout",
     "output_type": "stream",
     "text": [
      "Violating LSP - the Square class breaks assumptions about the Rectangle:\n",
      "\n",
      "With a regular rectangle:\n",
      "Expected area: 30, Actual area: 30\n",
      "\n",
      "With a square (breaks the expected behavior):\n",
      "Expected area: 24, Actual area: 36\n"
     ]
    }
   ],
   "source": [
    "# Violating LSP\n",
    "print(\"Violating LSP - the Square class breaks assumptions about the Rectangle:\")\n",
    "\n",
    "\n",
    "class RectangleLSP:\n",
    "    def __init__(self, width, height):\n",
    "        self.width = width\n",
    "        self.height = height\n",
    "\n",
    "    def set_width(self, width):\n",
    "        self.width = width\n",
    "\n",
    "    def set_height(self, height):\n",
    "        self.height = height\n",
    "\n",
    "    def area(self):\n",
    "        return self.width * self.height\n",
    "\n",
    "\n",
    "class Square(RectangleLSP):\n",
    "    def __init__(self, side_length):\n",
    "        super().__init__(side_length, side_length)\n",
    "\n",
    "    # Override to maintain square property\n",
    "    def set_width(self, width):\n",
    "        self.width = width\n",
    "        self.height = width  # This breaks expected behavior!\n",
    "\n",
    "    # Override to maintain square property\n",
    "    def set_height(self, height):\n",
    "        self.width = height  # This breaks expected behavior!\n",
    "        self.height = height\n",
    "\n",
    "\n",
    "# This function expects a rectangle's behavior\n",
    "def increase_width_and_calculate_area(rectangle):\n",
    "    original_height = rectangle.height\n",
    "    rectangle.set_width(rectangle.width + 2)\n",
    "    # We expect the height to stay the same for rectangles\n",
    "    expected_area = (rectangle.width) * original_height\n",
    "    actual_area = rectangle.area()\n",
    "    print(f\"Expected area: {expected_area}, Actual area: {actual_area}\")\n",
    "\n",
    "\n",
    "# Using the LSP-violating code\n",
    "print(\"\\nWith a regular rectangle:\")\n",
    "rectangle = RectangleLSP(4, 5)\n",
    "increase_width_and_calculate_area(rectangle)\n",
    "\n",
    "print(\"\\nWith a square (breaks the expected behavior):\")\n",
    "square = Square(4)\n",
    "increase_width_and_calculate_area(square)"
   ]
  },
  {
   "cell_type": "code",
   "execution_count": 10,
   "id": "c1097db7-e94f-4e5b-ab1d-eb211dfc23ad",
   "metadata": {},
   "outputs": [
    {
     "name": "stdout",
     "output_type": "stream",
     "text": [
      "\n",
      "Following LSP - avoiding the inheritance when behavior differs:\n",
      "\n",
      "With the corrected approach, we don't try to use a square as a rectangle:\n",
      "Expected area: 30, Actual area: 30\n"
     ]
    }
   ],
   "source": [
    "# Following LSP\n",
    "print(\"\\nFollowing LSP - avoiding the inheritance when behavior differs:\")\n",
    "\n",
    "\n",
    "class Shape:\n",
    "    \"\"\"Base class for all shapes.\"\"\"\n",
    "\n",
    "    def area(self):\n",
    "        \"\"\"Calculate the area of the shape.\"\"\"\n",
    "        raise NotImplementedError(\"Subclasses must implement area()\")\n",
    "\n",
    "\n",
    "class RectangleBetter(Shape):\n",
    "    def __init__(self, width, height):\n",
    "        self.width = width\n",
    "        self.height = height\n",
    "\n",
    "    def set_width(self, width):\n",
    "        self.width = width\n",
    "\n",
    "    def set_height(self, height):\n",
    "        self.height = height\n",
    "\n",
    "    def area(self):\n",
    "        return self.width * self.height\n",
    "\n",
    "\n",
    "class SquareBetter(Shape):\n",
    "    def __init__(self, side_length):\n",
    "        self.side_length = side_length\n",
    "\n",
    "    def set_side_length(self, side_length):\n",
    "        self.side_length = side_length\n",
    "\n",
    "    def area(self):\n",
    "        return self.side_length * self.side_length\n",
    "\n",
    "\n",
    "# Using the LSP-compliant code\n",
    "# Note: We don't use SquareBetter where RectangleBetter is expected\n",
    "\n",
    "print(\"\\nWith the corrected approach, we don't try to use a square as a rectangle:\")\n",
    "rectangle = RectangleBetter(4, 5)\n",
    "increase_width_and_calculate_area(rectangle)  # Works as expected"
   ]
  },
  {
   "cell_type": "markdown",
   "id": "43f00d9a-041a-409d-9879-73677e6a6ab2",
   "metadata": {},
   "source": [
    "**Why this is better (LSP):**\n",
    "1. We don't pretend a square is a rectangle (though mathematically true)\n",
    "2. The Square class doesn't break the assumptions about Rectangle behavior\n",
    "3. Code that works with rectangles continues to work as expected\n",
    "4. We use a common interface (Shape) to represent different shapes without forcing inheritance"
   ]
  },
  {
   "cell_type": "code",
   "execution_count": 12,
   "id": "0b168206-a032-4205-9d57-b4419a347c27",
   "metadata": {},
   "outputs": [],
   "source": [
    "# Violated LSP\n",
    "class Bird:\n",
    "    def fly(self):\n",
    "        print(\"Bird can fly\")\n",
    "\n",
    "class Penguin(Bird):\n",
    "    def fly(self):\n",
    "        # Vi phạm LSP - ném exception\n",
    "        raise Exception(\"Penguin không thể bay!\")\n",
    "\n",
    "# Client code bị ảnh hưởng\n",
    "def let_bird_fly(bird):\n",
    "    bird.fly()  # Có thể gây lỗi nếu là Penguin\n"
   ]
  },
  {
   "cell_type": "code",
   "execution_count": 13,
   "id": "5e563f59-9fa8-433d-ab6e-f653713f06a2",
   "metadata": {},
   "outputs": [],
   "source": [
    "# Following LSP\n",
    "class FlyingCreature:\n",
    "    def fly(self):\n",
    "        print(\"Flying creature can fly\")\n",
    "\n",
    "class Bird(FlyingCreature):\n",
    "    pass\n",
    "\n",
    "class Penguin:  # Không kế thừa FlyingCreature\n",
    "    def swim(self):\n",
    "        print(\"Penguin can swim\")\n",
    "\n",
    "# Client code an toàn\n",
    "def let_fly(creature: FlyingCreature):\n",
    "    creature.fly()  # Luôn hoạt động đúng\n"
   ]
  },
  {
   "cell_type": "markdown",
   "id": "2db0b5eb-7a34-4f72-9310-bd903fae7d90",
   "metadata": {},
   "source": [
    "## Example 4: Interface Segregation Principle"
   ]
  },
  {
   "cell_type": "code",
   "execution_count": 14,
   "id": "8a7b70b4-7886-4539-8ba1-ffd0c24b856b",
   "metadata": {},
   "outputs": [],
   "source": [
    "# Violating ISP\n",
    "\n",
    "class AllDeviceActions:\n",
    "    def print(self): pass\n",
    "    def scan(self): pass\n",
    "    def fax(self): pass\n",
    "    def copy(self): pass\n",
    "\n",
    "class BasicPrinter(AllDeviceActions):\n",
    "    def print(self): \n",
    "        print(\"Printing...\")\n",
    "    # Phải cài đặt cả những phương thức không cần thiết\n",
    "    def scan(self): raise NotImplementedError()\n",
    "    def fax(self): raise NotImplementedError()\n",
    "    def copy(self): raise NotImplementedError()"
   ]
  },
  {
   "cell_type": "code",
   "execution_count": 15,
   "id": "9b8ce30c-b4f7-402e-8a73-708719341122",
   "metadata": {},
   "outputs": [],
   "source": [
    "# Following ISP\n",
    "class Printer:\n",
    "    def print(self): pass\n",
    "\n",
    "class Scanner:\n",
    "    def scan(self): pass\n",
    "\n",
    "class Fax:\n",
    "    def fax(self): pass\n",
    "\n",
    "class BasicPrinter(Printer):\n",
    "    def print(self):\n",
    "        print(\"Printing...\")\n",
    "\n",
    "class MultiFunctionDevice(Printer, Scanner, Fax):\n",
    "    def print(self): print(\"Printing...\")\n",
    "    def scan(self): print(\"Scanning...\")\n",
    "    def fax(self): print(\"Faxing...\")\n"
   ]
  },
  {
   "attachments": {},
   "cell_type": "markdown",
   "id": "1b79c120-3190-4f60-9182-07e2829135d3",
   "metadata": {},
   "source": [
    "## Example 5: Dependency Inversion Principle\n"
   ]
  },
  {
   "cell_type": "code",
   "execution_count": 16,
   "id": "a0b9cb93-bdf6-438c-9ccb-d0f9b304d28e",
   "metadata": {},
   "outputs": [],
   "source": [
    "# Viloating DIP\n",
    "\n",
    "class MySQLDatabase:\n",
    "    def save(self, data):\n",
    "        print(f\"Lưu {data} vào MySQL\")\n",
    "\n",
    "class UserService:\n",
    "    def __init__(self):\n",
    "        # Phụ thuộc trực tiếp vào MySQL\n",
    "        self.database = MySQLDatabase()\n",
    "        \n",
    "    def create_user(self, user_data):\n",
    "        # Logic xử lý user\n",
    "        self.database.save(user_data)\n",
    "        \n",
    "# Khi muốn đổi sang MongoDB sẽ phải\n",
    "# thay đổi code của UserService"
   ]
  },
  {
   "cell_type": "code",
   "execution_count": 17,
   "id": "a029cfe0-84f5-487b-ab42-fb0c473ff47f",
   "metadata": {},
   "outputs": [],
   "source": [
    "# Following DIP\n",
    "\n",
    "from abc import ABC, abstractmethod\n",
    "\n",
    "class Database(ABC):\n",
    "    @abstractmethod\n",
    "    def save(self, data): pass\n",
    "\n",
    "class MySQLDatabase(Database):\n",
    "    def save(self, data):\n",
    "        print(f\"Lưu {data} vào MySQL\")\n",
    "        \n",
    "class MongoDatabase(Database):\n",
    "    def save(self, data):\n",
    "        print(f\"Lưu {data} vào MongoDB\")\n",
    "\n",
    "class UserService:\n",
    "    def __init__(self, database: Database):\n",
    "        # Phụ thuộc vào abstraction\n",
    "        self.database = database\n",
    "        \n",
    "    def create_user(self, user_data):\n",
    "        # Logic xử lý user\n",
    "        self.database.save(user_data)\n",
    "        \n",
    "# Dễ dàng chuyển đổi database mà không\n",
    "# cần sửa đổi UserService\n",
    "service = UserService(MongoDatabase())\n"
   ]
  },
  {
   "cell_type": "markdown",
   "id": "381e56ba-a6a9-40ba-aee9-68fdadac0e84",
   "metadata": {},
   "source": [
    "# End"
   ]
  },
  {
   "cell_type": "code",
   "execution_count": null,
   "id": "dc161f8a-8e27-4001-a9ea-1645e0c6437b",
   "metadata": {},
   "outputs": [],
   "source": []
  }
 ],
 "metadata": {
  "kernelspec": {
   "display_name": "Python (myenv)",
   "language": "python",
   "name": "myenv"
  },
  "language_info": {
   "codemirror_mode": {
    "name": "ipython",
    "version": 3
   },
   "file_extension": ".py",
   "mimetype": "text/x-python",
   "name": "python",
   "nbconvert_exporter": "python",
   "pygments_lexer": "ipython3",
   "version": "3.10.6"
  }
 },
 "nbformat": 4,
 "nbformat_minor": 5
}
