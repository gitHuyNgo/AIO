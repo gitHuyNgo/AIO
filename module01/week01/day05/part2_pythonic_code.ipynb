{
 "cells": [
  {
   "cell_type": "markdown",
   "id": "38adf5dc-8c3e-4f51-b60c-4245226171ab",
   "metadata": {},
   "source": [
    "# Part 2: Pythonic Code"
   ]
  },
  {
   "cell_type": "markdown",
   "id": "b1cb7b40-9fac-4b21-bdad-0720c6704162",
   "metadata": {},
   "source": [
    "## Key principles for writing Pythonic code:\n",
    "1. Use list and dictionary comprehensions for creating collections\n",
    "2. Use 'in' for membership tests\n",
    "3. Use 'with' for file operations and resource management\n",
    "4. Unpack tuples and lists when appropriate\n",
    "5. Use specialized collections like defaultdict for common patterns\n",
    "6. Use f-strings for string formatting\n",
    "7. Use enumerate for loop counters\n",
    "8. Use slicing to work with portions of lists and strings\n",
    "9. Embrace the Python way of doing things - simple and expressive\n",
    "10. Remember: 'There should be one-- and preferably only one --obvious way to do it'"
   ]
  },
  {
   "cell_type": "markdown",
   "id": "1d5157a5-1db5-4dd8-b4c3-06d234797d76",
   "metadata": {},
   "source": [
    "## Example 1: List Comprehensions"
   ]
  },
  {
   "cell_type": "code",
   "execution_count": 1,
   "id": "95476138-c023-441d-80e1-ce618b0f2639",
   "metadata": {},
   "outputs": [
    {
     "name": "stdout",
     "output_type": "stream",
     "text": [
      "Non-Pythonic way:\n",
      "Squares: [1, 4, 9, 16, 25, 36, 49, 64, 81, 100]\n",
      "\n",
      "Pythonic way:\n",
      "Squares: [1, 4, 9, 16, 25, 36, 49, 64, 81, 100]\n"
     ]
    }
   ],
   "source": [
    "# Let's say we want to create a list of squares (1², 2², 3², etc.)\n",
    "\n",
    "# Non-Pythonic way (the way you might do it in other languages)\n",
    "print(\"Non-Pythonic way:\")\n",
    "squares = []\n",
    "for i in range(1, 11):  # Numbers 1 to 10\n",
    "    squares.append(i * i)\n",
    "    \n",
    "print(f\"Squares: {squares}\")\n",
    "\n",
    "# Pythonic way using list comprehension\n",
    "print(\"\\nPythonic way:\")\n",
    "squares_pythonic = [i * i for i in range(1, 11)]\n",
    "print(f\"Squares: {squares_pythonic}\")"
   ]
  },
  {
   "cell_type": "markdown",
   "id": "bee24ff8-0fdf-44ec-bab1-6d83302a6a66",
   "metadata": {},
   "source": [
    "**Why this is better:**\n",
    "- One line instead of three\n",
    "- Easier to read once you're familiar with the syntax\n",
    "- Often faster than the loop approach\n",
    "- This is the 'Python way' of creating lists from other sequences"
   ]
  },
  {
   "cell_type": "markdown",
   "id": "7c19e79f-e2e7-43fb-a352-bec614a0ef5e",
   "metadata": {},
   "source": [
    "## Example 2: Filtering with List Comprehensions"
   ]
  },
  {
   "cell_type": "code",
   "execution_count": 2,
   "id": "7122d2ee-cb7d-4c0f-80a9-a1cf76741eb3",
   "metadata": {},
   "outputs": [
    {
     "name": "stdout",
     "output_type": "stream",
     "text": [
      "Non-Pythonic way:\n",
      "Even numbers: [2, 4, 6, 8, 10, 12, 14, 16, 18, 20]\n",
      "\n",
      "Pythonic way:\n",
      "Even numbers: [2, 4, 6, 8, 10, 12, 14, 16, 18, 20]\n"
     ]
    }
   ],
   "source": [
    "# Let's create a list of even numbers between 1 and 20\n",
    "\n",
    "# Non-Pythonic way\n",
    "print(\"Non-Pythonic way:\")\n",
    "even_numbers = []\n",
    "for i in range(1, 21):\n",
    "    if i % 2 == 0:  # If i is even\n",
    "        even_numbers.append(i)\n",
    "        \n",
    "print(f\"Even numbers: {even_numbers}\")\n",
    "\n",
    "# Pythonic way\n",
    "print(\"\\nPythonic way:\")\n",
    "even_numbers_pythonic = [i for i in range(1, 21) if i % 2 == 0]\n",
    "print(f\"Even numbers: {even_numbers_pythonic}\")"
   ]
  },
  {
   "cell_type": "markdown",
   "id": "b2ded893-aac6-49b0-9f3e-4a9e617f7549",
   "metadata": {},
   "source": [
    "**Why this is better:**\n",
    "- Clearer intent - we're building a list of numbers that match a condition\n",
    "- More concise - one line instead of four\n",
    "- This pattern is very common in Python code"
   ]
  },
  {
   "cell_type": "markdown",
   "id": "5745e53d-44b4-4fe8-8b8f-6f8be26a6f80",
   "metadata": {},
   "source": [
    "## Example 3: Dictionary Comprehensions"
   ]
  },
  {
   "cell_type": "code",
   "execution_count": 3,
   "id": "80625c13-a8ce-4c55-a45b-62b1c18cc700",
   "metadata": {},
   "outputs": [
    {
     "name": "stdout",
     "output_type": "stream",
     "text": [
      "Non-Pythonic way:\n",
      "Dictionary of squares: {1: 1, 2: 4, 3: 9, 4: 16, 5: 25}\n",
      "\n",
      "Pythonic way:\n",
      "Dictionary of squares: {1: 1, 2: 4, 3: 9, 4: 16, 5: 25}\n"
     ]
    }
   ],
   "source": [
    "# Let's create a dictionary mapping numbers to their squares\n",
    "\n",
    "# Non-Pythonic way\n",
    "print(\"Non-Pythonic way:\")\n",
    "square_dict = {}\n",
    "for i in range(1, 6):\n",
    "    square_dict[i] = i * i\n",
    "    \n",
    "print(f\"Dictionary of squares: {square_dict}\")\n",
    "\n",
    "# Pythonic way\n",
    "print(\"\\nPythonic way:\")\n",
    "square_dict_pythonic = {i: i * i for i in range(1, 6)}\n",
    "print(f\"Dictionary of squares: {square_dict_pythonic}\")"
   ]
  },
  {
   "cell_type": "markdown",
   "id": "0de3b478-99b6-40f3-8f08-9406403f774e",
   "metadata": {},
   "source": [
    "**Why this is better:**\n",
    "- Creates the entire dictionary in one line\n",
    "- Similar pattern to list comprehensions, making it easy to remember\n",
    "- Very readable once you're familiar with the syntax"
   ]
  },
  {
   "cell_type": "markdown",
   "id": "475b136c-5cf1-425b-8e4d-f992187157ca",
   "metadata": {},
   "source": [
    "## Example 4: Using 'in' for Membership Tests"
   ]
  },
  {
   "cell_type": "code",
   "execution_count": 4,
   "id": "2adac9fc-4178-47da-aacc-34f65b2196cf",
   "metadata": {},
   "outputs": [
    {
     "name": "stdout",
     "output_type": "stream",
     "text": [
      "Non-Pythonic way:\n",
      "Found cherry: True\n",
      "\n",
      "Pythonic way:\n",
      "Found cherry: True\n",
      "\n",
      "Checking if a letter is in a string:\n",
      "'hello' contains 'e': True\n",
      "\n",
      "Checking if a key is in a dictionary:\n",
      "Dictionary has 'age' key: True\n"
     ]
    }
   ],
   "source": [
    "# Let's check if a value exists in a list\n",
    "\n",
    "fruits = [\"apple\", \"banana\", \"cherry\", \"date\", \"elderberry\"]\n",
    "\n",
    "# Non-Pythonic way (how you might do it in other languages)\n",
    "print(\"Non-Pythonic way:\")\n",
    "found = False\n",
    "for fruit in fruits:\n",
    "    if fruit == \"cherry\":\n",
    "        found = True\n",
    "        break\n",
    "        \n",
    "print(f\"Found cherry: {found}\")\n",
    "\n",
    "# Pythonic way\n",
    "print(\"\\nPythonic way:\")\n",
    "found_pythonic = \"cherry\" in fruits\n",
    "print(f\"Found cherry: {found_pythonic}\")\n",
    "\n",
    "# Also works for strings\n",
    "print(\"\\nChecking if a letter is in a string:\")\n",
    "word = \"hello\"\n",
    "contains_e = \"e\" in word\n",
    "print(f\"'hello' contains 'e': {contains_e}\")\n",
    "\n",
    "# And dictionaries (checks keys)\n",
    "print(\"\\nChecking if a key is in a dictionary:\")\n",
    "person = {\"name\": \"Alice\", \"age\": 30, \"city\": \"New York\"}\n",
    "has_age = \"age\" in person\n",
    "print(f\"Dictionary has 'age' key: {has_age}\")"
   ]
  },
  {
   "cell_type": "markdown",
   "id": "41528199-f4b9-42c0-8202-3de50aa973fe",
   "metadata": {},
   "source": [
    "**Why this is better:**\n",
    "- Much more concise and readable\n",
    "- Works with lists, strings, dictionaries, and other collections\n",
    "- This is how Python is meant to be written"
   ]
  },
  {
   "cell_type": "markdown",
   "id": "6e6e229b-c290-47ac-be23-719a2442fe93",
   "metadata": {},
   "source": [
    "## Example 5: Using 'with' for File Operations"
   ]
  },
  {
   "cell_type": "code",
   "execution_count": 5,
   "id": "f060f66b-49f7-4c3f-9a77-f11b3f888780",
   "metadata": {},
   "outputs": [
    {
     "name": "stdout",
     "output_type": "stream",
     "text": [
      "Non-Pythonic way:\n",
      "File content:\n",
      "Line 1: This is a test file.\n",
      "Line 2: It has three lines.\n",
      "Line 3: This is the last line.\n"
     ]
    }
   ],
   "source": [
    "# Create a simple file for our examples\n",
    "with open(\"example.txt\", \"w\") as file:\n",
    "    file.write(\"Line 1: This is a test file.\\n\")\n",
    "    file.write(\"Line 2: It has three lines.\\n\")\n",
    "    file.write(\"Line 3: This is the last line.\")\n",
    "\n",
    "# Non-Pythonic way to read a file\n",
    "print(\"Non-Pythonic way:\")\n",
    "file = open(\"example.txt\", \"r\")\n",
    "content = file.read()\n",
    "file.close()  # We have to remember to close the file!\n",
    "print(f\"File content:\\n{content}\")"
   ]
  },
  {
   "cell_type": "code",
   "execution_count": 6,
   "id": "1dc65756-432e-487e-92b7-ed7c5bd64350",
   "metadata": {},
   "outputs": [
    {
     "name": "stdout",
     "output_type": "stream",
     "text": [
      "\n",
      "Pythonic way:\n",
      "File content:\n",
      "Line 1: This is a test file.\n",
      "Line 2: It has three lines.\n",
      "Line 3: This is the last line.\n"
     ]
    }
   ],
   "source": [
    "# Pythonic way using 'with' (context manager)\n",
    "print(\"\\nPythonic way:\")\n",
    "with open(\"example.txt\", \"r\") as file:\n",
    "    content = file.read()\n",
    "    # No need to close the file - it happens automatically!\n",
    "print(f\"File content:\\n{content}\")"
   ]
  },
  {
   "cell_type": "markdown",
   "id": "e153223d-af91-4153-bc59-3850a3a37aeb",
   "metadata": {},
   "source": [
    "**Why this is better:**\n",
    "- The file is automatically closed when you exit the 'with' block\n",
    "- You can't forget to close the file, which could cause resource leaks\n",
    "- More concise and safer\n",
    "- This pattern is considered the correct way to handle files in Python"
   ]
  },
  {
   "cell_type": "markdown",
   "id": "280e30a0-77a3-4236-b101-e599d5b526de",
   "metadata": {},
   "source": [
    "## Example 6: Unpacking Tuples and Lists"
   ]
  },
  {
   "cell_type": "code",
   "execution_count": 7,
   "id": "b0242117-5914-43e0-ad95-8d4fd78f8c21",
   "metadata": {},
   "outputs": [
    {
     "name": "stdout",
     "output_type": "stream",
     "text": [
      "Non-Pythonic way:\n",
      "x: 10, y: 20\n",
      "\n",
      "Pythonic way:\n",
      "x: 10, y: 20\n",
      "\n",
      "Unpacking a list:\n",
      "x: 30, y: 40\n",
      "\n",
      "Multiple assignments:\n",
      "a: 1, b: 2, c: 3\n",
      "\n",
      "Swapping variables:\n",
      "Before swap: a = 10, b = 20\n",
      "After swap: a = 20, b = 10\n"
     ]
    }
   ],
   "source": [
    "# Working with coordinates\n",
    "\n",
    "# Non-Pythonic way\n",
    "print(\"Non-Pythonic way:\")\n",
    "point = (10, 20)\n",
    "x = point[0]\n",
    "y = point[1]\n",
    "print(f\"x: {x}, y: {y}\")\n",
    "\n",
    "# Pythonic way\n",
    "print(\"\\nPythonic way:\")\n",
    "point = (10, 20)\n",
    "x, y = point  # Unpacking the tuple\n",
    "print(f\"x: {x}, y: {y}\")\n",
    "\n",
    "# This works with lists too\n",
    "print(\"\\nUnpacking a list:\")\n",
    "coordinates = [30, 40]\n",
    "x, y = coordinates\n",
    "print(f\"x: {x}, y: {y}\")\n",
    "\n",
    "# Multiple assignments\n",
    "print(\"\\nMultiple assignments:\")\n",
    "a, b, c = 1, 2, 3\n",
    "print(f\"a: {a}, b: {b}, c: {c}\")\n",
    "\n",
    "# Swapping variables\n",
    "print(\"\\nSwapping variables:\")\n",
    "a, b = 10, 20\n",
    "print(f\"Before swap: a = {a}, b = {b}\")\n",
    "a, b = b, a  # Swap values\n",
    "print(f\"After swap: a = {a}, b = {b}\")"
   ]
  },
  {
   "cell_type": "markdown",
   "id": "53cd3489-a60d-45fd-be2f-43690aa5644c",
   "metadata": {},
   "source": [
    "**Why this is better:**\n",
    "- More concise and readable\n",
    "- Clearly shows the intent of the operation\n",
    "- Avoids creating temporary variables\n",
    "- Especially useful for functions that return multiple values"
   ]
  },
  {
   "cell_type": "markdown",
   "id": "18188bcb-2157-411d-96ea-6572149d3b27",
   "metadata": {},
   "source": [
    "## Example 7: Default Dictionaries"
   ]
  },
  {
   "cell_type": "code",
   "execution_count": 8,
   "id": "f415577f-36a6-4940-b824-68f7adef3ade",
   "metadata": {},
   "outputs": [
    {
     "name": "stdout",
     "output_type": "stream",
     "text": [
      "Non-Pythonic way:\n",
      "Word counts: {'the': 2, 'quick': 1, 'brown': 1, 'fox': 1, 'jumps': 1, 'over': 1, 'lazy': 1, 'dog': 1}\n",
      "\n",
      "Pythonic way:\n",
      "Word counts: {'the': 2, 'quick': 1, 'brown': 1, 'fox': 1, 'jumps': 1, 'over': 1, 'lazy': 1, 'dog': 1}\n"
     ]
    }
   ],
   "source": [
    "from collections import defaultdict\n",
    "\n",
    "# Let's count words in a sentence\n",
    "\n",
    "# Non-Pythonic way\n",
    "print(\"Non-Pythonic way:\")\n",
    "sentence = \"the quick brown fox jumps over the lazy dog\"\n",
    "words = sentence.split()\n",
    "\n",
    "word_counts = {}\n",
    "for word in words:\n",
    "    if word in word_counts:\n",
    "        word_counts[word] += 1\n",
    "    else:\n",
    "        word_counts[word] = 1\n",
    "        \n",
    "print(f\"Word counts: {word_counts}\")\n",
    "\n",
    "# Pythonic way using defaultdict\n",
    "print(\"\\nPythonic way:\")\n",
    "sentence = \"the quick brown fox jumps over the lazy dog\"\n",
    "words = sentence.split()\n",
    "\n",
    "word_counts = defaultdict(int)  # Default value is 0 for any new key\n",
    "for word in words:\n",
    "    word_counts[word] += 1\n",
    "    \n",
    "print(f\"Word counts: {dict(word_counts)}\")"
   ]
  },
  {
   "cell_type": "markdown",
   "id": "ab7edf64-63bc-48ea-8468-de40d8788de7",
   "metadata": {},
   "source": [
    "**Why this is better:**\n",
    "- No need to check if a key exists before incrementing\n",
    "- Reduces code and eliminates a common source of errors\n",
    "- The defaultdict handles missing keys automatically\n",
    "- Code is more concise and focused on what you're trying to do"
   ]
  },
  {
   "cell_type": "markdown",
   "id": "d09cfbb6-79e1-4ba9-8256-41ccf80eee00",
   "metadata": {},
   "source": [
    "## Example 8: String Formatting"
   ]
  },
  {
   "cell_type": "code",
   "execution_count": 9,
   "id": "e7d3b24d-4b9f-4378-b9e9-4eb12d4b49f7",
   "metadata": {},
   "outputs": [
    {
     "name": "stdout",
     "output_type": "stream",
     "text": [
      "Non-Pythonic ways:\n",
      "My name is Alice and I am 30 years old.\n",
      "My name is Alice and I am 30 years old.\n",
      "\n",
      "Pythonic way (f-strings):\n",
      "My name is Alice and I am 30 years old.\n",
      "\n",
      "F-strings with expressions:\n",
      "Alice will be 40 years old in 10 years.\n",
      "Alice's age squared is 900.\n"
     ]
    }
   ],
   "source": [
    "name = \"Alice\"\n",
    "age = 30\n",
    "\n",
    "# Non-Pythonic way (older style)\n",
    "print(\"Non-Pythonic ways:\")\n",
    "message1 = \"My name is \" + name + \" and I am \" + str(age) + \" years old.\"\n",
    "print(message1)\n",
    "\n",
    "message2 = \"My name is %s and I am %d years old.\" % (name, age)\n",
    "print(message2)\n",
    "\n",
    "# Pythonic way using f-strings (Python 3.6+)\n",
    "print(\"\\nPythonic way (f-strings):\")\n",
    "message3 = f\"My name is {name} and I am {age} years old.\"\n",
    "print(message3)\n",
    "\n",
    "# F-strings can include expressions\n",
    "print(\"\\nF-strings with expressions:\")\n",
    "print(f\"{name} will be {age + 10} years old in 10 years.\")\n",
    "print(f\"{name}'s age squared is {age * age}.\")"
   ]
  },
  {
   "cell_type": "markdown",
   "id": "646c66bb-d814-4c2c-a2c7-44fe885606a3",
   "metadata": {},
   "source": [
    "**Why this is better:**\n",
    "- More readable and concise\n",
    "- No need to convert numbers to strings manually\n",
    "- Expressions can be included directly in the string\n",
    "- Less error-prone (no need to match placeholders with arguments"
   ]
  },
  {
   "cell_type": "markdown",
   "id": "d4594f80-4231-471d-b61a-4586ced7ae3a",
   "metadata": {},
   "source": [
    "## Example 9: Using Enumerate for Loop Counters"
   ]
  },
  {
   "cell_type": "code",
   "execution_count": 10,
   "id": "2244d546-3cb2-4624-aac1-9e2b32460dd4",
   "metadata": {},
   "outputs": [
    {
     "name": "stdout",
     "output_type": "stream",
     "text": [
      "Non-Pythonic way:\n",
      "0: apple\n",
      "1: banana\n",
      "2: cherry\n",
      "3: date\n",
      "\n",
      "Pythonic way:\n",
      "0: apple\n",
      "1: banana\n",
      "2: cherry\n",
      "3: date\n",
      "\n",
      "Starting enumeration from 1:\n",
      "1: apple\n",
      "2: banana\n",
      "3: cherry\n",
      "4: date\n"
     ]
    }
   ],
   "source": [
    "fruits = [\"apple\", \"banana\", \"cherry\", \"date\"]\n",
    "\n",
    "# Non-Pythonic way\n",
    "print(\"Non-Pythonic way:\")\n",
    "index = 0\n",
    "for fruit in fruits:\n",
    "    print(f\"{index}: {fruit}\")\n",
    "    index += 1\n",
    "\n",
    "# Pythonic way using enumerate\n",
    "print(\"\\nPythonic way:\")\n",
    "for index, fruit in enumerate(fruits):\n",
    "    print(f\"{index}: {fruit}\")\n",
    "\n",
    "# You can also start the count from any number\n",
    "print(\"\\nStarting enumeration from 1:\")\n",
    "for index, fruit in enumerate(fruits, start=1):\n",
    "    print(f\"{index}: {fruit}\")"
   ]
  },
  {
   "cell_type": "markdown",
   "id": "ee8662e4-57ad-4913-b1fb-999835d0b41f",
   "metadata": {},
   "source": [
    "**Why this is better:**\n",
    "- No need to maintain a separate counter variable\n",
    "- More concise and less error-prone\n",
    "- Clearly expresses the intent to iterate with indices\n",
    "- Can start the count from any number with the 'start' parameter"
   ]
  },
  {
   "cell_type": "markdown",
   "id": "75bd5f80-2121-4cb5-884d-8e9bfe0756c0",
   "metadata": {},
   "source": [
    "## Example 10: Slicing Lists"
   ]
  },
  {
   "cell_type": "code",
   "execution_count": 11,
   "id": "0d6578cf-debc-4531-9ff4-42d8c5455089",
   "metadata": {},
   "outputs": [
    {
     "name": "stdout",
     "output_type": "stream",
     "text": [
      "Original list: [0, 1, 2, 3, 4, 5, 6, 7, 8, 9]\n",
      "\n",
      "Slicing examples:\n",
      "First 3 elements: [0, 1, 2]\n",
      "Elements 2 to 5: [2, 3, 4, 5]\n",
      "First 4 elements: [0, 1, 2, 3]\n",
      "Elements from index 6 to end: [6, 7, 8, 9]\n",
      "Last 3 elements: [7, 8, 9]\n",
      "All except last 2: [0, 1, 2, 3, 4, 5, 6, 7]\n",
      "Every second element: [0, 2, 4, 6, 8]\n",
      "Every third element, starting from index 1: [1, 4, 7]\n",
      "Reversed list: [9, 8, 7, 6, 5, 4, 3, 2, 1, 0]\n"
     ]
    }
   ],
   "source": [
    "numbers = [0, 1, 2, 3, 4, 5, 6, 7, 8, 9]\n",
    "\n",
    "print(\"Original list:\", numbers)\n",
    "\n",
    "# Getting a portion of the list\n",
    "print(\"\\nSlicing examples:\")\n",
    "print(f\"First 3 elements: {numbers[0:3]}\")  # Elements at index 0, 1, 2\n",
    "print(f\"Elements 2 to 5: {numbers[2:6]}\")   # Elements at index 2, 3, 4, 5\n",
    "\n",
    "# Using shortcuts\n",
    "print(f\"First 4 elements: {numbers[:4]}\")   # Start omitted - starts from 0\n",
    "print(f\"Elements from index 6 to end: {numbers[6:]}\")  # End omitted - goes to end\n",
    "\n",
    "# Negative indices\n",
    "print(f\"Last 3 elements: {numbers[-3:]}\")  # Start from 3rd-to-last to end\n",
    "print(f\"All except last 2: {numbers[:-2]}\")  # All elements except last 2\n",
    "\n",
    "# Step value\n",
    "print(f\"Every second element: {numbers[::2]}\")  # Step of 2\n",
    "print(f\"Every third element, starting from index 1: {numbers[1::3]}\")  # Start at index 1, step of 3\n",
    "\n",
    "# Reversing a list\n",
    "print(f\"Reversed list: {numbers[::-1]}\")  # Step of -1 reverses the list"
   ]
  },
  {
   "cell_type": "markdown",
   "id": "b194419c-38f0-4683-b5f4-82fa1b9737f7",
   "metadata": {},
   "source": [
    "**Why this is better:**\n",
    "- Very concise way to extract parts of lists\n",
    "- No need to write loops for common operations\n",
    "- Works on strings and tuples too\n",
    "- Creates a new list without modifying the original"
   ]
  },
  {
   "cell_type": "code",
   "execution_count": 13,
   "id": "9e888a68-e31c-4780-b6b3-ead057a35318",
   "metadata": {},
   "outputs": [],
   "source": [
    "!touch file.txt"
   ]
  },
  {
   "cell_type": "code",
   "execution_count": 14,
   "id": "0b321933-c65b-447c-beb6-033ec0ec0f4c",
   "metadata": {},
   "outputs": [
    {
     "name": "stdout",
     "output_type": "stream",
     "text": [
      "\n"
     ]
    }
   ],
   "source": [
    "# Context manager\n",
    "from contextlib import contextmanager\n",
    "\n",
    "@contextmanager\n",
    "def file_reader(filename):\n",
    "    # Phần setup: mở file (được thực thi trước yield)\n",
    "    f = open(filename, \"r\")\n",
    "    try:\n",
    "        # Trả về tài nguyên cho khối with\n",
    "        yield f\n",
    "    finally:\n",
    "        # Phần cleanup: luôn đóng file (được thực thi sau khối with)\n",
    "        f.close()\n",
    "\n",
    "# Sử dụng context manager tự tạo\n",
    "with file_reader(\"file.txt\") as file:\n",
    "    print(file.read())"
   ]
  },
  {
   "cell_type": "code",
   "execution_count": 15,
   "id": "cc7a4797-8005-4384-ad19-c0ae5b2d26f7",
   "metadata": {},
   "outputs": [],
   "source": [
    "# Excercises\n",
    "nums = [1, 2, 3, 4, 5]\n",
    "result = []\n",
    "for num in nums:\n",
    "    if num % 2 == 0:\n",
    "        result.append(num ** 2)\n",
    "\n",
    "# Ví dụ 2: Tạo từ điển\n",
    "names = ['Anna', 'Bob', 'Charlie']\n",
    "ages = [25, 30, 35]\n",
    "info = {}\n",
    "for i in range(len(names)):\n",
    "    info[names[i]] = ages[i]\n",
    "\n",
    "# Ví dụ 3: Tìm số lớn nhất\n",
    "numbers = [10, 5, 8, 20, 3]\n",
    "max_num = numbers[0]\n",
    "for n in numbers[1:]:\n",
    "    if n > max_num:\n",
    "        max_num = n"
   ]
  },
  {
   "cell_type": "code",
   "execution_count": 16,
   "id": "37fc7db9-1b27-4c73-b5fb-8becd1def3ad",
   "metadata": {},
   "outputs": [
    {
     "name": "stdout",
     "output_type": "stream",
     "text": [
      "12\n"
     ]
    }
   ],
   "source": [
    "# @property\n",
    "class Rectangle:\n",
    "    def __init__(self, width, height):\n",
    "        self.width = width\n",
    "        self.height = height\n",
    "        \n",
    "    @property\n",
    "    def area(self):\n",
    "        return self.width * self.height\n",
    "\n",
    "rect = Rectangle(3, 4)\n",
    "print(rect.area)  # 12 (không cần rect.area())"
   ]
  },
  {
   "cell_type": "code",
   "execution_count": 17,
   "id": "8b844590-b56d-4947-81a4-d6f46ca4207c",
   "metadata": {},
   "outputs": [
    {
     "name": "stdout",
     "output_type": "stream",
     "text": [
      "1\n",
      "2\n",
      "3\n"
     ]
    }
   ],
   "source": [
    "# Underscore\n",
    "class Sample:\n",
    "    def __init__(self):\n",
    "        self.public = 1        # Biến public thông thường\n",
    "        self._private = 2      # Quy ước private, vẫn truy cập được\n",
    "        self.__mangled = 3     # Tự động chuyển thành _Sample__mangled\n",
    "\n",
    "obj = Sample()\n",
    "print(obj.public)     # 1\n",
    "print(obj._private)   # 2 (cảnh báo: không nên truy cập theo quy ước)\n",
    "# print(obj.__mangled)  # AttributeError\n",
    "print(obj._Sample__mangled)  # 3 (truy cập được qua tên đã \"mangled\")\n"
   ]
  },
  {
   "cell_type": "code",
   "execution_count": 18,
   "id": "333b00b2-a2b6-43f7-a2bd-c6e42f8a2b8e",
   "metadata": {},
   "outputs": [],
   "source": [
    "# Sample answer\n",
    "nums = [1, 2, 3, 4, 5]\n",
    "# List comprehension thay vì vòng lặp for\n",
    "result = [num**2 for num in nums if num % 2 == 0]\n",
    "\n",
    "# Ví dụ 2: Sử dụng zip() và dict comprehension\n",
    "names = ['Anna', 'Bob', 'Charlie']\n",
    "ages = [25, 30, 35]\n",
    "info = dict(zip(names, ages))\n",
    "# Hoặc\n",
    "info = {name: age for name, age in zip(names, ages)}\n",
    "\n",
    "# Ví dụ 3: Sử dụng hàm built-in max()\n",
    "numbers = [10, 5, 8, 20, 3]\n",
    "max_num = max(numbers)\n"
   ]
  },
  {
   "cell_type": "code",
   "execution_count": null,
   "id": "12e5553f-9022-46da-b19c-426969d4f851",
   "metadata": {},
   "outputs": [],
   "source": []
  },
  {
   "cell_type": "markdown",
   "id": "046fe7bd-0d04-4e8c-8537-094cab9f53e9",
   "metadata": {},
   "source": [
    "# Clean up"
   ]
  },
  {
   "cell_type": "code",
   "execution_count": 19,
   "id": "d3b9fe98-353d-435b-a6c5-a4ebc73f6d5d",
   "metadata": {},
   "outputs": [
    {
     "name": "stdout",
     "output_type": "stream",
     "text": [
      "\n",
      "Cleaned up example file\n"
     ]
    }
   ],
   "source": [
    "import os\n",
    "\n",
    "if os.path.exists(\"example.txt\"):\n",
    "    os.remove(\"example.txt\")\n",
    "    print(\"\\nCleaned up example file\")"
   ]
  },
  {
   "cell_type": "markdown",
   "id": "bc1e3e17-cbb5-4396-a700-67a99326f6f9",
   "metadata": {},
   "source": [
    "# End"
   ]
  }
 ],
 "metadata": {
  "kernelspec": {
   "display_name": "Python (myenv)",
   "language": "python",
   "name": "myenv"
  },
  "language_info": {
   "codemirror_mode": {
    "name": "ipython",
    "version": 3
   },
   "file_extension": ".py",
   "mimetype": "text/x-python",
   "name": "python",
   "nbconvert_exporter": "python",
   "pygments_lexer": "ipython3",
   "version": "3.10.6"
  }
 },
 "nbformat": 4,
 "nbformat_minor": 5
}
