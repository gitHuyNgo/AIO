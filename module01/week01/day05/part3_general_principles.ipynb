{
 "cells": [
  {
   "cell_type": "markdown",
   "id": "8b8a09a8-e6c7-42cd-ac50-5b263732db53",
   "metadata": {},
   "source": [
    "# Part 3: General Principles of Clean Code"
   ]
  },
  {
   "cell_type": "markdown",
   "id": "8b22c8f1-fc55-4a3c-bf87-b77d08f0cf8c",
   "metadata": {},
   "source": [
    "## Example 1: DRY (Don't Repeat Yourself)"
   ]
  },
  {
   "cell_type": "code",
   "execution_count": 1,
   "id": "ff592f82-c3c0-40b1-90cc-0dbb3ea6e70e",
   "metadata": {},
   "outputs": [
    {
     "name": "stdout",
     "output_type": "stream",
     "text": [
      "WET example (not DRY):\n",
      "Good morning, Alice!\n",
      "I hope you have a wonderful day.\n",
      "Don't forget to drink water and take breaks.\n",
      "------------------------------------------------\n",
      "Good evening, Bob!\n",
      "I hope you had a wonderful day.\n",
      "Don't forget to drink water and take breaks.\n",
      "------------------------------------------------\n"
     ]
    }
   ],
   "source": [
    "# Let's create a program to print greeting messages\n",
    "\n",
    "# WET example (Write Everything Twice) - Not DRY\n",
    "print(\"WET example (not DRY):\")\n",
    "\n",
    "\n",
    "def print_morning_greeting(name):\n",
    "    print(f\"Good morning, {name}!\")\n",
    "    print(\"I hope you have a wonderful day.\")\n",
    "    print(\"Don't forget to drink water and take breaks.\")\n",
    "    print(\"------------------------------------------------\")\n",
    "\n",
    "\n",
    "def print_evening_greeting(name):\n",
    "    print(f\"Good evening, {name}!\")\n",
    "    print(\"I hope you had a wonderful day.\")\n",
    "    print(\"Don't forget to drink water and take breaks.\")\n",
    "    print(\"------------------------------------------------\")\n",
    "\n",
    "\n",
    "print_morning_greeting(\"Alice\")\n",
    "print_evening_greeting(\"Bob\")"
   ]
  },
  {
   "cell_type": "code",
   "execution_count": 2,
   "id": "69e9ed5f-2814-4778-8646-d179a6250be3",
   "metadata": {},
   "outputs": [
    {
     "name": "stdout",
     "output_type": "stream",
     "text": [
      "\n",
      "DRY example:\n",
      "Good morning, Alice!\n",
      "I hope you have a wonderful day.\n",
      "Don't forget to drink water and take breaks.\n",
      "------------------------------------------------\n",
      "Good evening, Bob!\n",
      "I hope you had a wonderful day.\n",
      "Don't forget to drink water and take breaks.\n",
      "------------------------------------------------\n"
     ]
    }
   ],
   "source": [
    "# DRY example\n",
    "print(\"\\nDRY example:\")\n",
    "\n",
    "\n",
    "def print_greeting(name, time_of_day):\n",
    "    print(f\"Good {time_of_day}, {name}!\")\n",
    "    print(\n",
    "        f\"I hope you {'have' if time_of_day == 'morning' else 'had'} a wonderful day.\"\n",
    "    )\n",
    "    print(\"Don't forget to drink water and take breaks.\")\n",
    "    print(\"------------------------------------------------\")\n",
    "\n",
    "\n",
    "print_greeting(\"Alice\", \"morning\")\n",
    "print_greeting(\"Bob\", \"evening\")"
   ]
  },
  {
   "cell_type": "markdown",
   "id": "c2369ae7-8d3d-44f2-a40c-f6d97a89fe52",
   "metadata": {},
   "source": [
    "**Why DRY is better:**\n",
    "- Less code to write and maintain\n",
    "- If you need to change the message, you only need to change it in one place\n",
    "- Reduces the chance of errors from inconsistent updates\n",
    "- Makes the code more focused on what's different (morning vs evening)"
   ]
  },
  {
   "cell_type": "markdown",
   "id": "b8cc34c6-4ac5-4f3a-95cb-a6944aaf7c36",
   "metadata": {},
   "source": [
    "## Example 2: YAGNI (You Aren't Gonna Need It)"
   ]
  },
  {
   "cell_type": "code",
   "execution_count": 3,
   "id": "3dd1e3d0-3a17-44d9-b1d4-dbede9f20889",
   "metadata": {},
   "outputs": [
    {
     "name": "stdout",
     "output_type": "stream",
     "text": [
      "Violating YAGNI example:\n"
     ]
    }
   ],
   "source": [
    "# Violating YAGNI - building extra features \"just in case\"\n",
    "print(\"Violating YAGNI example:\")\n",
    "\n",
    "class SuperCalculator:\n",
    "    \"\"\"A calculator with many features we might not need.\"\"\"\n",
    "\n",
    "    def __init__(self):\n",
    "        self.history = []\n",
    "        self.memory = 0\n",
    "        self.scientific_mode = False\n",
    "        self.conversion_rates = {\n",
    "            \"USD_to_EUR\": 0.85,\n",
    "            \"EUR_to_USD\": 1.18,\n",
    "            \"USD_to_GBP\": 0.73,\n",
    "            \"GBP_to_USD\": 1.37,\n",
    "            # ... dozens more conversion rates\n",
    "        }\n",
    "\n",
    "    def add(self, a, b):\n",
    "        \"\"\"Add two numbers.\"\"\"\n",
    "        result = a + b\n",
    "        self.history.append(f\"{a} + {b} = {result}\")\n",
    "        return result\n",
    "\n",
    "    def subtract(self, a, b):\n",
    "        \"\"\"Subtract b from a.\"\"\"\n",
    "        result = a - b\n",
    "        self.history.append(f\"{a} - {b} = {result}\")\n",
    "        return result\n",
    "\n",
    "    def toggle_scientific_mode(self):\n",
    "        \"\"\"Toggle scientific mode.\"\"\"\n",
    "        self.scientific_mode = not self.scientific_mode\n",
    "        return self.scientific_mode\n",
    "\n",
    "    # ..."
   ]
  },
  {
   "cell_type": "code",
   "execution_count": 4,
   "id": "edbd083d-d97b-4f70-b283-b59b6b73e6ca",
   "metadata": {},
   "outputs": [
    {
     "name": "stdout",
     "output_type": "stream",
     "text": [
      "\n",
      "Following YAGNI example:\n",
      "5 + 3 = 8\n"
     ]
    }
   ],
   "source": [
    "# Following YAGNI - start with what you need now\n",
    "print(\"\\nFollowing YAGNI example:\")\n",
    "\n",
    "class SimpleCalculator:\n",
    "    \"\"\"A calculator that starts with just what we need.\"\"\"\n",
    "\n",
    "    def add(self, a, b):\n",
    "        \"\"\"Add two numbers.\"\"\"\n",
    "        return a + b\n",
    "\n",
    "    def subtract(self, a, b):\n",
    "        \"\"\"Subtract b from a.\"\"\"\n",
    "        return a - b\n",
    "\n",
    "    # We can add more methods later when we actually need them\n",
    "\n",
    "# Using the simple calculator\n",
    "simple_calc = SimpleCalculator()\n",
    "result = simple_calc.add(5, 3)\n",
    "print(f\"5 + 3 = {result}\")"
   ]
  },
  {
   "cell_type": "markdown",
   "id": "4b29183c-7008-4591-a3c8-f13c6cf79f8e",
   "metadata": {},
   "source": [
    "**Why YAGNI is better:**\n",
    "- Simpler code with less to maintain\n",
    "- Faster development of what you actually need\n",
    "- Avoid wasting time on features that might never be used\n",
    "- You can always add features when you have a clear requirement\n",
    "- Prevents over-engineering and feature bloat"
   ]
  },
  {
   "cell_type": "markdown",
   "id": "31ffeed8-82b6-4384-a188-e32cc55e83fa",
   "metadata": {},
   "source": [
    "## Example 3: KISS (Keep It Simple, Stupid)"
   ]
  },
  {
   "cell_type": "code",
   "execution_count": 5,
   "id": "d0a7c23b-91bc-4ec7-9356-5c03c6ebc1f4",
   "metadata": {},
   "outputs": [
    {
     "name": "stdout",
     "output_type": "stream",
     "text": [
      "Overly complex example (violating KISS):\n"
     ]
    }
   ],
   "source": [
    "# Overly complex - violating KISS\n",
    "print(\"Overly complex example (violating KISS):\")\n",
    "\n",
    "def is_even_complex(number):\n",
    "    \"\"\"Determine if a number is even using a complex algorithm.\"\"\"\n",
    "    # Convert to binary string\n",
    "    binary = bin(number)[2:]  # Remove '0b' prefix\n",
    "\n",
    "    # Check last digit of binary (1 for odd, 0 for even)\n",
    "    last_digit = binary[-1]\n",
    "\n",
    "    # Convert to integer and check if it's zero\n",
    "    return int(last_digit) == 0"
   ]
  },
  {
   "cell_type": "code",
   "execution_count": 6,
   "id": "651e359f-7113-4bd7-b308-36a1a950fa9b",
   "metadata": {},
   "outputs": [
    {
     "name": "stdout",
     "output_type": "stream",
     "text": [
      "\n",
      "Simple approach (following KISS):\n",
      "Testing both functions:\n",
      "2: Complex: True, Simple: True\n",
      "5: Complex: False, Simple: False\n",
      "10: Complex: True, Simple: True\n",
      "15: Complex: False, Simple: False\n",
      "22: Complex: True, Simple: True\n",
      "27: Complex: False, Simple: False\n"
     ]
    }
   ],
   "source": [
    "# Simple approach - following KISS\n",
    "print(\"\\nSimple approach (following KISS):\")\n",
    "\n",
    "def is_even_simple(number):\n",
    "    \"\"\"Determine if a number is even using the modulo operator.\"\"\"\n",
    "    return number % 2 == 0\n",
    "\n",
    "# Test both functions\n",
    "test_numbers = [2, 5, 10, 15, 22, 27]\n",
    "print(\"Testing both functions:\")\n",
    "\n",
    "for num in test_numbers:\n",
    "    complex_result = is_even_complex(num)\n",
    "    simple_result = is_even_simple(num)\n",
    "    print(f\"{num}: Complex: {complex_result}, Simple: {simple_result}\")"
   ]
  },
  {
   "cell_type": "markdown",
   "id": "abd1da49-7981-4c8a-8190-abd92cc343ab",
   "metadata": {},
   "source": [
    "**Why KISS is better:**\n",
    "- Simpler code is easier to understand\n",
    "- Fewer opportunities for bugs\n",
    "- Usually more efficient\n",
    "- Easier to maintain\n",
    "- Other developers will thank you\n",
    "- 'Perfection is achieved not when there is nothing more to add, but when there is nothing left to take away'"
   ]
  },
  {
   "cell_type": "markdown",
   "id": "02fe14a4-01ed-4a55-b6f1-65f6a886eead",
   "metadata": {},
   "source": [
    "## Example 4: Defensive Programming"
   ]
  },
  {
   "cell_type": "code",
   "execution_count": 7,
   "id": "5038078a-5237-4900-93df-9d2b2bf22144",
   "metadata": {},
   "outputs": [
    {
     "ename": "ZeroDivisionError",
     "evalue": "division by zero",
     "output_type": "error",
     "traceback": [
      "\u001b[0;31m---------------------------------------------------------------------------\u001b[0m",
      "\u001b[0;31mZeroDivisionError\u001b[0m                         Traceback (most recent call last)",
      "Cell \u001b[0;32mIn[7], line 5\u001b[0m\n\u001b[1;32m      2\u001b[0m \u001b[38;5;28;01mdef\u001b[39;00m \u001b[38;5;21mdivide\u001b[39m(a, b):\n\u001b[1;32m      3\u001b[0m     \u001b[38;5;28;01mreturn\u001b[39;00m a \u001b[38;5;241m/\u001b[39m b\n\u001b[0;32m----> 5\u001b[0m \u001b[38;5;28mprint\u001b[39m(\u001b[43mdivide\u001b[49m\u001b[43m(\u001b[49m\u001b[38;5;241;43m5\u001b[39;49m\u001b[43m,\u001b[49m\u001b[43m \u001b[49m\u001b[38;5;241;43m0\u001b[39;49m\u001b[43m)\u001b[49m)  \u001b[38;5;66;03m# lỗi ZeroDivisionError\u001b[39;00m\n\u001b[1;32m      7\u001b[0m \u001b[38;5;28;01mdef\u001b[39;00m \u001b[38;5;21mget_element\u001b[39m(lst, index):\n\u001b[1;32m      8\u001b[0m     \u001b[38;5;28;01mreturn\u001b[39;00m lst[index]  \u001b[38;5;66;03m# Lỗi nếu index ngoài range\u001b[39;00m\n",
      "Cell \u001b[0;32mIn[7], line 3\u001b[0m, in \u001b[0;36mdivide\u001b[0;34m(a, b)\u001b[0m\n\u001b[1;32m      2\u001b[0m \u001b[38;5;28;01mdef\u001b[39;00m \u001b[38;5;21mdivide\u001b[39m(a, b):\n\u001b[0;32m----> 3\u001b[0m     \u001b[38;5;28;01mreturn\u001b[39;00m \u001b[43ma\u001b[49m\u001b[43m \u001b[49m\u001b[38;5;241;43m/\u001b[39;49m\u001b[43m \u001b[49m\u001b[43mb\u001b[49m\n",
      "\u001b[0;31mZeroDivisionError\u001b[0m: division by zero"
     ]
    }
   ],
   "source": [
    "# Non-defensive programming\n",
    "def divide(a, b):\n",
    "    return a / b\n",
    "\n",
    "print(divide(5, 0))  # lỗi ZeroDivisionError\n",
    "\n",
    "def get_element(lst, index):\n",
    "    return lst[index]  # Lỗi nếu index ngoài range"
   ]
  },
  {
   "cell_type": "code",
   "execution_count": null,
   "id": "37dd9d36-fb73-4f7c-a4e3-2686e0345875",
   "metadata": {},
   "outputs": [],
   "source": [
    "# Defensive programming\n",
    "def divide(a, b):\n",
    "    if not isinstance(a, (int, float)) or not isinstance(b, (int, float)):\n",
    "        raise TypeError(\"Tham số phải là số.\")\n",
    "    if b == 0:\n",
    "        raise ValueError(\"Không thể chia cho 0.\")\n",
    "    return a / b\n",
    "\n",
    "def get_element(lst, index):\n",
    "    if not isinstance(lst, list):\n",
    "        raise TypeError(\"Tham số phải là list.\")\n",
    "    if index < 0 or index >= len(lst):\n",
    "        return None  # Hoặc giá trị mặc định thay vì lỗi\n",
    "    return lst[index]"
   ]
  },
  {
   "cell_type": "code",
   "execution_count": null,
   "id": "a2bf83b1-51bf-4476-90b3-51794f45c225",
   "metadata": {},
   "outputs": [],
   "source": []
  },
  {
   "cell_type": "code",
   "execution_count": null,
   "id": "54a50ca9-4f2a-4228-aaed-139736b9864a",
   "metadata": {},
   "outputs": [],
   "source": [
    "# Non-defensive programming\n",
    "print(\"Non-defensive programming example:\")\n",
    "\n",
    "def calculate_average_score(scores):\n",
    "    # Calculate the average score\n",
    "    average = sum(scores) / len(scores)\n",
    "    return average\n",
    "\n",
    "# This works fine with valid input\n",
    "valid_scores = [85, 90, 75, 88]\n",
    "print(f\"Average of valid scores: {calculate_average_score(valid_scores)}\")\n",
    "\n",
    "# But it breaks with invalid input\n",
    "try:\n",
    "    print(calculate_average_score([]))  # Empty list\n",
    "except ZeroDivisionError as e:\n",
    "    print(f\"Error: {e}\")\n",
    "\n",
    "try:\n",
    "    print(calculate_average_score(None))  # None\n",
    "except TypeError as e:\n",
    "    print(f\"Error: {e}\")"
   ]
  },
  {
   "cell_type": "code",
   "execution_count": null,
   "id": "601bbd4d-f669-4c4a-ac98-a87adab9918c",
   "metadata": {},
   "outputs": [],
   "source": [
    "# Defensive programming\n",
    "print(\"\\nDefensive programming example:\")\n",
    "\n",
    "def calculate_average_score_safe(scores):\n",
    "    \"\"\"\n",
    "    Calculate the average of a list of scores.\n",
    "\n",
    "    Args:\n",
    "        scores: A list of numeric scores\n",
    "\n",
    "    Returns:\n",
    "        The average of the scores, or None if input is invalid\n",
    "    \"\"\"\n",
    "    # Check if scores is None\n",
    "    if scores is None:\n",
    "        print(\"Error: scores cannot be None\")\n",
    "        return None\n",
    "\n",
    "    # Check if scores is a list\n",
    "    if not isinstance(scores, list):\n",
    "        print(f\"Error: scores must be a list, not {type(scores).__name__}\")\n",
    "        return None\n",
    "\n",
    "    # Check if the list is empty\n",
    "    if len(scores) == 0:\n",
    "        print(\"Error: scores list cannot be empty\")\n",
    "        return None\n",
    "\n",
    "    # Check if all scores are numbers\n",
    "    for score in scores:\n",
    "        if not isinstance(score, (int, float)):\n",
    "            print(f\"Error: all scores must be numbers, found {type(score).__name__}\")\n",
    "            return None\n",
    "\n",
    "    # If we get here, the input is valid\n",
    "    average = sum(scores) / len(scores)\n",
    "    return average\n",
    "\n",
    "# Test the improved function\n",
    "print(f\"Safe average of valid scores: {calculate_average_score_safe(valid_scores)}\")\n",
    "print(f\"Safe average of empty list: {calculate_average_score_safe([])}\")\n",
    "print(f\"Safe average of None: {calculate_average_score_safe(None)}\")\n",
    "print(f\"Safe average of non-list: {calculate_average_score_safe('not a list')}\")\n",
    "print(f\"Safe average with non-numeric scores: {calculate_average_score_safe([85, 90, 'A', 88])}\")"
   ]
  },
  {
   "cell_type": "markdown",
   "id": "cb30b8f8-b254-44e4-be04-1827df4e094d",
   "metadata": {},
   "source": [
    "**Why defensive programming is better:**\n",
    "- Prevents crashes from unexpected input\n",
    "- Provides clear error messages about what went wrong\n",
    "- Makes assumptions explicit (e.g., scores should be a non-empty list of numbers)\n",
    "- Makes the code more robust and reliable"
   ]
  },
  {
   "attachments": {},
   "cell_type": "markdown",
   "id": "434d09f0-dcb5-4f42-9682-ab0990611923",
   "metadata": {},
   "source": [
    "## Example 5: Separation of Concerns"
   ]
  },
  {
   "cell_type": "code",
   "execution_count": null,
   "id": "79bd8ffb-eb4d-43d6-bde7-322757ed537f",
   "metadata": {},
   "outputs": [],
   "source": [
    "# Bad example\n",
    "def process_user_data(user):\n",
    "    # Xác thực dữ liệu\n",
    "    if not user.email or '@' not in user.email:\n",
    "        return False\n",
    "        \n",
    "    # Lưu vào database\n",
    "    db.connect()\n",
    "    db.execute(\"INSERT INTO users VALUES (?)\", \n",
    "              (user.to_dict(),))\n",
    "    db.commit()\n",
    "    \n",
    "    # Gửi email\n",
    "    smtp = SMTP('smtp.example.com')\n",
    "    smtp.login('user', 'password')\n",
    "    smtp.send_mail(\n",
    "        to=user.email,\n",
    "        subject=\"Chào mừng bạn!\",\n",
    "        body=\"Cảm ơn đã đăng ký...\")\n",
    "    \n",
    "    # Tạo báo cáo\n",
    "    report = {\"user\": user.id, \"time\": time.now()}\n",
    "    with open('report.json', 'w') as f:\n",
    "        json.dump(report, f)\n"
   ]
  },
  {
   "cell_type": "code",
   "execution_count": null,
   "id": "46de1e84-d6c9-49d0-ac3a-8e9e55d41575",
   "metadata": {},
   "outputs": [],
   "source": [
    "# Good example\n",
    "def process_user_data(user):\n",
    "    if validate_user(user):\n",
    "        save_user(user)\n",
    "        notify_user(user)\n",
    "        log_activity(user)\n",
    "\n",
    "def validate_user(user):\n",
    "    return bool(user.email and '@' in user.email)\n",
    "\n",
    "def save_user(user):\n",
    "    repository = UserRepository()\n",
    "    repository.add(user)\n",
    "\n",
    "def notify_user(user):\n",
    "    email_service = EmailService()\n",
    "    email_service.send_welcome(user.email)\n",
    "\n",
    "def log_activity(user):\n",
    "    reporter = ActivityReporter()\n",
    "    reporter.create_registration_report(user.id)\n"
   ]
  },
  {
   "cell_type": "markdown",
   "id": "8167b56a-ac32-46fe-a162-546f1cc3ccf0",
   "metadata": {},
   "source": [
    "## Example 6: Eror handling"
   ]
  },
  {
   "cell_type": "code",
   "execution_count": null,
   "id": "b1232bf8-3ed5-490a-bd39-3a95867d1e19",
   "metadata": {},
   "outputs": [],
   "source": [
    "# Bad example\n",
    "try:\n",
    "    with open(\"file.txt\") as f:\n",
    "        data = f.read()\n",
    "        parsed = json.loads(data)\n",
    "        result = 10 / parsed[\"value\"]\n",
    "except Exception:\n",
    "    pass  # lỗi bị bỏ qua hoàn toàn!\n"
   ]
  },
  {
   "cell_type": "code",
   "execution_count": null,
   "id": "f33cf2ef-c606-41cf-8e2d-5361ac85858f",
   "metadata": {},
   "outputs": [],
   "source": [
    "!echo \"this is test file\" >> file.json"
   ]
  },
  {
   "cell_type": "code",
   "execution_count": null,
   "id": "34775e18-b6b6-4983-8d0d-9a676f198f5e",
   "metadata": {},
   "outputs": [],
   "source": [
    "# Good example\n",
    "import json\n",
    "import logging\n",
    "\n",
    "# Định nghĩa logger\n",
    "logger = logging.getLogger(__name__)\n",
    "logging.basicConfig(level=logging.ERROR)\n",
    "\n",
    "class ConfigError(Exception):\n",
    "    pass\n",
    "\n",
    "try:\n",
    "    with open(\"file.txt\") as f:\n",
    "        data = f.read()\n",
    "        parsed = json.loads(data)\n",
    "        result = 10 / parsed[\"value\"]\n",
    "except FileNotFoundError:\n",
    "    logger.error(\"Không tìm thấy file.\")\n",
    "    raise ConfigError(\"File cấu hình không tồn tại\")\n",
    "except json.JSONDecodeError:\n",
    "    logger.error(\"File không đúng định dạng JSON.\")\n",
    "except KeyError:\n",
    "    logger.error(\"Thiếu trường 'value' trong dữ liệu.\")\n",
    "except ZeroDivisionError:\n",
    "    logger.error(\"Giá trị 'value' không thể bằng 0.\")\n"
   ]
  },
  {
   "cell_type": "code",
   "execution_count": null,
   "id": "6fbcfff6-e951-439c-b2bf-dfb0247e205e",
   "metadata": {},
   "outputs": [],
   "source": [
    "!rm -f file.json"
   ]
  },
  {
   "attachments": {},
   "cell_type": "markdown",
   "id": "275d80e4-6c5c-43d2-8ba5-47629d71b6e6",
   "metadata": {},
   "source": [
    "## Example 7: Low Coupling, High Cohesion"
   ]
  },
  {
   "cell_type": "code",
   "execution_count": 8,
   "id": "13b6fd94-7c96-4751-9700-f4be5b8427d2",
   "metadata": {},
   "outputs": [],
   "source": [
    "# math_utils.py\n",
    "# Module có tính liên kết cao - chỉ xử lý các phép toán số học\n",
    "def add(a, b):\n",
    "    return a + b\n",
    "\n",
    "def subtract(a, b):\n",
    "    return a - b\n",
    "    \n",
    "def multiply(a, b):\n",
    "    return a * b\n",
    "    \n",
    "def divide(a, b):\n",
    "    if b == 0:\n",
    "        raise ValueError(\"Không thể chia cho 0\")\n",
    "    return a / b\n"
   ]
  },
  {
   "cell_type": "code",
   "execution_count": 10,
   "id": "3f39ca29-24b7-4bc5-b641-04aa6d1adec0",
   "metadata": {},
   "outputs": [],
   "source": [
    "# calculator.py\n",
    "from math_utils import add, subtract\n",
    "\n",
    "class Calculator:\n",
    "    def perform_addition(self, x, y):\n",
    "        # Sử dụng interface rõ ràng, không phụ thuộc\n",
    "        # vào cách triển khai bên trong math_utils\n",
    "        return add(x, y)\n",
    "        \n",
    "    def perform_subtraction(self, x, y):\n",
    "        return subtract(x, y)\n"
   ]
  },
  {
   "cell_type": "markdown",
   "id": "213614cc-cf28-4e48-b027-9a75603fc9bd",
   "metadata": {},
   "source": [
    "## Example 8: Function Arguments"
   ]
  },
  {
   "cell_type": "code",
   "execution_count": null,
   "id": "bfc32402-3c21-4805-ba0f-81247057695a",
   "metadata": {},
   "outputs": [],
   "source": [
    "# Bad example\n",
    "def create_user(name, age, email, \n",
    "               address, phone, role):\n",
    "    # Khó nhớ thứ tự các tham số\n",
    "    # Dễ gây lỗi khi gọi hàm\n",
    "    # Khó kiểm thử do quá nhiều test cases\n",
    "\n",
    "# Gọi hàm không rõ ràng\n",
    "create_user('Alice', 30, 'alice@example.com',\n",
    "           '123 Main St', '555-1234', 'admin')\n"
   ]
  },
  {
   "cell_type": "code",
   "execution_count": null,
   "id": "ffeedae5-dd6d-4e97-9c4c-06bb4d5ae16e",
   "metadata": {},
   "outputs": [],
   "source": [
    "# Good example\n",
    "def create_user(name, email, *, \n",
    "               age=None, address=None, \n",
    "               phone=None, role='user'):\n",
    "    # Tham số bắt buộc: name, email\n",
    "    # Tham số tùy chọn: age, address,...\n",
    "    pass\n",
    "\n",
    "# Gọi hàm rõ ràng, tự tài liệu\n",
    "create_user('Alice', 'alice@example.com', \n",
    "            age=30, role='admin')\n",
    "\n",
    "# Hoặc dùng dataclass/dict cho dữ liệu phức tạp\n",
    "from dataclasses import dataclass\n",
    "\n",
    "@dataclass\n",
    "class UserData:\n",
    "    name: str\n",
    "    email: str\n",
    "    age: int = None\n",
    "    role: str = 'user'\n"
   ]
  },
  {
   "cell_type": "markdown",
   "id": "ac8ad71a-ac0a-4561-8dca-8249b157ab53",
   "metadata": {},
   "source": [
    "## Excercise"
   ]
  },
  {
   "cell_type": "code",
   "execution_count": 11,
   "id": "8cfc4a04-c3b9-47cc-91f0-f19f3bf0e784",
   "metadata": {},
   "outputs": [],
   "source": [
    "# Question\n",
    "\n",
    "# Vi phạm DRY: Lặp lại logic in lời chào\n",
    "# Khó bảo trì khi thêm ngôn ngữ mới\n",
    "# Cần sửa nhiều nơi khi thay đổi cách hiển thị\n",
    "\n",
    "def greeting_vn(name):\n",
    "    print(f\"Xin chào, {name}\")\n",
    "\n",
    "def greeting_en(name):\n",
    "    print(f\"Hello, {name}\")\n",
    "\n",
    "def greeting_fr(name):\n",
    "    print(f\"Bonjour, {name}\")\n"
   ]
  },
  {
   "cell_type": "code",
   "execution_count": 12,
   "id": "a7f6e86f-a484-4b08-92ce-473ba6838cf0",
   "metadata": {},
   "outputs": [
    {
     "name": "stdout",
     "output_type": "stream",
     "text": [
      "Xin chào, Alice\n",
      "Bonjour, Bob\n"
     ]
    }
   ],
   "source": [
    "# Answer\n",
    "\n",
    "# Áp dụng DRY: Tập trung logic vào một hàm\n",
    "# Áp dụng KISS: Thiết kế đơn giản, dễ hiểu\n",
    "# Dễ mở rộng: Thêm ngôn ngữ chỉ cần cập nhật dict\n",
    "\n",
    "def greeting(name, lang='en'):\n",
    "    greetings = {\n",
    "        'vn': 'Xin chào',\n",
    "        'en': 'Hello',\n",
    "        'fr': 'Bonjour'\n",
    "    }\n",
    "    print(f\"{greetings.get(lang, 'Hello')}, {name}\")\n",
    "\n",
    "# Sử dụng với các ngôn ngữ khác nhau\n",
    "greeting(\"Alice\", lang='vn')\n",
    "greeting(\"Bob\", lang='fr')\n"
   ]
  },
  {
   "cell_type": "markdown",
   "id": "6f9fe27a-96fc-4d76-926c-0d2c21ac7d5d",
   "metadata": {},
   "source": [
    "# End"
   ]
  }
 ],
 "metadata": {
  "kernelspec": {
   "display_name": "Python (myenv)",
   "language": "python",
   "name": "myenv"
  },
  "language_info": {
   "codemirror_mode": {
    "name": "ipython",
    "version": 3
   },
   "file_extension": ".py",
   "mimetype": "text/x-python",
   "name": "python",
   "nbconvert_exporter": "python",
   "pygments_lexer": "ipython3",
   "version": "3.10.6"
  }
 },
 "nbformat": 4,
 "nbformat_minor": 5
}
