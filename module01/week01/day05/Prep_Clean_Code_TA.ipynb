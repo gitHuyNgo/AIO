{
  "nbformat": 4,
  "nbformat_minor": 0,
  "metadata": {
    "colab": {
      "provenance": []
    },
    "kernelspec": {
      "name": "python3",
      "display_name": "Python 3"
    },
    "language_info": {
      "name": "python"
    }
  },
  "cells": [
    {
      "cell_type": "markdown",
      "source": [
        "## Clean Code là gì? (Ví dụ: Tính giá trị trung bình của một danh sách số)"
      ],
      "metadata": {
        "id": "ZF043buscanE"
      }
    },
    {
      "cell_type": "markdown",
      "source": [
        "### Bad Code"
      ],
      "metadata": {
        "id": "hYCQDslxcv-3"
      }
    },
    {
      "cell_type": "code",
      "source": [
        "def a(l):\n",
        "    s=0\n",
        "    for i in range(len(l)):\n",
        "        s+=l[i]\n",
        "    return s/len(l)\n",
        "\n",
        "# Sử dụng\n",
        "print(a([1, 2, 3, 4]))"
      ],
      "metadata": {
        "id": "OjNMbm6Lcbuh"
      },
      "execution_count": null,
      "outputs": []
    },
    {
      "cell_type": "markdown",
      "source": [
        "### Clean Code"
      ],
      "metadata": {
        "id": "P5rvw3krc3cP"
      }
    },
    {
      "cell_type": "code",
      "source": [
        "from typing import List\n",
        "\n",
        "def calculate_average(numbers: List[float]) -> float:\n",
        "    \"\"\"\n",
        "    Trả về giá trị trung bình (mean) của một danh sách số.\n",
        "    Args:\n",
        "        numbers (List[float]): Danh sách các số thực.\n",
        "    Returns:\n",
        "        float: Giá trị trung bình của numbers.\n",
        "    Raises:\n",
        "        ValueError: Nếu danh sách numbers rỗng.\n",
        "    \"\"\"\n",
        "    if not numbers:\n",
        "        raise ValueError(\"Danh sách 'numbers' không được để trống.\")\n",
        "\n",
        "    return sum(numbers) / len(numbers)"
      ],
      "metadata": {
        "id": "NK1de8FUdh5n"
      },
      "execution_count": null,
      "outputs": []
    },
    {
      "cell_type": "markdown",
      "source": [
        "## Giới thiệu về PEP-8\n"
      ],
      "metadata": {
        "id": "Yq1NPgVUqNbc"
      }
    },
    {
      "cell_type": "markdown",
      "source": [
        "### Ví dụ không tuân theo PEP-8"
      ],
      "metadata": {
        "id": "f66PcK7oqZq9"
      }
    },
    {
      "cell_type": "code",
      "source": [
        "def tinhTong(a,b):\n",
        "    return a+b\n",
        "\n",
        "# Sử dụng hàm\n",
        "ketQua=tinhTong(5,3)\n",
        "print(ketQua)"
      ],
      "metadata": {
        "id": "vP-A_1ZJqcg1"
      },
      "execution_count": null,
      "outputs": []
    },
    {
      "cell_type": "markdown",
      "source": [
        "### Ví dụ tuân theo PEP-8"
      ],
      "metadata": {
        "id": "LlQ86dkJqXVw"
      }
    },
    {
      "cell_type": "code",
      "source": [
        "def tinh_tong(a: int, b: int) -> int:\n",
        "    \"\"\"\n",
        "    Tính tổng hai số.\n",
        "\n",
        "    Args:\n",
        "        a (int): Số thứ nhất\n",
        "        b (int): Số thứ hai\n",
        "\n",
        "    Returns:\n",
        "        int: Tổng của hai số\n",
        "    \"\"\"\n",
        "    return a + b\n",
        "\n",
        "# Sử dụng hàm\n",
        "ket_qua = tinh_tong(5, 3)\n",
        "print(ket_qua)"
      ],
      "metadata": {
        "id": "3EwT4_DVqdAm"
      },
      "execution_count": null,
      "outputs": []
    },
    {
      "cell_type": "markdown",
      "source": [
        "## Quy Tắc Đặt Tên – Naming Convention\n"
      ],
      "metadata": {
        "id": "upIdUvdTv2qJ"
      }
    },
    {
      "cell_type": "markdown",
      "source": [
        "### Biến / Hàm: snake_case\n"
      ],
      "metadata": {
        "id": "qTchsGHav5Gv"
      }
    },
    {
      "cell_type": "code",
      "source": [
        "# Khai báo biến\n",
        "my_variable = 10\n",
        "\n",
        "# Định nghĩa hàm\n",
        "def my_function():\n",
        "    print(\"Hello\")"
      ],
      "metadata": {
        "id": "86CW8o3Tv4nW"
      },
      "execution_count": null,
      "outputs": []
    },
    {
      "cell_type": "markdown",
      "source": [
        "### Class: PascalCase\n"
      ],
      "metadata": {
        "id": "b5Dzp52mv7tl"
      }
    },
    {
      "cell_type": "code",
      "source": [
        "# Đặt tên class\n",
        "class MyClass:\n",
        "    def __init__(self, name):\n",
        "        self.name = name"
      ],
      "metadata": {
        "id": "IoyukX81v83X"
      },
      "execution_count": null,
      "outputs": []
    },
    {
      "cell_type": "markdown",
      "source": [
        "### Hằng Số: UPPER_CASE\n"
      ],
      "metadata": {
        "id": "Az17Sg6Fv9Nc"
      }
    },
    {
      "cell_type": "code",
      "source": [
        "# Đặt tên hằng số\n",
        "PI = 3.14\n",
        "MAX_VALUE = 100\n",
        "MIN_VALUE = 5\n",
        "\n",
        "def check_exam_result(score):\n",
        "    if score >= PASSING_SCORE:\n",
        "        return \"Pass\"\n",
        "    return \"Fail\""
      ],
      "metadata": {
        "id": "jD8zvKoKv-ro"
      },
      "execution_count": null,
      "outputs": []
    },
    {
      "cell_type": "markdown",
      "source": [
        "## Căn Lề và Khoảng Trắng\n"
      ],
      "metadata": {
        "id": "P2rqlZy4zQax"
      }
    },
    {
      "cell_type": "markdown",
      "source": [
        "### Thụt lề"
      ],
      "metadata": {
        "id": "E9o52dd-zUW9"
      }
    },
    {
      "cell_type": "code",
      "source": [
        "def greeting(name):\n",
        "....# Thụt lề 4 khoảng trắng cho khối mã bên trong hàm\n",
        "....if name:\n",
        "........# Thụt lề thêm 4 khoảng trắng cho khối if\n",
        "........print(f\"Xin chào, {name}!\")\n",
        "....else:\n",
        "........# Thụt lề đúng với khối if\n",
        "........print(\"Xin chào!\")"
      ],
      "metadata": {
        "id": "VFioFp9CzRMH"
      },
      "execution_count": null,
      "outputs": []
    },
    {
      "cell_type": "markdown",
      "source": [
        "### Khoảng trắng trong các biểu thức\n"
      ],
      "metadata": {
        "id": "liIDTS56zVq7"
      }
    },
    {
      "cell_type": "code",
      "source": [
        "a = 1\n",
        "b = 2\n",
        "c = 3\n",
        "\n",
        "# Sai: Không có khoảng trắng\n",
        "total=a+b*c\n",
        "\n",
        "# Đúng: Có khoảng trắng hai bên phép toán\n",
        "total = a + b * c"
      ],
      "metadata": {
        "id": "6FHVXTS8zXXe"
      },
      "execution_count": null,
      "outputs": []
    },
    {
      "cell_type": "markdown",
      "source": [
        "### Tránh khoảng trắng thừa\n"
      ],
      "metadata": {
        "id": "9sNJoKZ9zXzG"
      }
    },
    {
      "cell_type": "code",
      "source": [
        "# Đúng: Không có khoảng trắng thừa\n",
        "def function(x, y):\n",
        "    return (x + y)\n",
        "\n",
        "list_items = [1, 2, 3]\n",
        "dict_items = {'key': 'value'}\n",
        "\n",
        "# Sai: Có khoảng trắng thừa\n",
        "def function( x, y ):\n",
        "    return ( x + y )\n",
        "\n",
        "list_items = [ 1, 2, 3 ]\n",
        "dict_items = { 'key': 'value' }"
      ],
      "metadata": {
        "id": "D-rgDmVEzZjq"
      },
      "execution_count": null,
      "outputs": []
    },
    {
      "cell_type": "markdown",
      "source": [
        "### Không thêm khoảng trắng trong ngoặc\n"
      ],
      "metadata": {
        "id": "70KQHoVWzZ9g"
      }
    },
    {
      "cell_type": "code",
      "source": [
        "# Đúng: Không có khoảng trắng sau\n",
        "# dấu mở ngoặc và trước dấu đóng ngoặc\n",
        "list_items = [1, 2, 3]\n",
        "tuple_items = (1, 2, 3)\n",
        "set_items = {1, 2, 3}\n",
        "\n",
        "# Sai: Có khoảng trắng sau\n",
        "# dấu mở ngoặc và trước dấu đóng ngoặc\n",
        "list_items = [ 1, 2, 3 ]\n",
        "tuple_items = ( 1, 2, 3 )\n",
        "set_items = { 1, 2, 3 }"
      ],
      "metadata": {
        "id": "jtdkliRVzciK"
      },
      "execution_count": null,
      "outputs": []
    },
    {
      "cell_type": "markdown",
      "source": [
        "## So Sánh và Điều Kiện - Pythonic Style\n"
      ],
      "metadata": {
        "id": "ECR7P9Dt3xSn"
      }
    },
    {
      "cell_type": "markdown",
      "source": [
        "### So sánh với None"
      ],
      "metadata": {
        "id": "Yw-6i5hY30iC"
      }
    },
    {
      "cell_type": "code",
      "source": [
        "# Pythonic\n",
        "x = None\n",
        "if x is None:\n",
        "    print(\"x is None\")\n",
        "elif x is not None:\n",
        "    print(\"x is not None\")"
      ],
      "metadata": {
        "id": "_zwVP9nx32hB"
      },
      "execution_count": null,
      "outputs": []
    },
    {
      "cell_type": "code",
      "source": [
        "# Non-Pythonic\n",
        "x = None\n",
        "if x == None:  # SAI! None là singleton\n",
        "    print(\"x is None\")"
      ],
      "metadata": {
        "id": "YAJKykrQ4iY7"
      },
      "execution_count": null,
      "outputs": []
    },
    {
      "cell_type": "markdown",
      "source": [
        "### So sánh boolean trực tiếp"
      ],
      "metadata": {
        "id": "aqlkvDnA322v"
      }
    },
    {
      "cell_type": "code",
      "source": [
        "# Pythonic\n",
        "ready = True\n",
        "if ready:  # tận dụng truthiness\n",
        "    print(\"Ready\")\n",
        "\n",
        "valid = False\n",
        "if not valid:  # ngắn gọn và rõ ràng\n",
        "    print(\"Invalid\")"
      ],
      "metadata": {
        "id": "nCxlpk3c35A7"
      },
      "execution_count": null,
      "outputs": []
    },
    {
      "cell_type": "code",
      "source": [
        "# Non-Pythonic\n",
        "ready = True\n",
        "if (ready == True):  # SAI, quá rườm rà!\n",
        "    print(\"Ready\")\n",
        "\n",
        "valid = False\n",
        "if (valid != False):  # SAI!\n",
        "    print(\"Valid\")"
      ],
      "metadata": {
        "id": "VYiCJZh84kWy"
      },
      "execution_count": null,
      "outputs": []
    },
    {
      "cell_type": "markdown",
      "source": [
        "### Kiểm tra chuỗi/list/dict rỗng"
      ],
      "metadata": {
        "id": "8oCIFZyS35Y5"
      }
    },
    {
      "cell_type": "code",
      "source": [
        "# Pythonic\n",
        "name = \"Python\"\n",
        "if name:  # Tận dụng truthiness\n",
        "    print(name)\n",
        "\n",
        "items = []\n",
        "if not items:  # Kiểm tra list rỗng\n",
        "    print(\"Empty list\")"
      ],
      "metadata": {
        "id": "39PdLGHn39UW"
      },
      "execution_count": null,
      "outputs": []
    },
    {
      "cell_type": "code",
      "source": [
        "# Non-Pythonic\n",
        "name = \"Python\"\n",
        "if len(name) > 0:  # SAI, không Pythonic!\n",
        "    print(name)\n",
        "\n",
        "items = []\n",
        "if len(items) == 0:  # SAI, nên dùng: if not items\n",
        "    print(\"Empty\")"
      ],
      "metadata": {
        "id": "CSQSqeZK4mor"
      },
      "execution_count": null,
      "outputs": []
    },
    {
      "cell_type": "markdown",
      "source": [
        "### Kiểm tra trong collection"
      ],
      "metadata": {
        "id": "Orz9qtl339k-"
      }
    },
    {
      "cell_type": "code",
      "source": [
        "# Pythonic\n",
        "active_users = [\"alice\", \"bob\", \"charlie\"]\n",
        "user = \"bob\"\n",
        "if user in active_users:  # trực tiếp, hiệu quả\n",
        "    print(\"User is active\")"
      ],
      "metadata": {
        "id": "Kt34NJTX4Dkz"
      },
      "execution_count": null,
      "outputs": []
    },
    {
      "cell_type": "code",
      "source": [
        "# Non-Pythonic\n",
        "active_users = [\"alice\", \"bob\", \"charlie\"]\n",
        "user = \"bob\"\n",
        "found = False  # SAI, quá phức tạp\n",
        "for u in active_users:\n",
        "    if u == user:\n",
        "        found = True\n",
        "        break\n",
        "if found:\n",
        "    print(\"User is active\")"
      ],
      "metadata": {
        "id": "WRzgWu8R4ppR"
      },
      "execution_count": null,
      "outputs": []
    },
    {
      "cell_type": "markdown",
      "source": [
        "### Chaining comparison"
      ],
      "metadata": {
        "id": "m90g9Nvl4D4l"
      }
    },
    {
      "cell_type": "code",
      "source": [
        "# Pythonic\n",
        "value = 75\n",
        "if 0 <= value <= 100:  # Pythonic, rõ ràng\n",
        "    print(\"Valid percentage\")"
      ],
      "metadata": {
        "id": "Mqnzbb1K4FtH"
      },
      "execution_count": null,
      "outputs": []
    },
    {
      "cell_type": "code",
      "source": [
        "# Non-Pythonic\n",
        "value = 75\n",
        "if value >= 0 and value <= 100:  # Dài dòng hơn\n",
        "    print(\"Valid percentage\")"
      ],
      "metadata": {
        "id": "ojemvd_n4r7f"
      },
      "execution_count": null,
      "outputs": []
    },
    {
      "cell_type": "code",
      "source": [],
      "metadata": {
        "id": "dyigeug4WejS"
      },
      "execution_count": null,
      "outputs": []
    },
    {
      "cell_type": "markdown",
      "source": [
        "## Ví dụ flake8"
      ],
      "metadata": {
        "id": "aDntQ-H6kOKm"
      }
    },
    {
      "cell_type": "markdown",
      "source": [
        "Tạo 1 file greeting.py có nội dung như sau\n",
        "\n"
      ],
      "metadata": {
        "id": "y285cx5pkYL9"
      }
    },
    {
      "cell_type": "code",
      "source": [
        "def greeting(name):\n",
        "    print(\"Hello, \" + name)\n",
        "\n",
        "greeting(\"Alice\")\n",
        "greeting(\"Bob\")"
      ],
      "metadata": {
        "id": "UPkVqLsAkQev"
      },
      "execution_count": null,
      "outputs": []
    },
    {
      "cell_type": "markdown",
      "source": [
        "Chạy Flake8 với greeting.py"
      ],
      "metadata": {
        "id": "Pde349qeklbm"
      }
    },
    {
      "cell_type": "code",
      "source": [
        "!flake8 greeting.py"
      ],
      "metadata": {
        "id": "5MAOKHFxknxm"
      },
      "execution_count": null,
      "outputs": []
    },
    {
      "cell_type": "markdown",
      "source": [
        "Kết quả trả về:\n",
        ">> greeting.py:5:1: E999 IndentationError: unexpected indent"
      ],
      "metadata": {
        "id": "ZWA1-e6RkuCG"
      }
    },
    {
      "cell_type": "markdown",
      "source": [
        "Kết quả này chỉ ra rằng dòng 5 được thụt lề không cần thiết. Để khắc phục, bạn cần loại bỏ khoảng cách ở phần đầu của dòng này."
      ],
      "metadata": {
        "id": "K5XuiJXLkqRD"
      }
    },
    {
      "cell_type": "code",
      "source": [
        "def greeting(name):\n",
        "    print(\"Hello, \" + name)\n",
        "\n",
        "greeting(\"Alice\")\n",
        "greeting(\"Bob\")"
      ],
      "metadata": {
        "id": "1cqxL6YKk1GY"
      },
      "execution_count": null,
      "outputs": []
    },
    {
      "cell_type": "markdown",
      "source": [
        "Giờ khi chạy Flake8, bạn sẽ nhận được cảnh báo sau:\n",
        ">> greeting.py:4:1: E305 expected 2 blank lines after class or function definition, found 1\n",
        "\n",
        ">> greeting.py:5:16: W292 no newline at end of file"
      ],
      "metadata": {
        "id": "GeEcU1Hlk5o2"
      }
    },
    {
      "cell_type": "markdown",
      "source": [
        "Kết quả cho biết có các lỗi sau:\n",
        "\n",
        "    Dòng 4 sẽ có 2 dòng trống sau khi định nghĩa hàm greeting, nhưng thực tế chỉ có 1 dòng.\n",
        "    Dòng 5 sẽ có một dòng mới ở cuối file."
      ],
      "metadata": {
        "id": "tj5O17LElFFZ"
      }
    },
    {
      "cell_type": "markdown",
      "source": [
        "## Sử dụng Logging và Print hợp lý\n"
      ],
      "metadata": {
        "id": "EVZejtkKViAw"
      }
    },
    {
      "cell_type": "markdown",
      "source": [
        "**Lưu ý: Nên chạy trong terminal kết quả sẽ chính xác hơn**"
      ],
      "metadata": {
        "id": "TJR_9Q7qc1cP"
      }
    },
    {
      "cell_type": "markdown",
      "source": [
        "### Ghi log ở các mức độ khác nhau"
      ],
      "metadata": {
        "id": "l7isPJjhbGa3"
      }
    },
    {
      "cell_type": "code",
      "source": [
        "import logging\n",
        "\n",
        "logging.basicConfig( level=logging.DEBUG,\n",
        "                    format='%(asctime)s - %(name)s - %(levelname)s - %(message)s',\n",
        "                    filename='app.log')\n",
        "\n",
        "logging.debug(\"Thông tin chi tiết cho debug\")\n",
        "logging.info(\"Thông tin thông thường\")\n",
        "logging.warning(\"Cảnh báo: có vấn đề nhỏ xảy ra\")\n",
        "logging.error(\"Lỗi: có vấn đề nghiêm trọng\")\n",
        "logging.critical(\"NGUY HIỂM: chương trình có thể crash\")"
      ],
      "metadata": {
        "id": "gefGku4bVmes"
      },
      "execution_count": null,
      "outputs": []
    },
    {
      "cell_type": "markdown",
      "source": [
        "### Chỉ log những mức độ cảnh báo trở lên"
      ],
      "metadata": {
        "id": "V1ZlJvnFcSGA"
      }
    },
    {
      "cell_type": "code",
      "source": [
        "# Chỉ log những mức độ cảnh báo (WARNING) trở lên\n",
        "logging.basicConfig( level=logging.WARNING,\n",
        "                    format='%(asctime)s - %(name)s - %(levelname)s - %(message)s',\n",
        "                    filename='app.log')\n",
        "\n",
        "logging.debug(\"Thông tin chi tiết cho debug\")\n",
        "logging.info(\"Thông tin thông thường\")\n",
        "logging.warning(\"Cảnh báo: có vấn đề nhỏ xảy ra\")\n",
        "logging.error(\"Lỗi: có vấn đề nghiêm trọng\")\n",
        "logging.critical(\"NGUY HIỂM: chương trình có thể crash\""
      ],
      "metadata": {
        "id": "B7wAVrc8cTEU"
      },
      "execution_count": null,
      "outputs": []
    },
    {
      "cell_type": "markdown",
      "source": [
        "\n",
        "### Tắt log tạm thời"
      ],
      "metadata": {
        "id": "YPQX3daIcbW1"
      }
    },
    {
      "cell_type": "code",
      "source": [
        "# Tắt log tạm thời\n",
        "logging.info(\"Dòng này sẽ hiện ra\")\n",
        "logging.disable(logging.CRITICAL)\n",
        "logging.info(\"Dòng này sẽ không hiện ra\")\n",
        "logging.disable(logging.NOTSET)  # Bật lại logging\n",
        "logging.info(\"Log đã bật lại\")"
      ],
      "metadata": {
        "id": "v6ASpVZscb2h"
      },
      "execution_count": null,
      "outputs": []
    },
    {
      "cell_type": "markdown",
      "source": [
        "### Sử dụng exception trong logging (ghi lại thông tin lỗi)"
      ],
      "metadata": {
        "id": "WWeAM8oqcfcI"
      }
    },
    {
      "cell_type": "code",
      "source": [
        "# Sử dụng exception trong logging (ghi lại thông tin lỗi)\n",
        "try:\n",
        "    1 / 0\n",
        "except Exception as e:\n",
        "    logging.error(\"Có lỗi xảy ra: %s\", e)"
      ],
      "metadata": {
        "id": "-l1m2V1UcgHf"
      },
      "execution_count": null,
      "outputs": []
    },
    {
      "cell_type": "markdown",
      "source": [
        "## Creational Patterns: Factory & Singleton\n"
      ],
      "metadata": {
        "id": "QNdAGUlnvduW"
      }
    },
    {
      "cell_type": "markdown",
      "source": [
        "### Factory Pattern\n"
      ],
      "metadata": {
        "id": "b62OL2pPv8IF"
      }
    },
    {
      "cell_type": "code",
      "source": [
        "class ButtonFactory:\n",
        "    def create_button(self, button_type):\n",
        "        if button_type == \"round\":\n",
        "            return RoundButton()\n",
        "        elif button_type == \"square\":\n",
        "            return SquareButton()\n",
        "        elif button_type == \"toggle\":\n",
        "            return ToggleButton()\n",
        "        # Dễ dàng thêm button mới\n",
        "\n",
        "# Sử dụng trong thực tế\n",
        "factory = ButtonFactory()\n",
        "button = factory.create_button(\"round\")\n",
        "button.render()  # Client không quan tâm đến chi tiết triển khai\n"
      ],
      "metadata": {
        "id": "fGFc1u07y10m"
      },
      "execution_count": null,
      "outputs": []
    },
    {
      "cell_type": "markdown",
      "source": [
        "## Singleton Pattern\n"
      ],
      "metadata": {
        "id": "W4VqXBusv_C0"
      }
    },
    {
      "cell_type": "code",
      "source": [
        "class DatabaseConnection:\n",
        "    _instance = None\n",
        "    _is_initialized = False\n",
        "\n",
        "    def __new__(cls):\n",
        "        if cls._instance is None:\n",
        "            cls._instance = super().__new__(cls)\n",
        "        return cls._instance\n",
        "\n",
        "    def __init__(self):\n",
        "        # Đảm bảo chỉ khởi tạo một lần\n",
        "        if not self._is_initialized:\n",
        "            self.host = \"localhost\"\n",
        "            self.connect_db()\n",
        "            self._is_initialized = True\n",
        "\n",
        "    def connect_db(self):\n",
        "        print(\"Connecting to database once...\")\n",
        "\n",
        "# Luôn trả về cùng một instance\n",
        "conn1 = DatabaseConnection()\n",
        "conn2 = DatabaseConnection()\n",
        "# conn1 is conn2 -> True\n"
      ],
      "metadata": {
        "id": "Uv-MGQrVv62D"
      },
      "execution_count": null,
      "outputs": []
    },
    {
      "cell_type": "markdown",
      "source": [
        "## Ví dụ về Structural Patterns: Adapter & Decorator\n"
      ],
      "metadata": {
        "id": "jxZTJ9kKy4t4"
      }
    },
    {
      "cell_type": "markdown",
      "source": [
        "### Adapter Pattern\n"
      ],
      "metadata": {
        "id": "JvF9U9gS3O6w"
      }
    },
    {
      "cell_type": "code",
      "source": [
        "class LegacyAPI:\n",
        "    def old_method(self, data):\n",
        "        return f\"Legacy output: {data}\"\n",
        "\n",
        "class NewInterface:\n",
        "    def new_method(self, info):\n",
        "        pass\n",
        "\n",
        "class Adapter(NewInterface):\n",
        "    def __init__(self, legacy_obj):\n",
        "        self.legacy = legacy_obj\n",
        "\n",
        "    def new_method(self, info):\n",
        "        # Chuyển đổi từ new_method sang old_method\n",
        "        return self.legacy.old_method(info)\n",
        "\n",
        "# Sử dụng adapter\n",
        "legacy = LegacyAPI()\n",
        "adapter = Adapter(legacy)\n",
        "result = adapter.new_method(\"test data\")\n",
        "# Kết quả: \"Legacy output: test data\"\n"
      ],
      "metadata": {
        "id": "NlsnoLJm3TEz"
      },
      "execution_count": null,
      "outputs": []
    },
    {
      "cell_type": "markdown",
      "source": [
        "### Decorator Pattern\n"
      ],
      "metadata": {
        "id": "kQa0q1kz3VYt"
      }
    },
    {
      "cell_type": "code",
      "source": [
        "class Component:\n",
        "    def operation(self):\n",
        "        return \"Basic operation\"\n",
        "\n",
        "class ConcreteComponent(Component):\n",
        "    def operation(self):\n",
        "        return \"Concrete operation\"\n",
        "\n",
        "class Decorator(Component):\n",
        "    def __init__(self, component):\n",
        "        self._component = component\n",
        "\n",
        "    def operation(self):\n",
        "        return self._component.operation()\n",
        "\n",
        "class LoggingDecorator(Decorator):\n",
        "    def operation(self):\n",
        "        result = self._component.operation()\n",
        "        print(f\"LOG: Called operation\")\n",
        "        return result\n",
        "\n",
        "# Tạo component và thêm decorator\n",
        "component = ConcreteComponent()\n",
        "decorated = LoggingDecorator(component)\n",
        "result = decorated.operation()\n",
        "# In log và trả về \"Concrete operation\"\n"
      ],
      "metadata": {
        "id": "ovwdgQpO3Xg_"
      },
      "execution_count": null,
      "outputs": []
    },
    {
      "cell_type": "markdown",
      "source": [
        "## Descriptor là gì?\n"
      ],
      "metadata": {
        "id": "2Lz9d9f_F7YS"
      }
    },
    {
      "cell_type": "code",
      "source": [
        "class TypedAttribute:\n",
        "    def __init__(self, type, default=None):\n",
        "        self.name = None\n",
        "        self.type = type\n",
        "        self.default = default\n",
        "\n",
        "    def __set_name__(self, owner, name):\n",
        "        self.name = name\n",
        "\n",
        "    def __get__(self, obj, objtype=None):\n",
        "        if obj is None:  # Truy cập từ class\n",
        "            return self\n",
        "        return obj.__dict__.get(self.name, self.default)\n",
        "\n",
        "    def __set__(self, obj, value):\n",
        "        if not isinstance(value, self.type):\n",
        "            raise TypeError(f\"{self.name} phải là kiểu {self.type.__name__}\")\n",
        "        obj.__dict__[self.name] = value\n",
        "\n",
        "class User:\n",
        "    name = TypedAttribute(str)\n",
        "    age = TypedAttribute(int, 0)\n",
        "\n",
        "user = User()\n",
        "user.name = \"Alice\"\n",
        "user.age = 30\n",
        "# user.age = \"30\"  # Lỗi: TypeError\n"
      ],
      "metadata": {
        "id": "BQizncM2F8CN"
      },
      "execution_count": null,
      "outputs": []
    },
    {
      "cell_type": "markdown",
      "source": [
        "## Tái sử dụng logic với Descriptor\n"
      ],
      "metadata": {
        "id": "gG1szkqbF_SY"
      }
    },
    {
      "cell_type": "code",
      "source": [
        "class Positive:\n",
        "    def __set_name__(self, owner, name):\n",
        "        self.name = name\n",
        "\n",
        "    def __set__(self, instance, value):\n",
        "        if value <= 0:\n",
        "            raise ValueError(f\"{self.name} phải là số dương!\")\n",
        "        instance.__dict__[self.name] = value\n",
        "\n",
        "    def __get__(self, instance, owner):\n",
        "        if instance is None:\n",
        "            return self\n",
        "        return instance.__dict__.get(self.name, 0)\n",
        "\n",
        "class StringMax:\n",
        "    def __init__(self, max_length=50):\n",
        "        self.max_length = max_length\n",
        "\n",
        "    def __set_name__(self, owner, name):\n",
        "        self.name = name\n",
        "\n",
        "    def __set__(self, instance, value):\n",
        "        if not isinstance(value, str):\n",
        "            raise TypeError(f\"{self.name} phải là chuỗi!\")\n",
        "        if len(value) > self.max_length:\n",
        "            raise ValueError(f\"{self.name} không được vượt quá {self.max_length} ký tự!\")\n",
        "        instance.__dict__[self.name] = value\n",
        "\n",
        "# Tái sử dụng descriptor ở nhiều class khác nhau\n",
        "class Product:\n",
        "    name = StringMax(100)\n",
        "    price = Positive()\n",
        "    stock = Positive()\n",
        "\n",
        "class Employee:\n",
        "    salary = Positive()\n",
        "    bonus = Positive()\n",
        "\n",
        "# Sử dụng\n",
        "product = Product()\n",
        "product.name = \"Laptop\"  # OK\n",
        "product.price = 1000     # OK\n",
        "product.price = -5       # Raise error: price phải là số dương!\n",
        "\n",
        "employee = Employee()\n",
        "employee.salary = 5000   # OK - Cùng logic với price nhưng ở class khác\n"
      ],
      "metadata": {
        "id": "zreKunV7HqCv"
      },
      "execution_count": null,
      "outputs": []
    },
    {
      "cell_type": "markdown",
      "source": [
        "## Bài tập luyện tập\n"
      ],
      "metadata": {
        "id": "D_dQU2uaLslA"
      }
    },
    {
      "cell_type": "markdown",
      "source": [
        "### Viết decorator đo thời gian thực thi hàm\n"
      ],
      "metadata": {
        "id": "ur2fmHS1LvxY"
      }
    },
    {
      "cell_type": "code",
      "source": [
        "from time import time\n",
        "import functools\n",
        "\n",
        "def timeit(func):\n",
        "    \"\"\"\n",
        "    Decorator đo thời gian thực thi của hàm và in kết quả.\n",
        "    Sử dụng functools.wraps để giữ metadata.\n",
        "    \"\"\"\n",
        "    @functools.wraps(func)\n",
        "    def wrapper(*args, **kwargs):\n",
        "        # Mã của bạn tại đây\n",
        "        # 1. Lưu thời gian bắt đầu\n",
        "        # 2. Gọi hàm gốc\n",
        "        # 3. Tính thời gian thực thi\n",
        "        # 4. In kết quả\n",
        "        # 5. Trả về kết quả gốc\n",
        "        pass\n",
        "    return wrapper\n",
        "\n",
        "@timeit\n",
        "def slow_function():\n",
        "    import time\n",
        "    time.sleep(2)\n",
        "    return \"Function completed\"\n"
      ],
      "metadata": {
        "id": "lYJNZbBpLvJl"
      },
      "execution_count": null,
      "outputs": []
    },
    {
      "cell_type": "markdown",
      "source": [
        "### Tạo descriptor NonEmptyString – không cho phép chuỗi rỗng\n"
      ],
      "metadata": {
        "id": "lCuB38MgLyDq"
      }
    },
    {
      "cell_type": "code",
      "source": [
        "class NonEmptyString:\n",
        "    \"\"\"\n",
        "    Descriptor đảm bảo thuộc tính luôn là chuỗi không rỗng.\n",
        "    \"\"\"\n",
        "    def __init__(self, name=None):\n",
        "        # Lưu tên của thuộc tính để sử dụng trong __set__\n",
        "        self.name = name\n",
        "\n",
        "    def __set_name__(self, owner, name):\n",
        "        # Phương thức này được gọi khi descriptor được gán cho class\n",
        "        # Điền code của bạn tại đây\n",
        "        pass\n",
        "\n",
        "    def __get__(self, instance, owner):\n",
        "        # Trả về giá trị từ instance.__dict__\n",
        "        # Điền code của bạn tại đây\n",
        "        pass\n",
        "\n",
        "    def __set__(self, instance, value):\n",
        "        # Kiểm tra value có phải là chuỗi không rỗng không\n",
        "        # Nếu không, raise ValueError\n",
        "        # Nếu hợp lệ, lưu vào instance.__dict__\n",
        "        # Điền code của bạn tại đây\n",
        "        pass\n",
        "\n",
        "class Person:\n",
        "    name = NonEmptyString()\n",
        "\n",
        "    def __init__(self, name):\n",
        "        self.name = name\n"
      ],
      "metadata": {
        "id": "cwCqpvyYL1nA"
      },
      "execution_count": null,
      "outputs": []
    }
  ]
}