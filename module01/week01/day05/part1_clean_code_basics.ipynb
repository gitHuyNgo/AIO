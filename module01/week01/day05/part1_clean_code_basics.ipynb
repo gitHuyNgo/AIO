{
 "cells": [
  {
   "cell_type": "markdown",
   "id": "473a7b50-3f0d-4158-8acc-690e082b3667",
   "metadata": {},
   "source": [
    "# Part 1: Clean Code Basics and Formatting"
   ]
  },
  {
   "cell_type": "markdown",
   "id": "c27af3ff-861c-4844-98b2-bda141cb7454",
   "metadata": {},
   "source": [
    "## Key principles for clean code:\n",
    "1. Use descriptive, meaningful names for variables and functions\n",
    "2. Follow consistent formatting rules (spaces, indentation)\n",
    "3. Write helpful comments and documentation\n",
    "4. Design functions to do one thing well\n",
    "5. Use appropriate data structures\n",
    "6. Handle errors gracefully\n",
    "7. Use constants instead of magic numbers\n",
    "8. Keep lines at a reasonable length\n",
    "9. Be consistent with return types\n",
    "10. Make your code readable for humans, not just computers"
   ]
  },
  {
   "cell_type": "markdown",
   "id": "6cd84d0d-9f99-4659-b765-3c177f3c2622",
   "metadata": {},
   "source": [
    "## Example 1: Meaningful Variable Names"
   ]
  },
  {
   "cell_type": "code",
   "execution_count": 1,
   "id": "c213072b-f04c-48bf-b002-ea9646030068",
   "metadata": {},
   "outputs": [
    {
     "name": "stdout",
     "output_type": "stream",
     "text": [
      "Bad example - unclear variable names:\n",
      "a + b = 15\n",
      "\n",
      "Good example - descriptive variable names:\n",
      "Number of apples: 5\n",
      "Number of oranges: 10\n",
      "Total fruits: 15\n"
     ]
    }
   ],
   "source": [
    "# Bad example - unclear variable names\n",
    "print(\"Bad example - unclear variable names:\")\n",
    "\n",
    "a = 5\n",
    "b = 10\n",
    "c = a + b\n",
    "print(f\"a + b = {c}\")\n",
    "\n",
    "\n",
    "# Good example - descriptive variable names\n",
    "print(\"\\nGood example - descriptive variable names:\")\n",
    "\n",
    "apples = 5\n",
    "oranges = 10\n",
    "total_fruits = apples + oranges\n",
    "print(f\"Number of apples: {apples}\")\n",
    "print(f\"Number of oranges: {oranges}\")\n",
    "print(f\"Total fruits: {total_fruits}\")"
   ]
  },
  {
   "cell_type": "markdown",
   "id": "1c2804a1-4553-46a3-9d40-c67eb1a751b7",
   "metadata": {},
   "source": [
    "**Why this is better:**\n",
    "- 'apples', 'oranges', and 'total_fruits' clearly explain what each variable represents\n",
    "- Someone reading the code can understand its purpose without needing comments"
   ]
  },
  {
   "cell_type": "markdown",
   "id": "dec8bde8-b3ff-4577-b3f2-385b71916446",
   "metadata": {},
   "source": [
    "## Example 2: Simple Formatting Rules"
   ]
  },
  {
   "cell_type": "code",
   "execution_count": 2,
   "id": "7fba1d1c-14c0-4f15-9de5-ecc5beb700e7",
   "metadata": {},
   "outputs": [
    {
     "name": "stdout",
     "output_type": "stream",
     "text": [
      "Bad example - poor formatting:\n",
      "add_numbers(1, 2, 3) = 6\n",
      "\n",
      "Good example - proper formatting with spaces:\n",
      "add_numbers_clean(1, 2, 3) = 6\n"
     ]
    }
   ],
   "source": [
    "# Bad example - poor formatting\n",
    "print(\"Bad example - poor formatting:\")\n",
    "\n",
    "def add_numbers(x,y,z):\n",
    "    result=x+y+z\n",
    "    return result\n",
    "\n",
    "print(f\"add_numbers(1, 2, 3) = {add_numbers(1,2,3)}\")\n",
    "\n",
    "# Good example - proper formatting with spaces\n",
    "print(\"\\nGood example - proper formatting with spaces:\")\n",
    "\n",
    "def add_numbers_clean(x, y, z):\n",
    "    result = x + y + z\n",
    "    return result\n",
    "\n",
    "print(f\"add_numbers_clean(1, 2, 3) = {add_numbers_clean(1, 2, 3)}\")"
   ]
  },
  {
   "cell_type": "markdown",
   "id": "bb54b0f0-7ee5-4898-8898-dcf468a34607",
   "metadata": {},
   "source": [
    "**Why this is better:**\n",
    "- Spaces around operators (=, +) make the code easier to read\n",
    "- Consistent spacing in function definition makes parameters clear\n",
    "- Following these simple rules makes code more readable for everyone"
   ]
  },
  {
   "cell_type": "markdown",
   "id": "00d59f59-7742-40c7-a0bf-a1df08e953f8",
   "metadata": {},
   "source": [
    "## Example 3: Simple Comments"
   ]
  },
  {
   "cell_type": "code",
   "execution_count": 3,
   "id": "65583076-205b-4b53-acd3-c0c580ead386",
   "metadata": {},
   "outputs": [
    {
     "name": "stdout",
     "output_type": "stream",
     "text": [
      "Bad example - missing or unnecessary comments:\n",
      "Area of circle with radius 5: 78.5\n",
      "\n",
      "Good example - helpful comments:\n",
      "Area of circle with radius 5: 78.5\n"
     ]
    }
   ],
   "source": [
    "# Bad example - no comments or unnecessary comments\n",
    "print(\"Bad example - missing or unnecessary comments:\")\n",
    "\n",
    "\n",
    "def calculate_area(radius):\n",
    "    # Multiplying radius by radius\n",
    "    # Multiplying by pi\n",
    "    return 3.14 * radius * radius  # Returning the result\n",
    "\n",
    "\n",
    "area = calculate_area(5)\n",
    "print(f\"Area of circle with radius 5: {area}\")\n",
    "\n",
    "# Good example - helpful comments\n",
    "print(\"\\nGood example - helpful comments:\")\n",
    "\n",
    "\n",
    "# This function calculates the area of a circle\n",
    "def calculate_area_better(radius):\n",
    "    # Using pi = 3.14 for simplicity\n",
    "    return 3.14 * radius * radius\n",
    "\n",
    "\n",
    "area = calculate_area_better(5)\n",
    "print(f\"Area of circle with radius 5: {area}\")"
   ]
  },
  {
   "cell_type": "markdown",
   "id": "238f985c-8762-4134-a1a6-c458c55b80b1",
   "metadata": {},
   "source": [
    "**Why this is better:**\n",
    "- The comment explains what the function does\n",
    "- It doesn't state the obvious (like 'returning the result')\n",
    "- It includes useful information about the value of pi\n"
   ]
  },
  {
   "cell_type": "markdown",
   "id": "b842f6f4-7056-4ef5-9a8a-bfdfeda70544",
   "metadata": {},
   "source": [
    "## Example 4: Simple Function Documentation"
   ]
  },
  {
   "cell_type": "code",
   "execution_count": 4,
   "id": "585a76dd-ab73-4851-a926-44071325c0b6",
   "metadata": {},
   "outputs": [
    {
     "name": "stdout",
     "output_type": "stream",
     "text": [
      "Bad example - no documentation:\n",
      "Hello, Alice!\n",
      "Hi, Bob!\n"
     ]
    }
   ],
   "source": [
    "# Bad example - no documentation\n",
    "print(\"Bad example - no documentation:\")\n",
    "\n",
    "\n",
    "def greet(name, greeting=\"Hello\"):\n",
    "    return f\"{greeting}, {name}!\"\n",
    "\n",
    "\n",
    "print(greet(\"Alice\"))\n",
    "print(greet(\"Bob\", \"Hi\"))"
   ]
  },
  {
   "cell_type": "code",
   "execution_count": 5,
   "id": "392b4f5d-b9ac-42ae-bc2f-cfffa6a38484",
   "metadata": {},
   "outputs": [
    {
     "name": "stdout",
     "output_type": "stream",
     "text": [
      "\n",
      "Good example - with docstring:\n",
      "Hello, Alice!\n",
      "Hi, Bob!\n"
     ]
    }
   ],
   "source": [
    "# Good example - with docstring\n",
    "print(\"\\nGood example - with docstring:\")\n",
    "\n",
    "\n",
    "def greet_documented(name, greeting=\"Hello\"):\n",
    "    \"\"\"Create a personalized greeting message.\n",
    "\n",
    "    This function takes a person's name and creates a greeting.\n",
    "\n",
    "    Args:\n",
    "        name: The name of the person to greet\n",
    "        greeting: The greeting word to use (default is \"Hello\")\n",
    "\n",
    "    Returns:\n",
    "        A greeting message as a string\n",
    "    \"\"\"\n",
    "    return f\"{greeting}, {name}!\"\n",
    "\n",
    "\n",
    "print(greet_documented(\"Alice\"))\n",
    "print(greet_documented(\"Bob\", \"Hi\"))"
   ]
  },
  {
   "cell_type": "markdown",
   "id": "015b11a4-9727-4de0-b71f-774ee44b9552",
   "metadata": {},
   "source": [
    "**Why this is better:**\n",
    "- The docstring explains what the function does\n",
    "- It lists all parameters with descriptions\n",
    "- It explains what the function returns\n",
    "- Other programmers can understand how to use the function without reading the code"
   ]
  },
  {
   "cell_type": "markdown",
   "id": "9a279263-14d4-49a4-ba85-98b97d871269",
   "metadata": {},
   "source": [
    "## Example 5: Good Function Design"
   ]
  },
  {
   "cell_type": "code",
   "execution_count": 6,
   "id": "3342a9bc-2981-41cb-905c-401acd7e06b4",
   "metadata": {},
   "outputs": [
    {
     "name": "stdout",
     "output_type": "stream",
     "text": [
      "Bad example - function does too many things:\n",
      "Student: Emma\n",
      "Average score: 81.0\n",
      "Highest score: 90\n",
      "Emma passed!\n"
     ]
    }
   ],
   "source": [
    "# Bad example - function does too many things\n",
    "print(\"Bad example - function does too many things:\")\n",
    "\n",
    "\n",
    "def process_student(name, scores):\n",
    "    print(f\"Student: {name}\")\n",
    "\n",
    "    # Calculate average\n",
    "    total = 0\n",
    "    for score in scores:\n",
    "        total += score\n",
    "    average = total / len(scores)\n",
    "    print(f\"Average score: {average}\")\n",
    "\n",
    "    # Find highest score\n",
    "    highest = scores[0]\n",
    "    for score in scores:\n",
    "        if score > highest:\n",
    "            highest = score\n",
    "    print(f\"Highest score: {highest}\")\n",
    "\n",
    "    # Determine if student passed\n",
    "    if average >= 60:\n",
    "        print(f\"{name} passed!\")\n",
    "    else:\n",
    "        print(f\"{name} failed.\")\n",
    "\n",
    "\n",
    "# Test the function\n",
    "process_student(\"Emma\", [75, 82, 90, 77])"
   ]
  },
  {
   "cell_type": "code",
   "execution_count": 7,
   "id": "1ac6f5fe-ae06-40e1-bbd2-91e8944e01b0",
   "metadata": {},
   "outputs": [
    {
     "name": "stdout",
     "output_type": "stream",
     "text": [
      "\n",
      "Good example - functions do one thing:\n",
      "Student: Emma\n",
      "Average score: 81.0\n",
      "Highest score: 90\n",
      "Emma passed!\n"
     ]
    }
   ],
   "source": [
    "# Good example - functions do one thing\n",
    "print(\"\\nGood example - functions do one thing:\")\n",
    "\n",
    "\n",
    "def calculate_average(scores):\n",
    "    \"\"\"Calculate the average of a list of scores.\"\"\"\n",
    "    total = 0\n",
    "    for score in scores:\n",
    "        total += score\n",
    "    return total / len(scores)\n",
    "\n",
    "\n",
    "def find_highest_score(scores):\n",
    "    \"\"\"Find the highest score in a list of scores.\"\"\"\n",
    "    highest = scores[0]\n",
    "    for score in scores:\n",
    "        if score > highest:\n",
    "            highest = score\n",
    "    return highest\n",
    "\n",
    "\n",
    "def determine_pass_fail(name, average_score):\n",
    "    \"\"\"Determine if a student passed based on their average score.\"\"\"\n",
    "    if average_score >= 60:\n",
    "        return f\"{name} passed!\"\n",
    "    else:\n",
    "        return f\"{name} failed.\"\n",
    "\n",
    "\n",
    "def display_student_report(name, scores):\n",
    "    \"\"\"Display a complete report for a student.\"\"\"\n",
    "    print(f\"Student: {name}\")\n",
    "\n",
    "    avg = calculate_average(scores)\n",
    "    print(f\"Average score: {avg}\")\n",
    "\n",
    "    highest = find_highest_score(scores)\n",
    "    print(f\"Highest score: {highest}\")\n",
    "\n",
    "    result = determine_pass_fail(name, avg)\n",
    "    print(result)\n",
    "\n",
    "\n",
    "# Test the functions\n",
    "display_student_report(\"Emma\", [75, 82, 90, 77])"
   ]
  },
  {
   "cell_type": "markdown",
   "id": "72f9611b-206c-4dc3-a321-834cc0ab2cff",
   "metadata": {},
   "source": [
    "**Why this is better:**\n",
    "- Each function has a single responsibility\n",
    "- Functions are small and focused\n",
    "- Each function has a meaningful name\n",
    "- The code is easier to test and maintain\n",
    "- Functions can be reused in other parts of the program\n"
   ]
  },
  {
   "cell_type": "markdown",
   "id": "9b0d1cf8-8792-403f-b4b8-0aca25e96fda",
   "metadata": {},
   "source": [
    "## Example 6: Using Better Data Structures"
   ]
  },
  {
   "cell_type": "code",
   "execution_count": 8,
   "id": "30f5242d-7ff0-49b4-a517-67d0688e88d0",
   "metadata": {},
   "outputs": [
    {
     "name": "stdout",
     "output_type": "stream",
     "text": [
      "Bad example - using multiple separate variables:\n",
      "Alex is 15 years old and has grade A\n",
      "Taylor is 16 years old and has grade B\n",
      "\n",
      "Good example - using lists and dictionaries:\n",
      "Alex is 15 years old and has grade A\n",
      "Taylor is 16 years old and has grade B\n"
     ]
    }
   ],
   "source": [
    "# Bad example - using multiple separate variables\n",
    "print(\"Bad example - using multiple separate variables:\")\n",
    "\n",
    "student1_name = \"Alex\"\n",
    "student1_age = 15\n",
    "student1_grade = \"A\"\n",
    "\n",
    "student2_name = \"Taylor\"\n",
    "student2_age = 16\n",
    "student2_grade = \"B\"\n",
    "\n",
    "print(f\"{student1_name} is {student1_age} years old and has grade {student1_grade}\")\n",
    "print(f\"{student2_name} is {student2_age} years old and has grade {student2_grade}\")\n",
    "\n",
    "# Good example - using lists and dictionaries\n",
    "print(\"\\nGood example - using lists and dictionaries:\")\n",
    "\n",
    "# Dictionary for each student\n",
    "student1 = {\"name\": \"Alex\", \"age\": 15, \"grade\": \"A\"}\n",
    "\n",
    "student2 = {\"name\": \"Taylor\", \"age\": 16, \"grade\": \"B\"}\n",
    "\n",
    "# List of students\n",
    "students = [student1, student2]\n",
    "\n",
    "# Display information\n",
    "for student in students:\n",
    "    print(\n",
    "        f\"{student['name']} is {student['age']} years old and has grade {student['grade']}\"\n",
    "    )"
   ]
  },
  {
   "cell_type": "markdown",
   "id": "4d12e9ff-6ce4-41d3-8567-2f6152e96780",
   "metadata": {},
   "source": [
    "**Why this is better:**\n",
    "- Related data is grouped together\n",
    "- Easy to add more students\n",
    "- Easy to add more properties to each student\n",
    "- Can loop through all students with a simple for loop"
   ]
  },
  {
   "cell_type": "markdown",
   "id": "eb793b29-3de0-433d-aa76-5883ffd34d1a",
   "metadata": {},
   "source": [
    "## Example 7: Error Handling Basics"
   ]
  },
  {
   "cell_type": "code",
   "execution_count": 9,
   "id": "624f31e4-bd7c-449d-93ca-873cb3dab5db",
   "metadata": {},
   "outputs": [
    {
     "name": "stdout",
     "output_type": "stream",
     "text": [
      "Bad example - no error handling:\n",
      "10 / 2 = 5.0\n",
      "Error occurred: Cannot divide by zero\n",
      "\n",
      "Good example - with error handling:\n",
      "10 / 2 = 5.0\n",
      "Error: Cannot divide by zero\n",
      "10 / 0 = None\n"
     ]
    }
   ],
   "source": [
    "# Bad example - no error handling\n",
    "print(\"Bad example - no error handling:\")\n",
    "\n",
    "\n",
    "def divide(a, b):\n",
    "    return a / b\n",
    "\n",
    "try:\n",
    "    result = divide(10, 2)\n",
    "    print(f\"10 / 2 = {result}\")\n",
    "\n",
    "    result = divide(10, 0)  # This will cause an error\n",
    "    print(f\"10 / 0 = {result}\")  # This line won't be reached\n",
    "except ZeroDivisionError:\n",
    "    print(\"Error occurred: Cannot divide by zero\")\n",
    "\n",
    "# Good example - with error handling\n",
    "print(\"\\nGood example - with error handling:\")\n",
    "\n",
    "\n",
    "def divide_safely(a, b):\n",
    "    \"\"\"Divide two numbers safely.\n",
    "\n",
    "    Args:\n",
    "        a: The numerator\n",
    "        b: The denominator\n",
    "\n",
    "    Returns:\n",
    "        The result of a / b, or None if b is zero\n",
    "    \"\"\"\n",
    "    try:\n",
    "        return a / b\n",
    "    except ZeroDivisionError:\n",
    "        print(\"Error: Cannot divide by zero\")\n",
    "        return None\n",
    "\n",
    "\n",
    "result = divide_safely(10, 2)\n",
    "print(f\"10 / 2 = {result}\")\n",
    "\n",
    "result = divide_safely(10, 0)\n",
    "print(f\"10 / 0 = {result}\")"
   ]
  },
  {
   "cell_type": "markdown",
   "id": "d3a1c251-67ce-4e58-b5e7-67da67f10d5e",
   "metadata": {},
   "source": [
    "**Why this is better:**\n",
    "- The function handles errors gracefully\n",
    "- It provides a clear error message\n",
    "- The program continues running even when an error occurs\n",
    "- It's more user-friendly"
   ]
  },
  {
   "cell_type": "markdown",
   "id": "51352f49-ed5e-47ed-bd8b-15434cbb8f82",
   "metadata": {},
   "source": [
    "## Example 8: Using Constants"
   ]
  },
  {
   "cell_type": "code",
   "execution_count": 10,
   "id": "d62717d5-b4cc-42cb-bcdf-12d29d3ba636",
   "metadata": {},
   "outputs": [
    {
     "name": "stdout",
     "output_type": "stream",
     "text": [
      "Bad example - using magic numbers:\n",
      "Circle with radius 5:\n",
      "Area: 78.53975\n",
      "Circumference: 31.4159\n",
      "\n",
      "Good example - using a constant:\n",
      "Circle with radius 5:\n",
      "Area: 78.53975\n",
      "Circumference: 31.4159\n"
     ]
    }
   ],
   "source": [
    "# Bad example - using magic numbers\n",
    "print(\"Bad example - using magic numbers:\")\n",
    "\n",
    "\n",
    "def calculate_circle_area(radius):\n",
    "    return 3.14159 * radius * radius\n",
    "\n",
    "\n",
    "def calculate_circle_circumference(radius):\n",
    "    return 2 * 3.14159 * radius\n",
    "\n",
    "\n",
    "area = calculate_circle_area(5)\n",
    "circumference = calculate_circle_circumference(5)\n",
    "\n",
    "print(f\"Circle with radius 5:\")\n",
    "print(f\"Area: {area}\")\n",
    "print(f\"Circumference: {circumference}\")\n",
    "\n",
    "# Good example - using a constant\n",
    "print(\"\\nGood example - using a constant:\")\n",
    "\n",
    "# Constants are typically defined at the top of the file\n",
    "PI = 3.14159\n",
    "\n",
    "\n",
    "def calculate_circle_area_better(radius):\n",
    "    \"\"\"Calculate the area of a circle.\"\"\"\n",
    "    return PI * radius * radius\n",
    "\n",
    "\n",
    "def calculate_circle_circumference_better(radius):\n",
    "    \"\"\"Calculate the circumference of a circle.\"\"\"\n",
    "    return 2 * PI * radius\n",
    "\n",
    "\n",
    "area = calculate_circle_area_better(5)\n",
    "circumference = calculate_circle_circumference_better(5)\n",
    "\n",
    "print(f\"Circle with radius 5:\")\n",
    "print(f\"Area: {area}\")\n",
    "print(f\"Circumference: {circumference}\")"
   ]
  },
  {
   "cell_type": "markdown",
   "id": "fddb7caf-6599-4e53-bcca-42ec8346ab92",
   "metadata": {},
   "source": [
    "**Why this is better:**\n",
    "- The value of PI is defined once and reused\n",
    "- If you need to change the value, you only change it in one place\n",
    "- The code is more readable because PI has a meaningful name\n",
    "- It's clear that PI is a constant because it's in all capital letters"
   ]
  },
  {
   "cell_type": "markdown",
   "id": "374d3f70-912c-4893-a8c7-16dcb001f167",
   "metadata": {},
   "source": [
    "## Example 9: Indentation and Line Length"
   ]
  },
  {
   "cell_type": "code",
   "execution_count": 11,
   "id": "b3085dce-bb5f-4283-b6d0-d97799d9e9f1",
   "metadata": {},
   "outputs": [
    {
     "name": "stdout",
     "output_type": "stream",
     "text": [
      "Bad example - poor indentation and long lines:\n",
      "\n",
      "Good example - proper indentation and manageable line length:\n"
     ]
    }
   ],
   "source": [
    "# Bad example - poor indentation and long lines\n",
    "print(\"Bad example - poor indentation and long lines:\")\n",
    "\n",
    "\n",
    "def complex_calculation(a, b, c, d):\n",
    "    result = (\n",
    "        (a + b) * (c + d)\n",
    "        + a * b * c * d\n",
    "        + (a + b + c + d) / (a * b * c * d)\n",
    "        + a**2\n",
    "        + b**2\n",
    "        + c**2\n",
    "        + d**2\n",
    "        + (a + b) * (c - d)\n",
    "        + (a - b) * (c + d)\n",
    "    )\n",
    "    return result\n",
    "\n",
    "\n",
    "# Good example - proper indentation and manageable line length\n",
    "print(\"\\nGood example - proper indentation and manageable line length:\")\n",
    "\n",
    "\n",
    "def complex_calculation_better(a, b, c, d):\n",
    "    \"\"\"Perform a complex calculation with four numbers.\"\"\"\n",
    "    # Break the calculation into smaller parts\n",
    "    part1 = (a + b) * (c + d)\n",
    "    part2 = a * b * c * d\n",
    "    part3 = (a + b + c + d) / (a * b * c * d)\n",
    "    part4 = a**2 + b**2 + c**2 + d**2\n",
    "    part5 = (a + b) * (c - d)\n",
    "    part6 = (a - b) * (c + d)\n",
    "\n",
    "    # Combine the parts\n",
    "    result = part1 + part2 + part3 + part4 + part5 + part6\n",
    "    return result\n"
   ]
  },
  {
   "cell_type": "markdown",
   "id": "260728d9-7a1b-4a35-bca8-96023fc7416d",
   "metadata": {},
   "source": [
    "**Why this is better:**\n",
    "- Breaking long expressions makes the code more readable\n",
    "- Consistent indentation makes the code structure clear\n",
    "- Breaking the calculation into parts makes it easier to understand\n",
    "- It's easier to debug because you can check each part separately"
   ]
  },
  {
   "cell_type": "markdown",
   "id": "c0e509aa-a27f-4659-8484-e0b588ebd3e5",
   "metadata": {},
   "source": [
    "## Example 10: Consistent Return Types"
   ]
  },
  {
   "cell_type": "code",
   "execution_count": 12,
   "id": "d2a2db29-4f18-4a13-8114-4e0a6d01ea18",
   "metadata": {},
   "outputs": [
    {
     "name": "stdout",
     "output_type": "stream",
     "text": [
      "Bad example - inconsistent return types:\n",
      "Day 0: Sunday\n",
      "Day 3: Weekday\n",
      "Day 9: Error: day_number must be between 0 and 6\n",
      "\n",
      "Good example - consistent return types:\n",
      "Error: 9 is not a valid day number (must be 0-6)\n",
      "Day 0: Weekend\n",
      "Day 3: Weekday\n",
      "Day 9: None\n"
     ]
    }
   ],
   "source": [
    "# Bad example - inconsistent return types\n",
    "print(\"Bad example - inconsistent return types:\")\n",
    "\n",
    "\n",
    "def get_day_type(day_number):\n",
    "    if day_number == 0:\n",
    "        return \"Sunday\"\n",
    "    elif day_number == 6:\n",
    "        return \"Saturday\"\n",
    "    elif 1 <= day_number <= 5:\n",
    "        return \"Weekday\"\n",
    "    else:\n",
    "        # Returning an error message instead of a day type\n",
    "        return \"Error: day_number must be between 0 and 6\"\n",
    "\n",
    "\n",
    "day0 = get_day_type(0)\n",
    "day3 = get_day_type(3)\n",
    "day9 = get_day_type(9)\n",
    "\n",
    "print(f\"Day 0: {day0}\")\n",
    "print(f\"Day 3: {day3}\")\n",
    "print(f\"Day 9: {day9}\")\n",
    "\n",
    "# Good example - consistent return types\n",
    "print(\"\\nGood example - consistent return types:\")\n",
    "\n",
    "\n",
    "def get_day_type_better(day_number):\n",
    "    \"\"\"Get the type of a day (weekend or weekday).\n",
    "\n",
    "    Args:\n",
    "        day_number: Day number (0 = Sunday, 6 = Saturday)\n",
    "\n",
    "    Returns:\n",
    "        The day type as a string, or None if the day_number is invalid\n",
    "    \"\"\"\n",
    "    if day_number == 0 or day_number == 6:\n",
    "        return \"Weekend\"\n",
    "    elif 1 <= day_number <= 5:\n",
    "        return \"Weekday\"\n",
    "    else:\n",
    "        print(f\"Error: {day_number} is not a valid day number (must be 0-6)\")\n",
    "        return None\n",
    "\n",
    "\n",
    "day0 = get_day_type_better(0)\n",
    "day3 = get_day_type_better(3)\n",
    "day9 = get_day_type_better(9)\n",
    "\n",
    "print(f\"Day 0: {day0}\")\n",
    "print(f\"Day 3: {day3}\")\n",
    "print(f\"Day 9: {day9}\")"
   ]
  },
  {
   "cell_type": "markdown",
   "id": "6eb42448-8747-4c8c-92d0-532ab4947b64",
   "metadata": {},
   "source": [
    "**Why this is better:**\n",
    "- The function always returns the same type (string or None)\n",
    "- Error messages are printed, not returned\n",
    "- This makes it easier to use the function's return value\n",
    "- We can easily check if the result is None to see if an error occurred\n",
    "The history saving thread hit an unexpected error (OperationalError('attempt to write a readonly database')).History will not be written to the database."
   ]
  },
  {
   "cell_type": "markdown",
   "id": "cb23fc99-c112-4f4b-b5c0-a1a358ce119e",
   "metadata": {},
   "source": [
    "## Additional Examples"
   ]
  },
  {
   "cell_type": "code",
   "execution_count": 13,
   "id": "ad7860c6-ef01-4f8d-9fbe-3f5387943fdf",
   "metadata": {},
   "outputs": [
    {
     "name": "stdout",
     "output_type": "stream",
     "text": [
      "Results: 2\n"
     ]
    }
   ],
   "source": [
    "# Bad example - hard to futher addition\n",
    "\n",
    "def calculate(a, b, operation):\n",
    "    if operation == 1:\n",
    "        return a + b\n",
    "    elif operation == 2:\n",
    "        return a - b\n",
    "    elif operation == 3:\n",
    "        return a * b\n",
    "\n",
    "print(f\"Results: {calculate(1,2, 3)}\")"
   ]
  },
  {
   "cell_type": "code",
   "execution_count": 14,
   "id": "f22acbdb-c40f-444d-90dd-e332d95e7936",
   "metadata": {},
   "outputs": [
    {
     "name": "stdout",
     "output_type": "stream",
     "text": [
      "Results: 2\n"
     ]
    }
   ],
   "source": [
    "# Good example - easy to futher modification\n",
    "\n",
    "def add(a, b):\n",
    "    return a + b\n",
    "def subtract(a, b):\n",
    "    return a - b\n",
    "def multiply(a, b):\n",
    "    return a * b\n",
    "\n",
    "operations = {\n",
    "    'add': add,\n",
    "    'subtract': subtract,\n",
    "    'multiply': multiply\n",
    "}\n",
    "\n",
    "def calculate(a, b, operation):\n",
    "    func = operations.get(operation)\n",
    "    if func:\n",
    "        return func(a, b)\n",
    "    else:\n",
    "        raise ValueError(\"Invalid operation\")\n",
    "\n",
    "print(f\"Results: {calculate(1,2, operation='multiply')}\")"
   ]
  },
  {
   "cell_type": "code",
   "execution_count": 15,
   "id": "7cb2e2bc-3350-4d9d-83ab-bd2b3bcf12e3",
   "metadata": {},
   "outputs": [
    {
     "name": "stdout",
     "output_type": "stream",
     "text": [
      "\n",
      "Results:\n"
     ]
    },
    {
     "data": {
      "text/plain": [
       "'Thiếu cân'"
      ]
     },
     "execution_count": 15,
     "metadata": {},
     "output_type": "execute_result"
    }
   ],
   "source": [
    "# Bad example - Unfollow PEP-8\n",
    "def calculateBMI(height,weight):\n",
    "    BMI=weight/(height**2)\n",
    "    if(BMI<=18.5):return\"Thiếu cân\"\n",
    "    elif(BMI<=25):return\"Bình thường\"\n",
    "    else:return\"Thừa cân\"\n",
    "\n",
    "print(\"\\nResults:\")\n",
    "calculateBMI(height=170, weight=70)"
   ]
  },
  {
   "cell_type": "code",
   "execution_count": 16,
   "id": "1c297634-3c6c-4f1e-859b-6b915cbf865d",
   "metadata": {},
   "outputs": [
    {
     "name": "stdout",
     "output_type": "stream",
     "text": [
      "\n",
      "Results:\n"
     ]
    },
    {
     "data": {
      "text/plain": [
       "'Thiếu cân'"
      ]
     },
     "execution_count": 16,
     "metadata": {},
     "output_type": "execute_result"
    }
   ],
   "source": [
    "# Good example - follow PEP-8\n",
    "def calculate_bmi(height, weight):\n",
    "    \"\"\"Tính chỉ số BMI và phân loại kết quả.\n",
    "\n",
    "    Args:\n",
    "        height: Chiều cao (m)\n",
    "        weight: Cân nặng (kg)\n",
    "\n",
    "    Returns:\n",
    "        str: Kết quả phân loại BMI\n",
    "    \"\"\"\n",
    "    bmi = weight / (height ** 2)\n",
    "\n",
    "    if bmi <= 18.5:\n",
    "        return \"Thiếu cân\"\n",
    "    elif bmi <= 25:\n",
    "        return \"Bình thường\"\n",
    "    else:\n",
    "        return \"Thừa cân\"\n",
    "\n",
    "print(\"\\nResults:\")\n",
    "calculateBMI(height=170, weight=70)"
   ]
  },
  {
   "cell_type": "code",
   "execution_count": 17,
   "id": "82b6f342-e606-42b8-a32e-33c666b0bec9",
   "metadata": {},
   "outputs": [],
   "source": [
    "# Annotation basics\n",
    "def calculate_total(price: float, quantity: int) -> float:\n",
    "    \"\"\"Tính tổng giá trị đơn hàng.\n",
    "\n",
    "    Args:\n",
    "        price: Giá sản phẩm (VND)\n",
    "        quantity: Số lượng sản phẩm\n",
    "\n",
    "    Returns:\n",
    "        Tổng giá trị đơn hàng\n",
    "    \"\"\"\n",
    "    return price * quantity"
   ]
  },
  {
   "cell_type": "code",
   "execution_count": 18,
   "id": "b22912dc-eb51-4fe4-961e-4c762275c63b",
   "metadata": {},
   "outputs": [],
   "source": [
    "# Anotation for complex types\n",
    "from typing import List, Dict, Optional, Union, Tuple\n",
    "\n",
    "# Kiểu Union - nhiều kiểu có thể\n",
    "def process_input(data: Union[str, bytes]) -> str:\n",
    "    return data.decode() if isinstance(data, bytes) else data\n",
    "\n",
    "# Kiểu Optional - có thể None\n",
    "def get_user(id: int) -> Optional[Dict[str, any]]:\n",
    "    # Trả về None nếu không tìm thấy\n",
    "    return database.find_user(id)\n",
    "\n",
    "# Kiểu phức hợp\n",
    "def analyze_data(\n",
    "    values: List[float],\n",
    "    labels: Dict[str, str],\n",
    "    config: Optional[Tuple[int, int]] = None\n",
    ") -> Dict[str, List[float]]:\n",
    "    # xử lý và trả về kết quả\n",
    "    ..."
   ]
  },
  {
   "cell_type": "markdown",
   "id": "3df8fc40-7e18-4be6-8e09-dee3e8a95f3d",
   "metadata": {},
   "source": [
    "## Exercises"
   ]
  },
  {
   "cell_type": "code",
   "execution_count": 19,
   "id": "f1d29b0b-e3a8-4489-9488-52f143657945",
   "metadata": {},
   "outputs": [],
   "source": [
    "# Refactoring below code to follow the clean code rules\n",
    "def BMI(h,w):\n",
    "    bmi=w/(h*h)\n",
    "    if bmi<18.5:\n",
    "        return \"thin\"\n",
    "    elif 18.5<=bmi<25:\n",
    "        return \"normal\"\n",
    "    elif 25<=bmi<30:\n",
    "        return \"fat\"\n",
    "    else:\n",
    "        return \"very fat\""
   ]
  },
  {
   "cell_type": "code",
   "execution_count": 20,
   "id": "31683b55-60fb-4639-b6ca-50225c4c98f5",
   "metadata": {},
   "outputs": [],
   "source": [
    "# Example of answer\n",
    "def calculate_bmi_category(height: float, weight: float) -> str:\n",
    "    \"\"\"\n",
    "    Phân loại cơ thể dựa trên chỉ số BMI.\n",
    "\n",
    "    Parameters:\n",
    "    height (float): Chiều cao (mét).\n",
    "    weight (float): Cân nặng (kg).\n",
    "\n",
    "    Returns:\n",
    "    str: Phân loại BMI ('thin', 'normal', 'fat', 'very fat').\n",
    "    \"\"\"\n",
    "    bmi = weight / (height ** 2)\n",
    "\n",
    "    if bmi < 18.5:\n",
    "        return \"thin\"\n",
    "    elif 18.5 <= bmi < 25:\n",
    "        return \"normal\"\n",
    "    elif 25 <= bmi < 30:\n",
    "        return \"fat\"\n",
    "    else:\n",
    "        return \"very fat\""
   ]
  },
  {
   "cell_type": "markdown",
   "id": "630d4129-8f8f-4f3e-807f-4d9bdcf349e1",
   "metadata": {},
   "source": [
    "# End"
   ]
  }
 ],
 "metadata": {
  "kernelspec": {
   "display_name": "Python (myenv)",
   "language": "python",
   "name": "myenv"
  },
  "language_info": {
   "codemirror_mode": {
    "name": "ipython",
    "version": 3
   },
   "file_extension": ".py",
   "mimetype": "text/x-python",
   "name": "python",
   "nbconvert_exporter": "python",
   "pygments_lexer": "ipython3",
   "version": "3.10.6"
  }
 },
 "nbformat": 4,
 "nbformat_minor": 5
}
