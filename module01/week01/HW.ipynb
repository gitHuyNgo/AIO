{
 "cells": [
  {
   "cell_type": "markdown",
   "id": "e4cff992",
   "metadata": {},
   "source": [
    "# Exercise: Activation Functions"
   ]
  },
  {
   "cell_type": "markdown",
   "id": "3607cabc",
   "metadata": {},
   "source": [
    "## I. Introduction"
   ]
  },
  {
   "cell_type": "code",
   "execution_count": 1,
   "id": "694e48d9",
   "metadata": {},
   "outputs": [],
   "source": [
    "x = 10\n",
    "name = 'Huy'\n",
    "flag = True"
   ]
  },
  {
   "cell_type": "code",
   "execution_count": 2,
   "id": "de2525d9",
   "metadata": {},
   "outputs": [
    {
     "name": "stdout",
     "output_type": "stream",
     "text": [
      "Positive number\n"
     ]
    }
   ],
   "source": [
    "if x > 0:\n",
    "    print('Positive number')\n",
    "elif x == 0:\n",
    "    print('Zero')\n",
    "else:\n",
    "    print('Negative number')"
   ]
  },
  {
   "cell_type": "code",
   "execution_count": 3,
   "id": "d5e5afaf",
   "metadata": {},
   "outputs": [
    {
     "name": "stdout",
     "output_type": "stream",
     "text": [
      "0\n",
      "1\n",
      "2\n",
      "3\n",
      "4\n"
     ]
    }
   ],
   "source": [
    "for i in range(5):\n",
    "    print(i)"
   ]
  },
  {
   "cell_type": "code",
   "execution_count": 4,
   "id": "1c6a7ef6",
   "metadata": {},
   "outputs": [
    {
     "name": "stdout",
     "output_type": "stream",
     "text": [
      "0\n",
      "1\n",
      "2\n",
      "3\n",
      "4\n"
     ]
    }
   ],
   "source": [
    "x = 0\n",
    "while x < 5:\n",
    "    print(x)\n",
    "    x += 1"
   ]
  },
  {
   "cell_type": "code",
   "execution_count": 5,
   "id": "a8e95a69",
   "metadata": {},
   "outputs": [
    {
     "name": "stdout",
     "output_type": "stream",
     "text": [
      "Hello An\n"
     ]
    }
   ],
   "source": [
    "def greet(name):\n",
    "    return 'Hello ' + name\n",
    "\n",
    "print(greet('An'))"
   ]
  },
  {
   "cell_type": "code",
   "execution_count": 6,
   "id": "5884ba17",
   "metadata": {},
   "outputs": [],
   "source": [
    "def say_hello(name='there'):\n",
    "    print('Hello', name)\n",
    "\n",
    "def sum_all(*args):\n",
    "    return sum(args)"
   ]
  },
  {
   "cell_type": "markdown",
   "id": "e66f65cd",
   "metadata": {},
   "source": [
    "## II. Constructed-response"
   ]
  },
  {
   "cell_type": "markdown",
   "id": "41df5395",
   "metadata": {},
   "source": [
    "### 1. Write a function to calculate the F1-Score metric, which is commonly used to evaluate classification models"
   ]
  },
  {
   "cell_type": "code",
   "execution_count": null,
   "id": "b426d842",
   "metadata": {},
   "outputs": [],
   "source": [
    "def evaluate_f1_components(tp, fp, fn):\n",
    "    # Checking data type\n",
    "    if not isinstance(tp, int):\n",
    "        print('tp must be int')\n",
    "        return\n",
    "    if not isinstance(fp, int):\n",
    "        print('fp must be int')\n",
    "        return\n",
    "    if not isinstance(fn, int):\n",
    "        print('fn must be int')\n",
    "        return\n",
    "    \n",
    "    # Checking non-negative values\n",
    "    if tp < 0 or fp < 0 or fn < 0:\n",
    "        print('tp and fp and fn must be greater than or equal zero')\n",
    "        return\n",
    "    \n",
    "    # Calculating Precision\n",
    "    if tp + fp == 0:\n",
    "        precision = 0\n",
    "    else:\n",
    "        precision = tp / (tp + fp)\n",
    "\n",
    "    # Calculating Recall\n",
    "    if tp + fn == 0:\n",
    "        recall = 0\n",
    "    else:\n",
    "        recall = tp / (tp + fn)\n",
    "\n",
    "    # Calculating F1-score\n",
    "    if precision + recall == 0:\n",
    "        f1_score = 0\n",
    "    else:\n",
    "        f1_score = 2 * ((precision * recall) / (precision + recall))\n",
    "    \n",
    "    # Printing\n",
    "    print(f'precision is {precision}')\n",
    "    print(f'recall is {recall}')\n",
    "    print(f'f1-score is {f1_score}')"
   ]
  },
  {
   "cell_type": "code",
   "execution_count": 12,
   "id": "3b7dfd3f",
   "metadata": {},
   "outputs": [
    {
     "name": "stdout",
     "output_type": "stream",
     "text": [
      "precision is 0.4\n",
      "recall is 0.3333333333333333\n",
      "f1-score is 0.3636363636363636\n"
     ]
    }
   ],
   "source": [
    "evaluate_f1_components(2, 3, 4)"
   ]
  },
  {
   "cell_type": "markdown",
   "id": "002bb6c7",
   "metadata": {},
   "source": [
    "### 2. Write a function to compute the values of activation functions"
   ]
  },
  {
   "cell_type": "code",
   "execution_count": 13,
   "id": "7904f6ef",
   "metadata": {},
   "outputs": [],
   "source": [
    "from math import *"
   ]
  },
  {
   "cell_type": "code",
   "execution_count": 14,
   "id": "656c57cd",
   "metadata": {},
   "outputs": [],
   "source": [
    "def sigmoid(x):\n",
    "    return 1 / (1 + exp(-x))"
   ]
  },
  {
   "cell_type": "code",
   "execution_count": 15,
   "id": "ff610d2f",
   "metadata": {},
   "outputs": [],
   "source": [
    "def relu(x):\n",
    "    return x if x > 0 else 0"
   ]
  },
  {
   "cell_type": "code",
   "execution_count": 16,
   "id": "fd0e602b",
   "metadata": {},
   "outputs": [],
   "source": [
    "def elu(x, alpha=0.01):\n",
    "    return x if x > 0 else alpha * (exp(x) - 1)"
   ]
  },
  {
   "cell_type": "code",
   "execution_count": 21,
   "id": "350b26a4",
   "metadata": {},
   "outputs": [
    {
     "name": "stdout",
     "output_type": "stream",
     "text": [
      "relu: f(3.0) = 3.0\n"
     ]
    }
   ],
   "source": [
    "option = input('Choose the activation function (sigmoid/relu/elu): ').lower()\n",
    "x_value = float(input('Enter x: '))\n",
    "if option == 'sigmoid':\n",
    "    print(f'sigmod: f({x_value}) = {sigmoid(x_value)}')\n",
    "elif option == 'relu':\n",
    "    print(f'relu: f({x_value}) = {relu(x_value)}')\n",
    "else:\n",
    "    print(f'elu: f({x_value}) = {elu(x_value)}')"
   ]
  }
 ],
 "metadata": {
  "kernelspec": {
   "display_name": ".venv",
   "language": "python",
   "name": "python3"
  },
  "language_info": {
   "codemirror_mode": {
    "name": "ipython",
    "version": 3
   },
   "file_extension": ".py",
   "mimetype": "text/x-python",
   "name": "python",
   "nbconvert_exporter": "python",
   "pygments_lexer": "ipython3",
   "version": "3.13.3"
  }
 },
 "nbformat": 4,
 "nbformat_minor": 5
}
