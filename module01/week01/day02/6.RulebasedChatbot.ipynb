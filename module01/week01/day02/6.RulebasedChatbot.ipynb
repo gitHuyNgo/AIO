{
 "cells": [
  {
   "cell_type": "markdown",
   "metadata": {},
   "source": [
    "## Rule-based Chatbot (simple implementation)"
   ]
  },
  {
   "cell_type": "code",
   "execution_count": 1,
   "metadata": {},
   "outputs": [],
   "source": [
    "def respond_to_user(user_input):\n",
    "    # Xử lý đầu vào của người dùng\n",
    "    user_input = user_input.lower().strip()\n",
    "\n",
    "    # Chào người dùng\n",
    "    if user_input == \"hi\":\n",
    "        print(\n",
    "            \"Xin chào quý khách! Tôi có thể giúp gì cho quý khách?\\n\"\n",
    "            \"['Tư vấn mua hàng', 'Tra cứu bảo hành', 'Hỗ trợ kỹ thuật']\"\n",
    "        )\n",
    "\n",
    "    elif user_input == \"hello\":\n",
    "        print(\n",
    "            \"Xin chào, bạn cần tôi giúp gì không?\\n\"\n",
    "            \"['Tư vấn mua hàng', 'Tra cứu bảo hành', 'Hỗ trợ kỹ thuật']\"\n",
    "        )\n",
    "\n",
    "    # Tư vấn mua hàng\n",
    "    elif user_input == \"tư vấn mua hàng\":\n",
    "        print([\"điện thoại\", \"laptop\", \"máy tính bảng\"])\n",
    "\n",
    "    elif user_input == \"điện thoại\":\n",
    "        print(\"Quý khách muốn mua điện thoại nào ạ?\")\n",
    "\n",
    "    elif user_input == \"laptop\":\n",
    "        print(\"Quý khách muốn mua laptop nào ạ?\")\n",
    "\n",
    "    elif user_input == \"máy tính bảng\":\n",
    "        print(\"Quý khách muốn mua tablet nào ạ?\")\n",
    "\n",
    "    # Tra cứu bảo hành\n",
    "    elif user_input == \"tra cứu bảo hành\":\n",
    "        print([\"tra cứu bằng số điện thoại\", \"tra cứu bằng IMEI\"])\n",
    "\n",
    "    elif user_input == \"tra cứu bằng số điện thoại\":\n",
    "        print(\"Quý khách vui lòng nhập số điện thoại để tra cứu bảo hành\")\n",
    "\n",
    "    elif user_input == \"tra cứu bằng imei\":\n",
    "        print(\"Quý khách vui lòng nhập IMEI để tra cứu bảo hành\")\n",
    "\n",
    "    # Hỗ trợ kỹ thuật\n",
    "    elif user_input == \"hỗ trợ kỹ thuật\":\n",
    "        print([\"lỗi phần cứng\", \"lỗi phần mềm\"])\n",
    "\n",
    "    elif user_input == \"lỗi phần cứng\":\n",
    "        print(\"Quý khách vui lòng mô tả lỗi phần cứng để được hỗ trợ\")\n",
    "\n",
    "    elif user_input == \"lỗi phần mềm\":\n",
    "        print(\"Quý khách vui lòng mô tả lỗi phần mềm để được hỗ trợ\")\n",
    "\n",
    "    # Không hiểu yêu cầu\n",
    "    else:\n",
    "        print(\"Xin lỗi! Tôi không hiểu yêu cầu của bạn. Bạn có thể nói rõ hơn không?\")"
   ]
  },
  {
   "cell_type": "code",
   "execution_count": 8,
   "metadata": {},
   "outputs": [
    {
     "name": "stdout",
     "output_type": "stream",
     "text": [
      "Xin chào quý khách! Tôi có thể giúp gì cho quý khách?\n",
      "['Tư vấn mua hàng', 'Tra cứu bảo hành', 'Hỗ trợ kỹ thuật']\n"
     ]
    }
   ],
   "source": [
    "user_input = \"Hi\"\n",
    "respond_to_user(user_input)"
   ]
  },
  {
   "cell_type": "code",
   "execution_count": 9,
   "metadata": {},
   "outputs": [
    {
     "name": "stdout",
     "output_type": "stream",
     "text": [
      "['điện thoại', 'laptop', 'máy tính bảng']\n"
     ]
    }
   ],
   "source": [
    "user_input = \"Tư vấn mua hàng\"\n",
    "respond_to_user(user_input)"
   ]
  },
  {
   "cell_type": "code",
   "execution_count": 10,
   "metadata": {},
   "outputs": [
    {
     "name": "stdout",
     "output_type": "stream",
     "text": [
      "Quý khách muốn mua điện thoại nào ạ?\n"
     ]
    }
   ],
   "source": [
    "user_input = \"điện thoại\"\n",
    "respond_to_user(user_input)"
   ]
  },
  {
   "cell_type": "code",
   "execution_count": null,
   "metadata": {},
   "outputs": [],
   "source": []
  },
  {
   "cell_type": "code",
   "execution_count": null,
   "metadata": {},
   "outputs": [],
   "source": []
  }
 ],
 "metadata": {
  "kernelspec": {
   "display_name": "quyen",
   "language": "python",
   "name": "python3"
  },
  "language_info": {
   "codemirror_mode": {
    "name": "ipython",
    "version": 3
   },
   "file_extension": ".py",
   "mimetype": "text/x-python",
   "name": "python",
   "nbconvert_exporter": "python",
   "pygments_lexer": "ipython3",
   "version": "3.12.4"
  }
 },
 "nbformat": 4,
 "nbformat_minor": 4
}
