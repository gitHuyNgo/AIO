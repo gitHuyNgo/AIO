{
 "cells": [
  {
   "cell_type": "markdown",
   "id": "b8a479c9",
   "metadata": {},
   "source": [
    "### compute the area of a unit circle"
   ]
  },
  {
   "cell_type": "code",
   "execution_count": 3,
   "id": "15e56738",
   "metadata": {},
   "outputs": [],
   "source": [
    "import math\n",
    "\n",
    "def compute_area(selected_degree):\n",
    "    # sin and cosine values for the selected_degree\n",
    "    sin_degree = math.sin(math.radians(selected_degree))\n",
    "    cos_degree = math.cos(math.radians(selected_degree))\n",
    "    \n",
    "    # compute area for a part\n",
    "    area_degree = sin_degree*cos_degree/2\n",
    "    \n",
    "    # summarize (360/selected_degree) parts\n",
    "    area = area_degree*(360/selected_degree)    \n",
    "    return area"
   ]
  },
  {
   "cell_type": "code",
   "execution_count": 4,
   "id": "15198d81",
   "metadata": {},
   "outputs": [
    {
     "name": "stdout",
     "output_type": "stream",
     "text": [
      "3.1415925897908705\n"
     ]
    }
   ],
   "source": [
    "area = compute_area(0.01)\n",
    "print(area)"
   ]
  },
  {
   "cell_type": "code",
   "execution_count": null,
   "id": "148d04ff",
   "metadata": {},
   "outputs": [],
   "source": []
  }
 ],
 "metadata": {
  "kernelspec": {
   "display_name": "Python 3 (ipykernel)",
   "language": "python",
   "name": "python3"
  },
  "language_info": {
   "codemirror_mode": {
    "name": "ipython",
    "version": 3
   },
   "file_extension": ".py",
   "mimetype": "text/x-python",
   "name": "python",
   "nbconvert_exporter": "python",
   "pygments_lexer": "ipython3",
   "version": "3.9.13"
  }
 },
 "nbformat": 4,
 "nbformat_minor": 5
}
