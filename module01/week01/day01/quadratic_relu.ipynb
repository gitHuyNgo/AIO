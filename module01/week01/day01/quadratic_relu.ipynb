{
 "cells": [
  {
   "cell_type": "code",
   "execution_count": 3,
   "id": "f3456377",
   "metadata": {},
   "outputs": [],
   "source": [
    "from math import *"
   ]
  },
  {
   "cell_type": "code",
   "execution_count": null,
   "id": "e69ddb90",
   "metadata": {},
   "outputs": [
    {
     "name": "stdout",
     "output_type": "stream",
     "text": [
      "x = 1.0, -4.0\n"
     ]
    }
   ],
   "source": [
    "def solve_quadratic(a, b, c):\n",
    "    delta = b ** 2 - 4 * a * c\n",
    "    \n",
    "    if delta < 0:\n",
    "        print('No solution')\n",
    "    elif delta == 0:\n",
    "        print(f'x1 = x2 = {-b / a}')\n",
    "    else:\n",
    "        x1 = (-b + sqrt(delta)) / (2 * a)\n",
    "        x2 = (-b - sqrt(delta)) / (2 * a)\n",
    "        print(f'x = {x1}, {x2}')\n",
    "\n",
    "\n",
    "a, b, c = map(int, input().split())\n",
    "solve_quadratic(a, b, c)"
   ]
  },
  {
   "cell_type": "code",
   "execution_count": null,
   "id": "b5e75623",
   "metadata": {},
   "outputs": [],
   "source": [
    "def ReLu(x):\n",
    "    if x > 0:\n",
    "        return x\n",
    "    else:\n",
    "        return 0\n",
    "    \n",
    "print(ReLu(x=2))\n",
    "print(ReLu(x=-2))"
   ]
  }
 ],
 "metadata": {
  "kernelspec": {
   "display_name": ".venv",
   "language": "python",
   "name": "python3"
  },
  "language_info": {
   "codemirror_mode": {
    "name": "ipython",
    "version": 3
   },
   "file_extension": ".py",
   "mimetype": "text/x-python",
   "name": "python",
   "nbconvert_exporter": "python",
   "pygments_lexer": "ipython3",
   "version": "3.13.3"
  }
 },
 "nbformat": 4,
 "nbformat_minor": 5
}
