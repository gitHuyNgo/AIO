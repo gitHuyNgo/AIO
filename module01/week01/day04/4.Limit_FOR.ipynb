{
 "cells": [
  {
   "cell_type": "code",
   "execution_count": 1,
   "id": "00fee38d-d923-435d-835a-245e196ff395",
   "metadata": {},
   "outputs": [],
   "source": [
    "import math\n",
    "\n",
    "def compute_y(x):\n",
    "    return math.sqrt(1 - x*x)"
   ]
  },
  {
   "cell_type": "code",
   "execution_count": 17,
   "id": "75ffc583-6b70-40e1-a242-c487de76960c",
   "metadata": {},
   "outputs": [],
   "source": [
    "delta_x = 0.01\n",
    "n = int(2 / delta_x)\n",
    "\n",
    "x = -1.0\n",
    "half_area = 0.0\n",
    "for _ in range(n):\n",
    "    y = compute_y(x)\n",
    "    half_area = half_area + delta_x*y\n",
    "    x = x + delta_x"
   ]
  },
  {
   "cell_type": "code",
   "execution_count": 18,
   "id": "299b5260-89cb-4a34-8d4f-d15bcb6a1bb0",
   "metadata": {},
   "outputs": [
    {
     "name": "stdout",
     "output_type": "stream",
     "text": [
      "3.1404170317790423\n"
     ]
    }
   ],
   "source": [
    "print(half_area*2)"
   ]
  }
 ],
 "metadata": {
  "kernelspec": {
   "display_name": "Python 3 (ipykernel)",
   "language": "python",
   "name": "python3"
  },
  "language_info": {
   "codemirror_mode": {
    "name": "ipython",
    "version": 3
   },
   "file_extension": ".py",
   "mimetype": "text/x-python",
   "name": "python",
   "nbconvert_exporter": "python",
   "pygments_lexer": "ipython3",
   "version": "3.9.18"
  }
 },
 "nbformat": 4,
 "nbformat_minor": 5
}
