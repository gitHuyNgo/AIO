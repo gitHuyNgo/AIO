{
 "cells": [
  {
   "cell_type": "code",
   "execution_count": null,
   "metadata": {},
   "outputs": [],
   "source": [
    "# Lỗi 1\n",
    "\n",
    "# khai báo biến a = 5\n",
    "a = 5\n",
    "\n",
    "# thực hiên a + b, sau đó lưu vào biến c\n",
    "c = a + b\n",
    "\n",
    "# in giá trị c\n",
    "print(c)"
   ]
  },
  {
   "cell_type": "code",
   "execution_count": null,
   "metadata": {},
   "outputs": [],
   "source": [
    "# Lỗi 2\n",
    "\n",
    "# khai báo biến a = 5\n",
    "a = 5\n",
    "\n",
    "# in giá trị a\n",
    "Print(a)"
   ]
  },
  {
   "cell_type": "code",
   "execution_count": null,
   "metadata": {},
   "outputs": [],
   "source": [
    "# Lỗi 3\n",
    "\n",
    "# khai báo biến chuỗi s\n",
    "s = 'Hello AIVIETNAM\"\n",
    "\n",
    "# in giá trị s\n",
    "print(s)"
   ]
  },
  {
   "cell_type": "code",
   "execution_count": null,
   "metadata": {},
   "outputs": [],
   "source": [
    "# Lỗi 4\n",
    "\n",
    "# khai báo biến a và b\n",
    "a = 5\n",
    "b = 0\n",
    "\n",
    "# tính giá trị c bằng a chia cho b\n",
    "c = a / b\n",
    "\n",
    "# in giá trị c\n",
    "print(c)"
   ]
  },
  {
   "cell_type": "code",
   "execution_count": null,
   "metadata": {},
   "outputs": [],
   "source": [
    "# Lỗi 5\n",
    "\n",
    "# khai báo biến chuỗi s\n",
    "s = 'AI'\n",
    "\n",
    "# khai báo biến n có kiểu integer\n",
    "n = 5\n",
    "\n",
    "# tính giá trị c\n",
    "c = s + n\n",
    "\n",
    "# in giá trị c\n",
    "print(c)"
   ]
  },
  {
   "cell_type": "code",
   "execution_count": null,
   "metadata": {},
   "outputs": [],
   "source": [
    "# Lỗi 6\n",
    "\n",
    "# khai báo biến chuỗi s\n",
    "s = 'AI'\n",
    "\n",
    "# khai báo biến n có kiểu integer\n",
    "n = 5\n",
    "\n",
    "# tính giá trị c\n",
    "c = n + s\n",
    "\n",
    "# in giá trị c\n",
    "print(c)"
   ]
  },
  {
   "cell_type": "code",
   "execution_count": null,
   "metadata": {},
   "outputs": [],
   "source": [
    "# Lỗi 7\n",
    "\n",
    "# khai báo biến a và b\n",
    "a = 5\n",
    "  b = 6\n",
    "\n",
    "# thực hiên a + b, sau đó lưu vào biến c\n",
    "c = a + b\n",
    "\n",
    "# in giá trị c\n",
    "print(c)"
   ]
  },
  {
   "cell_type": "code",
   "execution_count": null,
   "metadata": {},
   "outputs": [],
   "source": [
    "# Lỗi 8\n",
    "\n",
    "import math\n",
    "\n",
    "number = 20.2\n",
    "print(math.floor(number)\n",
    "print(math.pi)"
   ]
  },
  {
   "cell_type": "code",
   "execution_count": null,
   "metadata": {},
   "outputs": [],
   "source": [
    "# Lỗi 9\n",
    "\n",
    "print \"aivietnam.ai\""
   ]
  },
  {
   "cell_type": "code",
   "execution_count": null,
   "metadata": {},
   "outputs": [],
   "source": [
    "# Lỗi 10\n",
    "\n",
    "import mymodule\n",
    "\n",
    "print(\"aivietnam.ai\")"
   ]
  },
  {
   "cell_type": "code",
   "execution_count": null,
   "metadata": {},
   "outputs": [],
   "source": [
    "# Lỗi 11\n",
    "\n",
    "l = [1, 2, 3, 4, 5]\n",
    "print(l[0])\n",
    "print(l[5])"
   ]
  },
  {
   "cell_type": "code",
   "execution_count": null,
   "metadata": {},
   "outputs": [],
   "source": [
    "# Lỗi 12\n",
    "\n",
    "name = \"aivietname.ai\"\n",
    "print(name[0])\n",
    "print(name[50])"
   ]
  },
  {
   "cell_type": "code",
   "execution_count": null,
   "metadata": {},
   "outputs": [],
   "source": [
    "# Lỗi 13\n",
    "\n",
    "dict = {'1':'Python', '5':'C++'}\n",
    "print(dict['1'])\n",
    "print(dict['5'])\n",
    "print(dict['2'])"
   ]
  },
  {
   "cell_type": "code",
   "execution_count": null,
   "metadata": {},
   "outputs": [],
   "source": [
    "# Lỗi 14\n",
    "\n",
    "number = 15\n",
    "if number < 10:\n",
    "    print(\"A small number\")\n",
    "else\n",
    "    print(\"A large number\")"
   ]
  },
  {
   "cell_type": "code",
   "execution_count": null,
   "metadata": {},
   "outputs": [],
   "source": [
    "# Lỗi 15\n",
    "\n",
    "t = (1,2,3,4)\n",
    "t[2] = 2"
   ]
  },
  {
   "cell_type": "code",
   "execution_count": null,
   "metadata": {},
   "outputs": [],
   "source": [
    "# Lỗi 16\n",
    "\n",
    "dict = {'1':'Python', '5':'C++'}\n",
    "item1 = dict.popitem()\n",
    "item2 = dict.popitem()\n",
    "item3 = dict.popitem()"
   ]
  },
  {
   "cell_type": "code",
   "execution_count": null,
   "metadata": {},
   "outputs": [],
   "source": [
    "# Lỗi 17\n",
    "import math\n",
    "\n",
    "number = -4\n",
    "print(math.sqrt(number))"
   ]
  },
  {
   "cell_type": "code",
   "execution_count": null,
   "metadata": {},
   "outputs": [],
   "source": [
    "# Lỗi 18\n",
    "\n",
    "my_file = open(\"file.txt\",\"r\")\n",
    "print(my_file)"
   ]
  },
  {
   "cell_type": "code",
   "execution_count": null,
   "metadata": {},
   "outputs": [],
   "source": [
    "# Lỗi 19\n",
    "\n",
    "# import pytorch\n",
    "import torch\n",
    "\n",
    "print(torch.cuda.is_available())"
   ]
  },
  {
   "cell_type": "code",
   "execution_count": null,
   "metadata": {},
   "outputs": [],
   "source": [
    "# Lỗi 20\n",
    "\n",
    "my_string = \"Đây là bài học của AI VIETNAM\"\n",
    "my_string.index(\"hello\")"
   ]
  },
  {
   "cell_type": "code",
   "execution_count": null,
   "metadata": {},
   "outputs": [],
   "source": [
    "# Lỗi 21\n",
    "\n",
    "index = 5\n",
    "def my_function():\n",
    "    index += 1\n",
    "    print(index)\n",
    "\n",
    "my_function()"
   ]
  },
  {
   "cell_type": "code",
   "execution_count": null,
   "metadata": {},
   "outputs": [],
   "source": [
    "# Lỗi 22\n",
    "\n",
    "length = 10\n",
    "numbers = list(range(10))\n",
    "print(numbers)\n",
    "\n",
    "for i in range(length):\n",
    "    if numbers[i] == 5:\n",
    "        del numbers[i] "
   ]
  },
  {
   "cell_type": "code",
   "execution_count": null,
   "metadata": {},
   "outputs": [],
   "source": [
    "# Lỗi 23\n",
    "\n",
    "numbers = list(range(10))\n",
    "for i in numbers:\n",
    "    if numbers[i] == 5:\n",
    "        numbers.remove(i)"
   ]
  },
  {
   "cell_type": "code",
   "execution_count": null,
   "metadata": {},
   "outputs": [],
   "source": [
    "# Lỗi 24\n",
    "\n",
    "def a_function(x):\n",
    "    a_variable = 4\n",
    "    result = x*a_variable\n",
    "    \n",
    "    return result\n",
    "\n",
    "print(a_variable)"
   ]
  },
  {
   "cell_type": "code",
   "execution_count": null,
   "metadata": {},
   "outputs": [],
   "source": [
    "# Lỗi 26\n",
    "\n",
    "a_number = 5\n",
    "a_string = 'value '\n",
    "result = a_string + a_number\n",
    "\n",
    "print(result)"
   ]
  },
  {
   "cell_type": "code",
   "execution_count": null,
   "metadata": {},
   "outputs": [],
   "source": [
    "# Lỗi 27\n",
    "\n",
    "str1 = '5'\n",
    "str2 = 'hello'\n",
    "\n",
    "value1 = int(str1)\n",
    "value2 = int(str2)"
   ]
  },
  {
   "cell_type": "code",
   "execution_count": null,
   "metadata": {},
   "outputs": [],
   "source": [
    "# Lỗi 28\n",
    "\n",
    "def a_function(n):\n",
    "    return a_function(n)\n",
    "\n",
    "a_function(5)"
   ]
  },
  {
   "cell_type": "code",
   "execution_count": 2,
   "metadata": {},
   "outputs": [
    {
     "ename": "TypeError",
     "evalue": "'list' object is not callable",
     "output_type": "error",
     "traceback": [
      "\u001b[1;31m---------------------------------------------------------------------------\u001b[0m",
      "\u001b[1;31mTypeError\u001b[0m                                 Traceback (most recent call last)",
      "\u001b[1;32m<ipython-input-2-b95b0f6ae793>\u001b[0m in \u001b[0;36m<module>\u001b[1;34m\u001b[0m\n\u001b[1;32m----> 1\u001b[1;33m \u001b[0mprint\u001b[0m\u001b[1;33m(\u001b[0m\u001b[0mlist\u001b[0m\u001b[1;33m(\u001b[0m\u001b[0mrange\u001b[0m\u001b[1;33m(\u001b[0m\u001b[1;36m3\u001b[0m\u001b[1;33m)\u001b[0m\u001b[1;33m)\u001b[0m\u001b[1;33m)\u001b[0m\u001b[1;33m\u001b[0m\u001b[1;33m\u001b[0m\u001b[0m\n\u001b[0m\u001b[0;32m      2\u001b[0m \u001b[0mlist\u001b[0m \u001b[1;33m=\u001b[0m \u001b[1;33m[\u001b[0m\u001b[1;36m1\u001b[0m\u001b[1;33m,\u001b[0m \u001b[1;36m2\u001b[0m\u001b[1;33m,\u001b[0m \u001b[1;36m3\u001b[0m\u001b[1;33m,\u001b[0m \u001b[1;36m4\u001b[0m\u001b[1;33m]\u001b[0m\u001b[1;33m\u001b[0m\u001b[1;33m\u001b[0m\u001b[0m\n\u001b[0;32m      3\u001b[0m \u001b[0mprint\u001b[0m\u001b[1;33m(\u001b[0m\u001b[0mlist\u001b[0m\u001b[1;33m(\u001b[0m\u001b[0mrange\u001b[0m\u001b[1;33m(\u001b[0m\u001b[1;36m3\u001b[0m\u001b[1;33m)\u001b[0m\u001b[1;33m)\u001b[0m\u001b[1;33m)\u001b[0m\u001b[1;33m\u001b[0m\u001b[1;33m\u001b[0m\u001b[0m\n",
      "\u001b[1;31mTypeError\u001b[0m: 'list' object is not callable"
     ]
    }
   ],
   "source": [
    "# Lỗi 29\n",
    "\n",
    "print(list(range(3)))\n",
    "\n",
    "list = [1, 2, 3, 4]\n",
    "\n",
    "print(list(range(3)))"
   ]
  },
  {
   "cell_type": "code",
   "execution_count": 1,
   "metadata": {},
   "outputs": [
    {
     "name": "stdout",
     "output_type": "stream",
     "text": [
      "Hello {name}. Are you {age}?\n"
     ]
    }
   ],
   "source": [
    "# common error\n",
    "\n",
    "name = 'John'\n",
    "age  = 26\n",
    "\n",
    "print('Hello {name}. Are you {age}?')"
   ]
  },
  {
   "cell_type": "code",
   "execution_count": 1,
   "metadata": {},
   "outputs": [
    {
     "ename": "KeyError",
     "evalue": "'apple'",
     "output_type": "error",
     "traceback": [
      "\u001b[1;31m---------------------------------------------------------------------------\u001b[0m",
      "\u001b[1;31mKeyError\u001b[0m                                  Traceback (most recent call last)",
      "\u001b[1;32m<ipython-input-1-139246a7a818>\u001b[0m in \u001b[0;36m<module>\u001b[1;34m\u001b[0m\n\u001b[0;32m      2\u001b[0m \u001b[1;33m\u001b[0m\u001b[0m\n\u001b[0;32m      3\u001b[0m \u001b[0mfruits\u001b[0m \u001b[1;33m=\u001b[0m \u001b[1;33m{\u001b[0m\u001b[1;34m'banana'\u001b[0m\u001b[1;33m:\u001b[0m \u001b[1;36m2\u001b[0m\u001b[1;33m}\u001b[0m\u001b[1;33m\u001b[0m\u001b[1;33m\u001b[0m\u001b[0m\n\u001b[1;32m----> 4\u001b[1;33m \u001b[0mfruits\u001b[0m\u001b[1;33m[\u001b[0m\u001b[1;34m'apple'\u001b[0m\u001b[1;33m]\u001b[0m \u001b[1;33m+=\u001b[0m \u001b[1;36m10\u001b[0m\u001b[1;33m\u001b[0m\u001b[1;33m\u001b[0m\u001b[0m\n\u001b[0m",
      "\u001b[1;31mKeyError\u001b[0m: 'apple'"
     ]
    }
   ],
   "source": [
    "# common error\n",
    "\n",
    "fruits = {'banana': 2}\n",
    "fruits['apple'] += 10"
   ]
  },
  {
   "cell_type": "code",
   "execution_count": null,
   "metadata": {},
   "outputs": [],
   "source": [
    "# common error\n",
    "\n",
    "fruits = ['apple', 'banana', 'peach']\n",
    "\n",
    "for fruit in fruits:\n",
    "    if (fruit == 'peach'):\n",
    "        fruits.append('peach')\n",
    "        \n",
    "    print('Do something with this fruit -', fruit)"
   ]
  },
  {
   "cell_type": "code",
   "execution_count": 1,
   "metadata": {},
   "outputs": [
    {
     "name": "stdout",
     "output_type": "stream",
     "text": [
      "Do something with this fruit - apple\n",
      "Do something with this fruit - banana\n"
     ]
    }
   ],
   "source": [
    "# common error\n",
    "\n",
    "fruits = ['apple', 'banana', 'peach']\n",
    "\n",
    "for fruit in fruits:\n",
    "    if (fruit == 'banana'):\n",
    "        fruits.remove('banana')\n",
    "        \n",
    "    print('Do something with this fruit -', fruit)"
   ]
  },
  {
   "cell_type": "code",
   "execution_count": 2,
   "metadata": {},
   "outputs": [
    {
     "name": "stdout",
     "output_type": "stream",
     "text": [
      "No\n"
     ]
    }
   ],
   "source": [
    "# common error\n",
    "\n",
    "a = 0.1 + 0.1 + 0.1\n",
    "if (a == 0.3):\n",
    "    print('Yes')\n",
    "else:\n",
    "    print('No')"
   ]
  }
 ],
 "metadata": {
  "kernelspec": {
   "display_name": "Python 3",
   "language": "python",
   "name": "python3"
  },
  "language_info": {
   "codemirror_mode": {
    "name": "ipython",
    "version": 3
   },
   "file_extension": ".py",
   "mimetype": "text/x-python",
   "name": "python",
   "nbconvert_exporter": "python",
   "pygments_lexer": "ipython3",
   "version": "3.7.3"
  }
 },
 "nbformat": 4,
 "nbformat_minor": 2
}
