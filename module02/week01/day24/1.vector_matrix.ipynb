{
 "cells": [
  {
   "cell_type": "markdown",
   "metadata": {},
   "source": [
    "### Phép toán trên mảng(Array Math)"
   ]
  },
  {
   "cell_type": "code",
   "execution_count": null,
   "metadata": {},
   "outputs": [],
   "source": [
    "# aivietnam.ai\n",
    "import numpy as np\n",
    "\n",
    "x = np.array([1,2,3,4])\n",
    "y = np.array([5,6,7,8])\n",
    "\n",
    "print('data x \\n', x)\n",
    "print('data y \\n', y)\n",
    "\n",
    "# Tổng của 2 mảng\n",
    "print('method 1 \\n', x + y)\n",
    "print('method 2 \\n', np.add(x, y))"
   ]
  },
  {
   "cell_type": "code",
   "execution_count": null,
   "metadata": {},
   "outputs": [],
   "source": [
    "# aivietnam.ai\n",
    "import numpy as np\n",
    "\n",
    "x = np.array([5,6,7,8])\n",
    "y = np.array([1,2,3,4])\n",
    "\n",
    "print('data x \\n', x)\n",
    "print('data y \\n', y)\n",
    "\n",
    "# Hiệu 2 mảng\n",
    "print('method 1 \\n', x - y)\n",
    "print('method 2 \\n', np.subtract(x, y))"
   ]
  },
  {
   "cell_type": "code",
   "execution_count": null,
   "metadata": {},
   "outputs": [],
   "source": [
    "# aivietnam.ai\n",
    "import numpy as np\n",
    "\n",
    "x = np.array([1,2,3,4])\n",
    "y = np.array([5,6,7,8])\n",
    "\n",
    "print('data x \\n', x)\n",
    "print('data y \\n', y)\n",
    "\n",
    "# Tích các phần tử tương ứng giữa x và y\n",
    "print('method 1 \\n', x*y)\n",
    "print('method 2 \\n', np.multiply(x, y))"
   ]
  },
  {
   "cell_type": "code",
   "execution_count": null,
   "metadata": {},
   "outputs": [],
   "source": [
    "# aivietnam.ai\n",
    "import numpy as np\n",
    "\n",
    "x = np.array([5,6,7,8])\n",
    "y = np.array([1,2,3,4])\n",
    "\n",
    "print('data x \\n', x)\n",
    "print('data y \\n', y)\n",
    "\n",
    "# Phép chia các từng phần tương ứng x cho y\n",
    "print('method 1 \\n', x / y)\n",
    "print('method 2 \\n', x // y)\n",
    "print('method 3 \\n', np.divide(x, y))"
   ]
  },
  {
   "cell_type": "code",
   "execution_count": null,
   "metadata": {},
   "outputs": [],
   "source": [
    "# aivietnam.ai\n",
    "import numpy as np\n",
    "\n",
    "data = np.array([1,2,3,4])\n",
    "\n",
    "print('data \\n', data)\n",
    "\n",
    "# Căn bậc 2 từng phần tử trong data\n",
    "print('sqrt \\n', np.sqrt(data))"
   ]
  },
  {
   "cell_type": "code",
   "execution_count": null,
   "metadata": {},
   "outputs": [],
   "source": [
    "# aivietnam.ai\n",
    "import numpy as np\n",
    "\n",
    "v = np.array([1, 2])\n",
    "w = np.array([2, 3])\n",
    "\n",
    "# Tính inner product giữa v và w\n",
    "print('method 1 \\n', v.T.dot(w))\n",
    "print('method 2 \\n', np.dot(v, w))"
   ]
  },
  {
   "cell_type": "code",
   "execution_count": 1,
   "metadata": {},
   "outputs": [
    {
     "name": "stdout",
     "output_type": "stream",
     "text": [
      "method 1 \n",
      " 8\n",
      "method 2 \n",
      " 8\n"
     ]
    }
   ],
   "source": [
    "# aivietnam.ai\n",
    "import numpy as np\n",
    "\n",
    "v = np.array([1, 2])\n",
    "w = np.array([2, 3])\n",
    "\n",
    "# Tính inner product giữa v và w\n",
    "print('method 1 \\n', v.dot(w))\n",
    "print('method 2 \\n', np.dot(v, w))"
   ]
  },
  {
   "cell_type": "code",
   "execution_count": 1,
   "metadata": {},
   "outputs": [
    {
     "name": "stdout",
     "output_type": "stream",
     "text": [
      "\n",
      " matrix X \n",
      " [[1 2]\n",
      " [4 3]]\n",
      "\n",
      " vector v \n",
      " [1 2]\n",
      "\n",
      " method 1: X.dot(v) \n",
      " [ 5 10]\n",
      "\n",
      " method 1: v.dot(X) \n",
      " [9 8]\n",
      "\n",
      " method 2: X.dot(v) \n",
      " [ 5 10]\n",
      "\n",
      " method 2: v.dot(X) \n",
      " [9 8]\n"
     ]
    }
   ],
   "source": [
    "# aivietnam.ai\n",
    "import numpy as np\n",
    "\n",
    "X = np.array([[1,2],[4,3]])\n",
    "v = np.array([1,2])\n",
    "\n",
    "print('\\n matrix X \\n', X)\n",
    "print('\\n vector v \\n', v)\n",
    "\n",
    "# phép nhân giữa ma trận và vector\n",
    "print('\\n method 1: X.dot(v) \\n', X.dot(v))\n",
    "print('\\n method 1: v.dot(X) \\n', v.dot(X))\n",
    "print('\\n method 2: X.dot(v) \\n', np.dot(X, v))\n",
    "print('\\n method 2: v.dot(X) \\n', np.dot(v, X))"
   ]
  },
  {
   "cell_type": "code",
   "execution_count": null,
   "metadata": {},
   "outputs": [],
   "source": [
    "# aivietnam.ai\n",
    "import numpy as np\n",
    "\n",
    "X = np.array([[1,2],[4,3]])\n",
    "Y = np.array([[2,3],[2,1]])\n",
    "\n",
    "print(' matrix X \\n', X)\n",
    "print('\\n matrix Y \\n', Y)\n",
    "\n",
    "# Phép nhân giữa hai ma trận\n",
    "print('\\n method 1 \\n', X.dot(Y))\n",
    "print('\\n method 2 \\n', np.dot(X, Y))"
   ]
  },
  {
   "cell_type": "markdown",
   "metadata": {},
   "source": [
    "### sum"
   ]
  },
  {
   "cell_type": "code",
   "execution_count": 2,
   "metadata": {},
   "outputs": [
    {
     "name": "stdout",
     "output_type": "stream",
     "text": [
      "10\n",
      "[4 6]\n",
      "[3 7]\n"
     ]
    }
   ],
   "source": [
    "# aivietnam.ai\n",
    "import numpy as np\n",
    "\n",
    "X = np.array([[1,2],\n",
    "              [3,4]])\n",
    "\n",
    "# Tổng các phần tử của mảng\n",
    "print(np.sum(X))  \n",
    "\n",
    " # Tính tổng theo từng cột\n",
    "print(np.sum(X, axis=0))\n",
    "\n",
    "# Tính tổng theo từng dòng\n",
    "print(np.sum(X, axis=1))  "
   ]
  },
  {
   "cell_type": "code",
   "execution_count": 1,
   "metadata": {},
   "outputs": [
    {
     "name": "stdout",
     "output_type": "stream",
     "text": [
      "[[1 2]\n",
      " [3 4]]\n",
      "[[1 3]\n",
      " [2 4]]\n"
     ]
    }
   ],
   "source": [
    "# aivietnam.ai\n",
    "import numpy as np\n",
    "\n",
    "X = np.array([[1,2], \n",
    "              [3,4]])\n",
    "print(X) \n",
    "\n",
    "#chuyển vị\n",
    "print(X.T)"
   ]
  },
  {
   "cell_type": "code",
   "execution_count": null,
   "metadata": {},
   "outputs": [],
   "source": []
  },
  {
   "cell_type": "markdown",
   "metadata": {},
   "source": [
    "### argmin and argmax"
   ]
  },
  {
   "cell_type": "code",
   "execution_count": 1,
   "metadata": {},
   "outputs": [
    {
     "name": "stdout",
     "output_type": "stream",
     "text": [
      "2\n"
     ]
    }
   ],
   "source": [
    "import numpy as np\n",
    "\n",
    "x = np.array([4, 7, 1, 5])\n",
    "result = np.argmin(x)\n",
    "print(result)"
   ]
  },
  {
   "cell_type": "code",
   "execution_count": null,
   "metadata": {},
   "outputs": [],
   "source": []
  },
  {
   "cell_type": "code",
   "execution_count": 2,
   "metadata": {},
   "outputs": [
    {
     "name": "stdout",
     "output_type": "stream",
     "text": [
      "1\n"
     ]
    }
   ],
   "source": [
    "import numpy as np\n",
    "\n",
    "x = np.array([4, 7, 1, 5])\n",
    "result = np.argmax(x)\n",
    "print(result)"
   ]
  },
  {
   "cell_type": "markdown",
   "metadata": {},
   "source": [
    "### min and max"
   ]
  },
  {
   "cell_type": "code",
   "execution_count": 3,
   "metadata": {},
   "outputs": [
    {
     "name": "stdout",
     "output_type": "stream",
     "text": [
      "1\n"
     ]
    }
   ],
   "source": [
    "import numpy as np\n",
    "\n",
    "x = np.array([4, 7, 1, 5])\n",
    "result = np.min(x)\n",
    "print(result)"
   ]
  },
  {
   "cell_type": "code",
   "execution_count": null,
   "metadata": {},
   "outputs": [],
   "source": []
  },
  {
   "cell_type": "code",
   "execution_count": 4,
   "metadata": {},
   "outputs": [
    {
     "name": "stdout",
     "output_type": "stream",
     "text": [
      "7\n"
     ]
    }
   ],
   "source": [
    "import numpy as np\n",
    "\n",
    "x = np.array([4, 7, 1, 5])\n",
    "result = np.max(x)\n",
    "print(result)"
   ]
  },
  {
   "cell_type": "markdown",
   "metadata": {},
   "source": [
    "### sum and average"
   ]
  },
  {
   "cell_type": "code",
   "execution_count": 5,
   "metadata": {},
   "outputs": [
    {
     "name": "stdout",
     "output_type": "stream",
     "text": [
      "30\n"
     ]
    }
   ],
   "source": [
    "import numpy as np\n",
    "\n",
    "x = np.array([6, 5, 7, 1, 9, 2])\n",
    "result = np.sum(x)\n",
    "print(result)"
   ]
  },
  {
   "cell_type": "code",
   "execution_count": null,
   "metadata": {},
   "outputs": [],
   "source": []
  },
  {
   "cell_type": "code",
   "execution_count": 6,
   "metadata": {},
   "outputs": [
    {
     "name": "stdout",
     "output_type": "stream",
     "text": [
      "5.0\n"
     ]
    }
   ],
   "source": [
    "import numpy as np\n",
    "\n",
    "x = np.array([6, 5, 7, 1, 9, 2])\n",
    "result = np.mean(x)\n",
    "print(result)"
   ]
  },
  {
   "cell_type": "code",
   "execution_count": null,
   "metadata": {},
   "outputs": [],
   "source": [
    " "
   ]
  }
 ],
 "metadata": {
  "kernelspec": {
   "display_name": "Python 3 (ipykernel)",
   "language": "python",
   "name": "python3"
  },
  "language_info": {
   "codemirror_mode": {
    "name": "ipython",
    "version": 3
   },
   "file_extension": ".py",
   "mimetype": "text/x-python",
   "name": "python",
   "nbconvert_exporter": "python",
   "pygments_lexer": "ipython3",
   "version": "3.12.4"
  }
 },
 "nbformat": 4,
 "nbformat_minor": 2
}
