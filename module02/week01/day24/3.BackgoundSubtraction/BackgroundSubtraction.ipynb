{
 "cells": [
  {
   "cell_type": "code",
   "execution_count": 1,
   "metadata": {},
   "outputs": [
    {
     "data": {
      "text/plain": [
       "True"
      ]
     },
     "execution_count": 1,
     "metadata": {},
     "output_type": "execute_result"
    }
   ],
   "source": [
    "# simple version\n",
    "\n",
    "import numpy as np\n",
    "import cv2\n",
    "\n",
    "bg = cv2.imread('background.png', 1)\n",
    "bg = cv2.resize(bg, (640, 480))\n",
    "\n",
    "img = cv2.imread('StillImage.png', 1)\n",
    "img = cv2.resize(img, (640, 480))\n",
    "\n",
    "difference = cv2.absdiff(bg, img)\n",
    "_, difference_binary = cv2.threshold(difference, 15, 255, \n",
    "                                     cv2.THRESH_BINARY)\n",
    "\n",
    "new_bg = cv2.imread('FakeBackground.png')\n",
    "new_bg = cv2.resize(new_bg, (640, 480))\n",
    "\n",
    "output = np.where(difference_binary==0, new_bg, img)\n",
    "cv2.imwrite('output.png', output)"
   ]
  },
  {
   "cell_type": "code",
   "execution_count": null,
   "metadata": {},
   "outputs": [],
   "source": []
  },
  {
   "cell_type": "code",
   "execution_count": 1,
   "metadata": {},
   "outputs": [
    {
     "data": {
      "text/plain": [
       "True"
      ]
     },
     "execution_count": 1,
     "metadata": {},
     "output_type": "execute_result"
    }
   ],
   "source": [
    "# improved version\n",
    "\n",
    "import cv2\n",
    "import numpy as np\n",
    "\n",
    "bg = cv2.imread('background.png', 1)\n",
    "bg = cv2.resize(bg, (640, 480))\n",
    "\n",
    "img = cv2.imread('StillImage.png', 1)\n",
    "img = cv2.resize(img, (640, 480))\n",
    "\n",
    "difference = cv2.absdiff(bg, img)\n",
    "difference_gray = cv2.cvtColor(difference, cv2.COLOR_BGR2GRAY)\n",
    "_, difference_binary = cv2.threshold(difference_gray, 15, 255, cv2.THRESH_BINARY)\n",
    "\n",
    "difference_binary_3_channel = np.stack([difference_binary, difference_binary, difference_binary], axis=-1)\n",
    "\n",
    "new_bg = cv2.imread('FakeBackground.png', 1)\n",
    "new_bg = cv2.resize(new_bg, (640, 480))\n",
    "\n",
    "output = np.where(difference_binary_3_channel == 0, new_bg, img)   \n",
    "cv2.imwrite('output2.png', output)"
   ]
  },
  {
   "cell_type": "code",
   "execution_count": null,
   "metadata": {},
   "outputs": [],
   "source": []
  }
 ],
 "metadata": {
  "kernelspec": {
   "display_name": "torchenv",
   "language": "python",
   "name": "python3"
  },
  "language_info": {
   "codemirror_mode": {
    "name": "ipython",
    "version": 3
   },
   "file_extension": ".py",
   "mimetype": "text/x-python",
   "name": "python",
   "nbconvert_exporter": "python",
   "pygments_lexer": "ipython3",
   "version": "3.12.4"
  }
 },
 "nbformat": 4,
 "nbformat_minor": 2
}
