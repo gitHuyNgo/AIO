{
 "cells": [
  {
   "cell_type": "markdown",
   "id": "0fb84ea7",
   "metadata": {},
   "source": [
    "### Traffic sign"
   ]
  },
  {
   "cell_type": "code",
   "execution_count": 14,
   "id": "7d947d2f",
   "metadata": {},
   "outputs": [
    {
     "data": {
      "text/plain": [
       "True"
      ]
     },
     "execution_count": 14,
     "metadata": {},
     "output_type": "execute_result"
    }
   ],
   "source": [
    "import cv2\n",
    "import numpy as np\n",
    "\n",
    "img1 = cv2.imread('sign2.png', 1)\n",
    "img2 = cv2.flip(img1, 0)\n",
    "cv2.imwrite('sign5.png', img2)"
   ]
  },
  {
   "cell_type": "code",
   "execution_count": null,
   "id": "ec069370",
   "metadata": {},
   "outputs": [],
   "source": []
  },
  {
   "cell_type": "code",
   "execution_count": null,
   "id": "71abcc7d",
   "metadata": {},
   "outputs": [],
   "source": []
  },
  {
   "cell_type": "code",
   "execution_count": 15,
   "id": "f5721bc3",
   "metadata": {},
   "outputs": [],
   "source": [
    "import numpy as np\n",
    "import cv2\n",
    "import matplotlib.pyplot as plt\n",
    "\n",
    "\n",
    "# read a color image\n",
    "img1 = cv2.imread('sign1.png')\n",
    "img1 = cv2.resize(img1, (100, 100))\n",
    "\n",
    "img2 = cv2.imread('sign5.png')\n",
    "img2 = cv2.resize(img2, (100, 100))\n",
    "\n",
    "img3 = cv2.imread('sign3.png')\n",
    "img3 = cv2.resize(img3, (100, 100))\n",
    "\n",
    "img4 = cv2.imread('sign4.png')\n",
    "img4 = cv2.resize(img4, (100, 100))"
   ]
  },
  {
   "cell_type": "code",
   "execution_count": 16,
   "id": "89d72de2",
   "metadata": {},
   "outputs": [
    {
     "name": "stdout",
     "output_type": "stream",
     "text": [
      "(100, 100, 3)\n",
      "(100, 100, 3)\n",
      "(100, 100, 3)\n",
      "(100, 100, 3)\n"
     ]
    }
   ],
   "source": [
    "print(img1.shape)\n",
    "print(img2.shape)\n",
    "print(img3.shape)\n",
    "print(img4.shape)"
   ]
  },
  {
   "cell_type": "code",
   "execution_count": 17,
   "id": "df910bcb",
   "metadata": {},
   "outputs": [
    {
     "name": "stdout",
     "output_type": "stream",
     "text": [
      "50.618766666666666\n"
     ]
    }
   ],
   "source": [
    "L1_s1_s2 = np.sum(np.abs(img1 - img2)) / (100*100*3)\n",
    "print(L1_s1_s2)"
   ]
  },
  {
   "cell_type": "code",
   "execution_count": 18,
   "id": "d75165e7",
   "metadata": {},
   "outputs": [
    {
     "name": "stdout",
     "output_type": "stream",
     "text": [
      "171.84026666666668\n"
     ]
    }
   ],
   "source": [
    "L1_s1_s3 = np.sum(np.abs(img1 - img3)) / (100*100*3)\n",
    "print(L1_s1_s3)"
   ]
  },
  {
   "cell_type": "code",
   "execution_count": 19,
   "id": "55da69ae",
   "metadata": {},
   "outputs": [
    {
     "name": "stdout",
     "output_type": "stream",
     "text": [
      "90.49526666666667\n"
     ]
    }
   ],
   "source": [
    "L1_s1_s4 = np.sum(np.abs(img1 - img4)) / (100*100*3)\n",
    "print(L1_s1_s4)"
   ]
  },
  {
   "cell_type": "code",
   "execution_count": null,
   "id": "f9d58c56",
   "metadata": {},
   "outputs": [],
   "source": []
  },
  {
   "cell_type": "code",
   "execution_count": null,
   "id": "a878f179",
   "metadata": {},
   "outputs": [],
   "source": []
  },
  {
   "cell_type": "code",
   "execution_count": 20,
   "id": "f835f08f",
   "metadata": {},
   "outputs": [],
   "source": [
    "from numpy.linalg import norm\n",
    "\n",
    "def cos_sim(x, y):\n",
    "    x = x.flatten()\n",
    "    y = y.flatten()\n",
    "    \n",
    "    x = x.astype(np.float64)\n",
    "    y = y.astype(np.float64)\n",
    "    \n",
    "    cos_sim = np.dot(x, y) / (norm(x)*norm(y))\n",
    "    return cos_sim"
   ]
  },
  {
   "cell_type": "code",
   "execution_count": 24,
   "id": "146fa345",
   "metadata": {},
   "outputs": [
    {
     "data": {
      "text/plain": [
       "0.9999999999999998"
      ]
     },
     "execution_count": 24,
     "metadata": {},
     "output_type": "execute_result"
    }
   ],
   "source": [
    "cos_sim(img1, img1)"
   ]
  },
  {
   "cell_type": "markdown",
   "id": "6c1122a6",
   "metadata": {},
   "source": []
  },
  {
   "cell_type": "code",
   "execution_count": 22,
   "id": "a6718559",
   "metadata": {},
   "outputs": [
    {
     "data": {
      "text/plain": [
       "0.5750955260394579"
      ]
     },
     "execution_count": 22,
     "metadata": {},
     "output_type": "execute_result"
    }
   ],
   "source": [
    "cos_sim(img1, img3)"
   ]
  },
  {
   "cell_type": "code",
   "execution_count": 23,
   "id": "cc2cd1a6",
   "metadata": {},
   "outputs": [
    {
     "data": {
      "text/plain": [
       "0.9669706203695292"
      ]
     },
     "execution_count": 23,
     "metadata": {},
     "output_type": "execute_result"
    }
   ],
   "source": [
    "cos_sim(img1, img4)"
   ]
  },
  {
   "cell_type": "code",
   "execution_count": null,
   "id": "551c6eba",
   "metadata": {},
   "outputs": [],
   "source": []
  }
 ],
 "metadata": {
  "kernelspec": {
   "display_name": "Python 3 (ipykernel)",
   "language": "python",
   "name": "python3"
  },
  "language_info": {
   "codemirror_mode": {
    "name": "ipython",
    "version": 3
   },
   "file_extension": ".py",
   "mimetype": "text/x-python",
   "name": "python",
   "nbconvert_exporter": "python",
   "pygments_lexer": "ipython3",
   "version": "3.12.4"
  }
 },
 "nbformat": 4,
 "nbformat_minor": 5
}
