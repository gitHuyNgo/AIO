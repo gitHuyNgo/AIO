{
 "cells": [
  {
   "cell_type": "code",
   "execution_count": null,
   "metadata": {},
   "outputs": [],
   "source": []
  },
  {
   "cell_type": "code",
   "execution_count": 1,
   "metadata": {
    "executionInfo": {
     "elapsed": 19,
     "status": "ok",
     "timestamp": 1751070503096,
     "user": {
      "displayName": "Thái Nguyễn Quốc",
      "userId": "04072932238722635186"
     },
     "user_tz": -420
    },
    "id": "4owK5y8Q7krn"
   },
   "outputs": [],
   "source": [
    "import numpy as np"
   ]
  },
  {
   "cell_type": "code",
   "execution_count": 2,
   "metadata": {
    "colab": {
     "base_uri": "https://localhost:8080/"
    },
    "executionInfo": {
     "elapsed": 18,
     "status": "ok",
     "timestamp": 1751070520660,
     "user": {
      "displayName": "Thái Nguyễn Quốc",
      "userId": "04072932238722635186"
     },
     "user_tz": -420
    },
    "id": "hCJ8Qq6g75HB",
    "outputId": "e976eb0a-d586-4012-ffbe-17b81b6d8dc9"
   },
   "outputs": [
    {
     "name": "stdout",
     "output_type": "stream",
     "text": [
      "[1 2 3]\n",
      "[0. 0. 0. 0.]\n",
      "[1 3]\n",
      "[0.18470064 0.87510646]\n",
      "[4.9e-324 9.9e-324 1.5e-323]\n"
     ]
    }
   ],
   "source": [
    "arr = np.array([1, 2, 3])\n",
    "print(arr)\n",
    "arr = np.zeros(4)\n",
    "print(arr)\n",
    "arr = np.arange(1, 4, 2)\n",
    "print(arr)\n",
    "arr = np.random.rand(2)\n",
    "print(arr)\n",
    "arr = np.empty(3)\n",
    "print(arr)"
   ]
  },
  {
   "cell_type": "code",
   "execution_count": 3,
   "metadata": {
    "colab": {
     "base_uri": "https://localhost:8080/"
    },
    "executionInfo": {
     "elapsed": 13,
     "status": "ok",
     "timestamp": 1751070550616,
     "user": {
      "displayName": "Thái Nguyễn Quốc",
      "userId": "04072932238722635186"
     },
     "user_tz": -420
    },
    "id": "HrQdjQCw7_qA",
    "outputId": "1f0bae8f-63fc-4c13-ee39-7ce387e72017"
   },
   "outputs": [
    {
     "name": "stdout",
     "output_type": "stream",
     "text": [
      "[[1. 2. 3.]\n",
      " [1. 2. 3.]]\n",
      "[[0. 0. 0. 0.]\n",
      " [0. 0. 0. 0.]]\n",
      "[[2. 2. 2. 2.]]\n"
     ]
    }
   ],
   "source": [
    "arr = np.array(\n",
    "    [[1, 2, 3], [1, 2, 3]],\n",
    "    dtype=float\n",
    ")\n",
    "print(arr)\n",
    "\n",
    "arr = np.zeros((2, 4))\n",
    "print(arr)\n",
    "\n",
    "arr = np.full((1, 4), 2.0)\n",
    "print(arr)"
   ]
  },
  {
   "cell_type": "code",
   "execution_count": 4,
   "metadata": {
    "colab": {
     "base_uri": "https://localhost:8080/"
    },
    "executionInfo": {
     "elapsed": 15,
     "status": "ok",
     "timestamp": 1751070570525,
     "user": {
      "displayName": "Thái Nguyễn Quốc",
      "userId": "04072932238722635186"
     },
     "user_tz": -420
    },
    "id": "rl3C9AWu8FQs",
    "outputId": "3a78e962-2491-4807-b1be-781667258650"
   },
   "outputs": [
    {
     "name": "stdout",
     "output_type": "stream",
     "text": [
      "2\n",
      "6\n",
      "float64\n",
      "(2, 3)\n",
      "8\n",
      "<memory at 0x7ad2f17765a0>\n"
     ]
    },
    {
     "data": {
      "text/plain": [
       "array([[1., 2., 3.],\n",
       "       [1., 2., 3.]])"
      ]
     },
     "execution_count": 4,
     "metadata": {},
     "output_type": "execute_result"
    }
   ],
   "source": [
    "arr = np.array(\n",
    "    [[1, 2, 3], [1, 2, 3]], dtype=float\n",
    ")\n",
    "print(arr.ndim)\n",
    "print(arr.size)\n",
    "print(arr.dtype)\n",
    "print(arr.shape)\n",
    "print(arr.itemsize)\n",
    "print(arr.data)\n",
    "arr"
   ]
  },
  {
   "cell_type": "code",
   "execution_count": 5,
   "metadata": {
    "colab": {
     "base_uri": "https://localhost:8080/"
    },
    "executionInfo": {
     "elapsed": 11,
     "status": "ok",
     "timestamp": 1751070588015,
     "user": {
      "displayName": "Thái Nguyễn Quốc",
      "userId": "04072932238722635186"
     },
     "user_tz": -420
    },
    "id": "hIbJa5zF8K8w",
    "outputId": "23c1daf4-6c48-48a4-eae6-c485de5935e0"
   },
   "outputs": [
    {
     "name": "stdout",
     "output_type": "stream",
     "text": [
      "1.0\n",
      "[1. 3. 3. 4.]\n",
      "1.0\n",
      "[1. 2. 3. 4.]\n"
     ]
    }
   ],
   "source": [
    "arr = np.array([1.0, 2.0, 3.0, 4.0])\n",
    "print(arr[0])\n",
    "\n",
    "arr[1] = 3.0\n",
    "print(arr)\n",
    "\n",
    "print(arr[-4])\n",
    "\n",
    "arr[-3] = 2.0\n",
    "print(arr)"
   ]
  },
  {
   "cell_type": "code",
   "execution_count": 6,
   "metadata": {
    "colab": {
     "base_uri": "https://localhost:8080/"
    },
    "executionInfo": {
     "elapsed": 47,
     "status": "ok",
     "timestamp": 1751070601830,
     "user": {
      "displayName": "Thái Nguyễn Quốc",
      "userId": "04072932238722635186"
     },
     "user_tz": -420
    },
    "id": "MrAdH3Oz8Ot3",
    "outputId": "cad6f506-e46a-40f8-e3b2-79aa56dd3e88"
   },
   "outputs": [
    {
     "name": "stdout",
     "output_type": "stream",
     "text": [
      "4.0\n",
      "4.0\n",
      "[[1. 2. 3. 4.]\n",
      " [3. 3. 3. 3.]]\n",
      "[[1. 3. 3. 4.]\n",
      " [3. 3. 3. 3.]]\n"
     ]
    }
   ],
   "source": [
    "arr = np.array([\n",
    "    [1.0, 2.0, 3.0, 4.0],\n",
    "    [5.0, 6.0, 7.0, 8.0]])\n",
    "\n",
    "print(arr[0][3])\n",
    "print(arr[-2][3])\n",
    "\n",
    "arr[1] = 3.0\n",
    "print(arr)\n",
    "\n",
    "arr[0][-3] = 3.0\n",
    "print(arr)"
   ]
  },
  {
   "cell_type": "code",
   "execution_count": 7,
   "metadata": {
    "colab": {
     "base_uri": "https://localhost:8080/"
    },
    "executionInfo": {
     "elapsed": 12,
     "status": "ok",
     "timestamp": 1751070611108,
     "user": {
      "displayName": "Thái Nguyễn Quốc",
      "userId": "04072932238722635186"
     },
     "user_tz": -420
    },
    "id": "1DGYjTYv8RE9",
    "outputId": "f11591f2-329a-4cfa-d210-26c41d6b3460"
   },
   "outputs": [
    {
     "name": "stdout",
     "output_type": "stream",
     "text": [
      "[1. 2. 3. 4.]\n",
      "[1. 3.]\n",
      "[[2. 3.]\n",
      " [6. 7.]]\n",
      "[[1. 3.]\n",
      " [5. 7.]]\n"
     ]
    }
   ],
   "source": [
    "arr = np.array([\n",
    "    [1.0, 2.0, 3.0, 4.0],\n",
    "    [5.0, 6.0, 7.0, 8.0]\n",
    "])\n",
    "\n",
    "print(arr[0])\n",
    "print(arr[0][0::2])\n",
    "\n",
    "print(arr[0:2,1:3])\n",
    "print(arr[0:2,-4::2])"
   ]
  },
  {
   "cell_type": "code",
   "execution_count": 8,
   "metadata": {
    "colab": {
     "base_uri": "https://localhost:8080/",
     "height": 478
    },
    "executionInfo": {
     "elapsed": 100,
     "status": "error",
     "timestamp": 1751070700146,
     "user": {
      "displayName": "Thái Nguyễn Quốc",
      "userId": "04072932238722635186"
     },
     "user_tz": -420
    },
    "id": "AHqgPim18WqB",
    "outputId": "9a2f9e5b-f7d1-4809-f5c8-0948ac9141e4"
   },
   "outputs": [
    {
     "name": "stdout",
     "output_type": "stream",
     "text": [
      "(2, 3)\n",
      "[[1. 2.]\n",
      " [3. 4.]\n",
      " [5. 6.]]\n",
      "(3, 2)\n"
     ]
    },
    {
     "ename": "ValueError",
     "evalue": "cannot reshape array of size 6 into shape (3,3)",
     "output_type": "error",
     "traceback": [
      "\u001b[0;31m---------------------------------------------------------------------------\u001b[0m",
      "\u001b[0;31mValueError\u001b[0m                                Traceback (most recent call last)",
      "\u001b[0;32m/tmp/ipython-input-8-4056644288.py\u001b[0m in \u001b[0;36m<cell line: 0>\u001b[0;34m()\u001b[0m\n\u001b[1;32m      9\u001b[0m \u001b[0mprint\u001b[0m\u001b[0;34m(\u001b[0m\u001b[0marr\u001b[0m\u001b[0;34m.\u001b[0m\u001b[0mshape\u001b[0m\u001b[0;34m)\u001b[0m\u001b[0;34m\u001b[0m\u001b[0;34m\u001b[0m\u001b[0m\n\u001b[1;32m     10\u001b[0m \u001b[0;34m\u001b[0m\u001b[0m\n\u001b[0;32m---> 11\u001b[0;31m \u001b[0marr\u001b[0m \u001b[0;34m=\u001b[0m \u001b[0mnp\u001b[0m\u001b[0;34m.\u001b[0m\u001b[0mreshape\u001b[0m\u001b[0;34m(\u001b[0m\u001b[0marr\u001b[0m\u001b[0;34m,\u001b[0m \u001b[0;34m(\u001b[0m\u001b[0;36m3\u001b[0m\u001b[0;34m,\u001b[0m \u001b[0;36m3\u001b[0m\u001b[0;34m)\u001b[0m\u001b[0;34m)\u001b[0m \u001b[0;31m# Error\u001b[0m\u001b[0;34m\u001b[0m\u001b[0;34m\u001b[0m\u001b[0m\n\u001b[0m",
      "\u001b[0;32m/usr/local/lib/python3.11/dist-packages/numpy/_core/fromnumeric.py\u001b[0m in \u001b[0;36mreshape\u001b[0;34m(a, newshape, order)\u001b[0m\n\u001b[1;32m    297\u001b[0m            [5, 6]])\n\u001b[1;32m    298\u001b[0m     \"\"\"\n\u001b[0;32m--> 299\u001b[0;31m     \u001b[0;32mreturn\u001b[0m \u001b[0m_wrapfunc\u001b[0m\u001b[0;34m(\u001b[0m\u001b[0ma\u001b[0m\u001b[0;34m,\u001b[0m \u001b[0;34m'reshape'\u001b[0m\u001b[0;34m,\u001b[0m \u001b[0mnewshape\u001b[0m\u001b[0;34m,\u001b[0m \u001b[0morder\u001b[0m\u001b[0;34m=\u001b[0m\u001b[0morder\u001b[0m\u001b[0;34m)\u001b[0m\u001b[0;34m\u001b[0m\u001b[0;34m\u001b[0m\u001b[0m\n\u001b[0m\u001b[1;32m    300\u001b[0m \u001b[0;34m\u001b[0m\u001b[0m\n\u001b[1;32m    301\u001b[0m \u001b[0;34m\u001b[0m\u001b[0m\n",
      "\u001b[0;32m/usr/local/lib/python3.11/dist-packages/numpy/_core/fromnumeric.py\u001b[0m in \u001b[0;36m_wrapfunc\u001b[0;34m(obj, method, *args, **kwds)\u001b[0m\n\u001b[1;32m     55\u001b[0m \u001b[0;34m\u001b[0m\u001b[0m\n\u001b[1;32m     56\u001b[0m     \u001b[0;32mtry\u001b[0m\u001b[0;34m:\u001b[0m\u001b[0;34m\u001b[0m\u001b[0;34m\u001b[0m\u001b[0m\n\u001b[0;32m---> 57\u001b[0;31m         \u001b[0;32mreturn\u001b[0m \u001b[0mbound\u001b[0m\u001b[0;34m(\u001b[0m\u001b[0;34m*\u001b[0m\u001b[0margs\u001b[0m\u001b[0;34m,\u001b[0m \u001b[0;34m**\u001b[0m\u001b[0mkwds\u001b[0m\u001b[0;34m)\u001b[0m\u001b[0;34m\u001b[0m\u001b[0;34m\u001b[0m\u001b[0m\n\u001b[0m\u001b[1;32m     58\u001b[0m     \u001b[0;32mexcept\u001b[0m \u001b[0mTypeError\u001b[0m\u001b[0;34m:\u001b[0m\u001b[0;34m\u001b[0m\u001b[0;34m\u001b[0m\u001b[0m\n\u001b[1;32m     59\u001b[0m         \u001b[0;31m# A TypeError occurs if the object does have such a method in its\u001b[0m\u001b[0;34m\u001b[0m\u001b[0;34m\u001b[0m\u001b[0m\n",
      "\u001b[0;31mValueError\u001b[0m: cannot reshape array of size 6 into shape (3,3)"
     ]
    }
   ],
   "source": [
    "arr = np.array([\n",
    "    [1.0, 2.0, 3.0],\n",
    "    [4.0, 5.0, 6.0]\n",
    "])\n",
    "print(arr.shape)\n",
    "\n",
    "arr = np.reshape(arr, (3, 2))\n",
    "print(arr)\n",
    "print(arr.shape)\n",
    "\n",
    "arr = np.reshape(arr, (3, 3)) # Error"
   ]
  },
  {
   "cell_type": "code",
   "execution_count": 9,
   "metadata": {
    "colab": {
     "base_uri": "https://localhost:8080/"
    },
    "executionInfo": {
     "elapsed": 15,
     "status": "ok",
     "timestamp": 1751070726241,
     "user": {
      "displayName": "Thái Nguyễn Quốc",
      "userId": "04072932238722635186"
     },
     "user_tz": -420
    },
    "id": "qnHltNpi8r9E",
    "outputId": "f1be599f-a636-4539-9aa7-31fe9ab5e5a4"
   },
   "outputs": [
    {
     "name": "stdout",
     "output_type": "stream",
     "text": [
      "[ 6.  8. 10. 12.]\n",
      "[ 6.  8. 10. 12.]\n",
      "[1. 2. 3. 4.]\n",
      "[1. 2. 3. 4.]\n"
     ]
    }
   ],
   "source": [
    "arr1 = np.array([1.0, 2.0, 3.0, 4.0])\n",
    "arr2 = np.array([5.0, 6.0, 7.0, 8.0])\n",
    "\n",
    "print(arr1 + arr2)\n",
    "print(np.add(arr1, arr2))\n",
    "\n",
    "print(arr1 % arr2)\n",
    "print(np.mod(arr1, arr2))"
   ]
  },
  {
   "cell_type": "code",
   "execution_count": 10,
   "metadata": {
    "colab": {
     "base_uri": "https://localhost:8080/"
    },
    "executionInfo": {
     "elapsed": 17,
     "status": "ok",
     "timestamp": 1751070750786,
     "user": {
      "displayName": "Thái Nguyễn Quốc",
      "userId": "04072932238722635186"
     },
     "user_tz": -420
    },
    "id": "Jz3RWBrd8wvc",
    "outputId": "b70cd675-2a4a-4d1f-ec30-eacc13233147"
   },
   "outputs": [
    {
     "name": "stdout",
     "output_type": "stream",
     "text": [
      "[ True False  True  True]\n",
      "[ True False  True  True]\n",
      "[ True False  True  True]\n",
      "[ True False  True  True]\n"
     ]
    },
    {
     "data": {
      "text/plain": [
       "array([ True, False,  True,  True])"
      ]
     },
     "execution_count": 10,
     "metadata": {},
     "output_type": "execute_result"
    }
   ],
   "source": [
    "arr1 = np.array([1.0, 2.0, 3.0, 4.0])\n",
    "arr2 = np.array([5.0, 2.0, 7.0, 8.0])\n",
    "\n",
    "print(arr1 < arr2)\n",
    "print(np.less(arr1, arr2))\n",
    "\n",
    "print(arr1 != arr2)\n",
    "print(np.not_equal(arr1, arr2))\n",
    "\n",
    "np.logical_or(\n",
    "    np.less(arr1, arr2),\n",
    "    np.not_equal(arr1, arr2)\n",
    ")"
   ]
  },
  {
   "cell_type": "code",
   "execution_count": 11,
   "metadata": {
    "colab": {
     "base_uri": "https://localhost:8080/"
    },
    "executionInfo": {
     "elapsed": 19,
     "status": "ok",
     "timestamp": 1751070764302,
     "user": {
      "displayName": "Thái Nguyễn Quốc",
      "userId": "04072932238722635186"
     },
     "user_tz": -420
    },
    "id": "n8OPcXNK82Tp",
    "outputId": "19586656-be75-412f-ba52-862cce3a5ad8"
   },
   "outputs": [
    {
     "name": "stdout",
     "output_type": "stream",
     "text": [
      "[[0.14840133 0.52822312 0.0042772 ]\n",
      " [0.19624005 0.79206581 0.73226381]]\n",
      "[[0.14785722 0.50399944 0.00427719]\n",
      " [0.19498293 0.71180576 0.66855486]]\n",
      "[[0. 1. 0.]\n",
      " [0. 1. 1.]]\n",
      "[[0. 0. 0.]\n",
      " [0. 0. 0.]]\n",
      "[[1. 1. 1.]\n",
      " [1. 1. 1.]]\n"
     ]
    }
   ],
   "source": [
    "arr = np.random.rand(2, 3)\n",
    "print(arr)\n",
    "\n",
    "print(np.sin(arr))\n",
    "\n",
    "print(np.round(arr))\n",
    "print(np.floor(arr))\n",
    "print(np.ceil(arr))"
   ]
  },
  {
   "cell_type": "code",
   "execution_count": 12,
   "metadata": {
    "colab": {
     "base_uri": "https://localhost:8080/"
    },
    "executionInfo": {
     "elapsed": 42,
     "status": "ok",
     "timestamp": 1751070782428,
     "user": {
      "displayName": "Thái Nguyễn Quốc",
      "userId": "04072932238722635186"
     },
     "user_tz": -420
    },
    "id": "7sa1YcON86rT",
    "outputId": "06e3c99c-c21e-486d-84cb-096094d9d3fb"
   },
   "outputs": [
    {
     "name": "stdout",
     "output_type": "stream",
     "text": [
      "4.0\n",
      "8.0\n",
      "[5. 6. 7. 8.]\n",
      "[4. 8.]\n"
     ]
    }
   ],
   "source": [
    "arr = np.array([1.0, 2.0, 3.0, 4.0])\n",
    "print(np.max(arr))\n",
    "\n",
    "arr = np.array([\n",
    "    [1.0, 2.0, 3.0, 4.0],\n",
    "    [5.0, 6.0, 7.0, 8.0]\n",
    "])\n",
    "print(np.max(arr))\n",
    "print(np.max(arr, axis=0))\n",
    "print(np.max(arr, axis=1))"
   ]
  },
  {
   "cell_type": "code",
   "execution_count": 13,
   "metadata": {
    "colab": {
     "base_uri": "https://localhost:8080/"
    },
    "executionInfo": {
     "elapsed": 13,
     "status": "ok",
     "timestamp": 1751070793107,
     "user": {
      "displayName": "Thái Nguyễn Quốc",
      "userId": "04072932238722635186"
     },
     "user_tz": -420
    },
    "id": "EOtwsMJh89Hf",
    "outputId": "b7534dfa-603a-4ca7-cd27-c0fe70ff53f6"
   },
   "outputs": [
    {
     "name": "stdout",
     "output_type": "stream",
     "text": [
      "['Iphone: 15' 'Price: $900']\n",
      "['Iphone: Iphone: Iphone: ' 'Price: Price: Price: ']\n",
      "['IPHONE: ' 'PRICE: ']\n",
      "[False False]\n"
     ]
    }
   ],
   "source": [
    "arr1 = np.array(['Iphone: ', 'Price: '])\n",
    "arr2 = np.array(['15', '$900'])\n",
    "\n",
    "print(np.char.add(arr1, arr2))\n",
    "print(np.char.multiply(arr1, 3))\n",
    "print(np.char.upper(arr1))\n",
    "print(np.char.equal(arr1, arr2))"
   ]
  },
  {
   "cell_type": "code",
   "execution_count": 14,
   "metadata": {
    "colab": {
     "base_uri": "https://localhost:8080/"
    },
    "executionInfo": {
     "elapsed": 6,
     "status": "ok",
     "timestamp": 1751070826383,
     "user": {
      "displayName": "Thái Nguyễn Quốc",
      "userId": "04072932238722635186"
     },
     "user_tz": -420
    },
    "id": "JCSt0JbG9BiM",
    "outputId": "9f778974-e099-4dc3-fde6-d8e76544a574"
   },
   "outputs": [
    {
     "name": "stdout",
     "output_type": "stream",
     "text": [
      "[1. 2. 3. 4.]\n",
      "[[1.]\n",
      " [5.]]\n",
      "[4. 5. 6. 7.]\n",
      "[[2. 3. 4. 5.]\n",
      " [6. 7. 8. 9.]]\n"
     ]
    }
   ],
   "source": [
    "arr1 = np.array([1.0, 2.0, 3.0, 4.0])\n",
    "arr2 = np.array([[1.0], [5.0]])\n",
    "\n",
    "print(arr1)\n",
    "print(arr2)\n",
    "\n",
    "print(np.add(arr1, 3.0))\n",
    "\n",
    "print(np.add(arr1, arr2))"
   ]
  },
  {
   "cell_type": "code",
   "execution_count": 16,
   "metadata": {
    "colab": {
     "base_uri": "https://localhost:8080/"
    },
    "executionInfo": {
     "elapsed": 7,
     "status": "ok",
     "timestamp": 1751070931008,
     "user": {
      "displayName": "Thái Nguyễn Quốc",
      "userId": "04072932238722635186"
     },
     "user_tz": -420
    },
    "id": "Xvt9n-l59WUY",
    "outputId": "06914a63-19bd-437e-ffa4-074a0fc1ab12"
   },
   "outputs": [
    {
     "name": "stdout",
     "output_type": "stream",
     "text": [
      "[2. 4. 6.]\n"
     ]
    }
   ],
   "source": [
    "arr = np.array([1., 2., 3.])\n",
    "print(np.dot(arr, 2))"
   ]
  },
  {
   "cell_type": "code",
   "execution_count": 17,
   "metadata": {
    "colab": {
     "base_uri": "https://localhost:8080/"
    },
    "executionInfo": {
     "elapsed": 17,
     "status": "ok",
     "timestamp": 1751070957825,
     "user": {
      "displayName": "Thái Nguyễn Quốc",
      "userId": "04072932238722635186"
     },
     "user_tz": -420
    },
    "id": "mmChJ-R09f2-",
    "outputId": "c78ebf62-f8a0-4d10-b33e-cfc7453ff2e4"
   },
   "outputs": [
    {
     "name": "stdout",
     "output_type": "stream",
     "text": [
      "8.0\n"
     ]
    }
   ],
   "source": [
    "arr_1 = np.array([1., 2., 3.])\n",
    "arr_2 = np.array([1., 2., 1.])\n",
    "print(np.dot(arr_1, arr_2))"
   ]
  },
  {
   "cell_type": "code",
   "execution_count": 21,
   "metadata": {
    "colab": {
     "base_uri": "https://localhost:8080/"
    },
    "executionInfo": {
     "elapsed": 51,
     "status": "ok",
     "timestamp": 1751071071331,
     "user": {
      "displayName": "Thái Nguyễn Quốc",
      "userId": "04072932238722635186"
     },
     "user_tz": -420
    },
    "id": "9s-3Zjyx9t2S",
    "outputId": "ba33632d-b85e-4cd2-d116-6e920fd6ef5d"
   },
   "outputs": [
    {
     "name": "stdout",
     "output_type": "stream",
     "text": [
      "[[ 5. 10.]\n",
      " [ 8. 11.]]\n"
     ]
    }
   ],
   "source": [
    "arr_1 = np.array([\n",
    "    [3., 4., 1.], [4., 3., 2.]\n",
    "])\n",
    "arr_2 = np.array([\n",
    "    [1., 2.], [0., 1.], [2., 0.]\n",
    "])\n",
    "print(np.dot(arr_1, arr_2))"
   ]
  },
  {
   "cell_type": "code",
   "execution_count": 22,
   "metadata": {
    "colab": {
     "base_uri": "https://localhost:8080/"
    },
    "executionInfo": {
     "elapsed": 22,
     "status": "ok",
     "timestamp": 1751071097636,
     "user": {
      "displayName": "Thái Nguyễn Quốc",
      "userId": "04072932238722635186"
     },
     "user_tz": -420
    },
    "id": "ZOPq5dE--Gd4",
    "outputId": "aff06801-4442-45c1-cf2b-d3907172ab0d"
   },
   "outputs": [
    {
     "name": "stdout",
     "output_type": "stream",
     "text": [
      "[[1 3]\n",
      " [2 4]\n",
      " [3 5]]\n",
      "(3, 2)\n",
      "[1 2 3 3 4 5]\n",
      "(6,)\n"
     ]
    }
   ],
   "source": [
    "arr = np.array([\n",
    "    [1, 2, 3], [3, 4, 5]\n",
    "])\n",
    "\n",
    "print(np.transpose(arr))\n",
    "print(np.transpose(arr).shape)\n",
    "\n",
    "print(arr.flatten())\n",
    "print(arr.flatten().shape)"
   ]
  }
 ],
 "metadata": {
  "colab": {
   "authorship_tag": "ABX9TyPqD8Pk9Dq2zq6Lk/yzXBZu",
   "provenance": [],
   "toc_visible": true
  },
  "kernelspec": {
   "display_name": "Python 3",
   "name": "python3"
  },
  "language_info": {
   "name": "python"
  }
 },
 "nbformat": 4,
 "nbformat_minor": 0
}
