{
 "cells": [
  {
   "cell_type": "code",
   "execution_count": 3,
   "metadata": {},
   "outputs": [
    {
     "name": "stdout",
     "output_type": "stream",
     "text": [
      "[2, 5, 10, 17]\n"
     ]
    }
   ],
   "source": [
    "def f_function(number):\n",
    "    result = number**2 + 1\n",
    "    return result\n",
    "\n",
    "def f_function_list(numbers):\n",
    "    result = []\n",
    "    for n in numbers:\n",
    "        result.append(f_function(n))\n",
    "    return result\n",
    "\n",
    "# test\n",
    "numbers = [1, 2, 3, 4]\n",
    "print(f_function_list(numbers))"
   ]
  },
  {
   "cell_type": "code",
   "execution_count": null,
   "metadata": {},
   "outputs": [],
   "source": []
  },
  {
   "cell_type": "code",
   "execution_count": 8,
   "metadata": {},
   "outputs": [
    {
     "name": "stdout",
     "output_type": "stream",
     "text": [
      "[ 2  5 10 17]\n"
     ]
    }
   ],
   "source": [
    "import numpy as np\n",
    "\n",
    "# data\n",
    "numbers = [1, 2, 3, 4]\n",
    "numbers_np = np.array(numbers)\n",
    "\n",
    "# compute\n",
    "numbers_np = numbers_np**2 + 1\n",
    "print(numbers_np)"
   ]
  },
  {
   "cell_type": "code",
   "execution_count": null,
   "metadata": {},
   "outputs": [],
   "source": []
  }
 ],
 "metadata": {
  "kernelspec": {
   "display_name": "torch_env",
   "language": "python",
   "name": "python3"
  },
  "language_info": {
   "codemirror_mode": {
    "name": "ipython",
    "version": 3
   },
   "file_extension": ".py",
   "mimetype": "text/x-python",
   "name": "python",
   "nbconvert_exporter": "python",
   "pygments_lexer": "ipython3",
   "version": "3.11.5"
  }
 },
 "nbformat": 4,
 "nbformat_minor": 2
}
