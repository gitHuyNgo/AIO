{
 "cells": [
  {
   "cell_type": "markdown",
   "metadata": {},
   "source": [
    "## Create ndarray"
   ]
  },
  {
   "cell_type": "code",
   "execution_count": 1,
   "metadata": {},
   "outputs": [
    {
     "name": "stdout",
     "output_type": "stream",
     "text": [
      "[1 2 3]\n",
      "1\n",
      "2\n"
     ]
    }
   ],
   "source": [
    "# aivietnam.ai\n",
    "# tạo ndarray từ list\n",
    "\n",
    "import numpy as np\n",
    "\n",
    "# tạo list \n",
    "l = list(range(1, 4))\n",
    "\n",
    "# tạo ndarray\n",
    "data = np.array(l)\n",
    "\n",
    "print(data)\n",
    "print(data[0])\n",
    "print(data[1])"
   ]
  },
  {
   "cell_type": "code",
   "execution_count": 2,
   "metadata": {},
   "outputs": [
    {
     "name": "stdout",
     "output_type": "stream",
     "text": [
      "int32\n",
      "float64\n",
      "int64\n"
     ]
    }
   ],
   "source": [
    "# aivietnam.ai\n",
    "# tạo ndarray từ list\n",
    "\n",
    "import numpy as np\n",
    "\n",
    "# tạo ndarray\n",
    "data1 = np.array([1,2,3])\n",
    "print(data1.dtype)\n",
    "\n",
    "data2 = np.array([1.,2.,3.])\n",
    "print(data2.dtype)\n",
    "\n",
    "data3 = np.array([1,2,3], dtype=np.int64)\n",
    "print(data3.dtype)"
   ]
  },
  {
   "cell_type": "code",
   "execution_count": null,
   "metadata": {},
   "outputs": [],
   "source": []
  },
  {
   "cell_type": "code",
   "execution_count": 3,
   "metadata": {},
   "outputs": [
    {
     "name": "stdout",
     "output_type": "stream",
     "text": [
      "[1 2 3]\n",
      "(3,)\n"
     ]
    }
   ],
   "source": [
    "# aivietnam.ai\n",
    "# tạo ndarray từ list\n",
    "\n",
    "import numpy as np\n",
    "\n",
    "# tạo list \n",
    "list1D = [1,2,3]\n",
    "\n",
    "# tạo ndarray\n",
    "data = np.array(list1D)\n",
    "\n",
    "print(data)\n",
    "print(data.shape)"
   ]
  },
  {
   "cell_type": "code",
   "execution_count": 4,
   "metadata": {},
   "outputs": [
    {
     "name": "stdout",
     "output_type": "stream",
     "text": [
      "[[1 2]\n",
      " [3 4]\n",
      " [5 6]]\n",
      "(3, 2)\n"
     ]
    }
   ],
   "source": [
    "# aivietnam.ai\n",
    "# tạo ndarray từ list\n",
    "\n",
    "import numpy as np\n",
    "\n",
    "# tạo list \n",
    "list2D = [[1,2],[3,4],[5,6]]\n",
    "\n",
    "# tạo ndarray\n",
    "data = np.array(list2D)\n",
    "\n",
    "print(data)\n",
    "print(data.shape)"
   ]
  },
  {
   "cell_type": "code",
   "execution_count": null,
   "metadata": {},
   "outputs": [],
   "source": []
  },
  {
   "cell_type": "code",
   "execution_count": 5,
   "metadata": {},
   "outputs": [
    {
     "name": "stdout",
     "output_type": "stream",
     "text": [
      "data\n",
      " [[1 2 3]\n",
      " [4 5 6]]\n",
      "data shape\n",
      " (2, 3)\n",
      "data_rs\n",
      " [[1 2]\n",
      " [3 4]\n",
      " [5 6]]\n",
      "data_rs shape\n",
      " (3, 2)\n"
     ]
    }
   ],
   "source": [
    "# aivietnam.ai\n",
    "import numpy as np\n",
    "\n",
    "# tạo list \n",
    "l = [[1,2,3],\n",
    "     [4,5,6]]\n",
    "\n",
    "# tạo ndarray\n",
    "data = np.array(l)\n",
    "print('data\\n', data)\n",
    "print('data shape\\n', data.shape)\n",
    "\n",
    "# reshape\n",
    "data_rs = np.reshape(data, (3,2))\n",
    "print('data_rs\\n', data_rs)\n",
    "print('data_rs shape\\n', data_rs.shape)"
   ]
  },
  {
   "cell_type": "code",
   "execution_count": null,
   "metadata": {},
   "outputs": [],
   "source": []
  },
  {
   "cell_type": "code",
   "execution_count": 6,
   "metadata": {},
   "outputs": [
    {
     "name": "stdout",
     "output_type": "stream",
     "text": [
      "(3, 3, 2)\n"
     ]
    }
   ],
   "source": [
    "# aivietnam.ai\n",
    "# tạo ndarray từ list\n",
    "\n",
    "import numpy as np\n",
    "\n",
    "# tạo list \n",
    "list3D = [[[1,6], [2,2], [3,4]],\n",
    "          [[4,7], [5,2], [6,9]],\n",
    "          [[7,7], [8,2], [9,5]]]\n",
    "\n",
    "# tạo ndarray\n",
    "data = np.array(list3D)\n",
    "\n",
    "#print(data)\n",
    "print(data.shape)"
   ]
  },
  {
   "cell_type": "code",
   "execution_count": null,
   "metadata": {},
   "outputs": [],
   "source": []
  },
  {
   "cell_type": "code",
   "execution_count": 7,
   "metadata": {},
   "outputs": [
    {
     "name": "stdout",
     "output_type": "stream",
     "text": [
      "[1 2 3]\n",
      "int32\n",
      "(3,)\n",
      "1\n"
     ]
    }
   ],
   "source": [
    "# aivietnam.ai\n",
    "# tạo ndarray từ list\n",
    "\n",
    "import numpy as np\n",
    "\n",
    "# tạo list \n",
    "l = list(range(1, 4))\n",
    "\n",
    "# tạo ndarray\n",
    "data = np.array(l)\n",
    "\n",
    "print(data)\n",
    "print(data.dtype)\n",
    "print(data.shape)\n",
    "print(data.ndim)"
   ]
  },
  {
   "cell_type": "code",
   "execution_count": 8,
   "metadata": {},
   "outputs": [
    {
     "name": "stdout",
     "output_type": "stream",
     "text": [
      "[[1 2 3]\n",
      " [1 2 3]]\n",
      "int32\n",
      "(2, 3)\n",
      "2\n"
     ]
    }
   ],
   "source": [
    "# aivietnam.ai\n",
    "# tạo ndarray từ list\n",
    "\n",
    "import numpy as np\n",
    "\n",
    "# tạo list \n",
    "l = list(range(1, 4))\n",
    "\n",
    "# tạo ndarray\n",
    "data = np.array([l,l])\n",
    "\n",
    "print(data)\n",
    "print(data.dtype)\n",
    "print(data.shape)\n",
    "print(data.ndim)"
   ]
  },
  {
   "cell_type": "code",
   "execution_count": 9,
   "metadata": {},
   "outputs": [
    {
     "name": "stdout",
     "output_type": "stream",
     "text": [
      "[[1 2 3]\n",
      " [1 2 3]]\n",
      "<class 'numpy.ndarray'>\n",
      "<class 'numpy.ndarray'>\n",
      "<class 'tuple'>\n",
      "<class 'int'>\n",
      "(2, 3)\n",
      "2\n"
     ]
    }
   ],
   "source": [
    "# aivietnam.ai\n",
    "# tạo ndarray từ list\n",
    "\n",
    "import numpy as np\n",
    "\n",
    "# tạo list \n",
    "l = list(range(1, 4))\n",
    "\n",
    "# tạo ndarray\n",
    "data = np.array([l,l])\n",
    "\n",
    "print(data)\n",
    "print(type(data))\n",
    "print(type(data[0]))\n",
    "print(type(data.shape))\n",
    "print(type(data.ndim))\n",
    "print(data.shape)\n",
    "print(data.ndim)"
   ]
  },
  {
   "cell_type": "code",
   "execution_count": 10,
   "metadata": {},
   "outputs": [
    {
     "name": "stdout",
     "output_type": "stream",
     "text": [
      "[1 2 3]\n",
      "[8 2 3]\n"
     ]
    }
   ],
   "source": [
    "# aivietnam.ai\n",
    "# thay đổi giá trị phần tử\n",
    "\n",
    "import numpy as np\n",
    "\n",
    "# tạo list \n",
    "l = list(range(1, 4))\n",
    "\n",
    "# tạo ndarray\n",
    "data = np.array(l)\n",
    "print(data)\n",
    "\n",
    "data[0] = 8\n",
    "print(data)"
   ]
  },
  {
   "cell_type": "code",
   "execution_count": 11,
   "metadata": {},
   "outputs": [
    {
     "name": "stdout",
     "output_type": "stream",
     "text": [
      "[1 2 3]\n",
      "[8 2 3]\n",
      "[1, 2, 3]\n"
     ]
    }
   ],
   "source": [
    "# aivietnam.ai\n",
    "# thay đổi giá trị phần tử\n",
    "\n",
    "import numpy as np\n",
    "\n",
    "# tạo list \n",
    "l = list(range(1, 4))\n",
    "\n",
    "# tạo ndarray\n",
    "data = np.array(l)\n",
    "print(data)\n",
    "\n",
    "data[0] = 8\n",
    "print(data)\n",
    "print(l)"
   ]
  },
  {
   "cell_type": "code",
   "execution_count": null,
   "metadata": {},
   "outputs": [],
   "source": []
  },
  {
   "cell_type": "markdown",
   "metadata": {},
   "source": [
    "### Numpy hàm khởi tạo mảng"
   ]
  },
  {
   "cell_type": "code",
   "execution_count": 12,
   "metadata": {},
   "outputs": [
    {
     "name": "stdout",
     "output_type": "stream",
     "text": [
      "[[0. 0. 0.]\n",
      " [0. 0. 0.]]\n"
     ]
    }
   ],
   "source": [
    "# aivietnam.ai\n",
    "# Tạo một numpy array \n",
    "# với tất cả phẩn tử là 0\n",
    "\n",
    "import numpy as np\n",
    "\n",
    "# shape: 2 dòng, 3 cột\n",
    "arr = np.zeros((2,3))  \n",
    "print(arr)  "
   ]
  },
  {
   "cell_type": "code",
   "execution_count": 13,
   "metadata": {},
   "outputs": [
    {
     "name": "stdout",
     "output_type": "stream",
     "text": [
      "[[1. 1. 1.]\n",
      " [1. 1. 1.]]\n"
     ]
    }
   ],
   "source": [
    "# aivietnam.ai\n",
    "# Tạo một numpy array với \n",
    "# tất cả phẩn tử là 1\n",
    "\n",
    "import numpy as np\n",
    "\n",
    "# numpy.ones(shape)\n",
    "# shape: 2 dòng, 3 cột\n",
    "arr = np.ones((2,3))  \n",
    "print(arr)  "
   ]
  },
  {
   "cell_type": "code",
   "execution_count": 14,
   "metadata": {},
   "outputs": [
    {
     "name": "stdout",
     "output_type": "stream",
     "text": [
      "[[9 9 9]\n",
      " [9 9 9]]\n"
     ]
    }
   ],
   "source": [
    "# aivietnam.ai\n",
    "# Tạo một numpy array với tất \n",
    "# cả phẩn tử là hằng số fill_value\n",
    "\n",
    "import numpy as np\n",
    "\n",
    "# numpy.full(shape, fill_value)\n",
    "# shape: 2 dòng, 3 cột\n",
    "arr = np.full((2,3), 9)  \n",
    "print(arr)  "
   ]
  },
  {
   "cell_type": "code",
   "execution_count": 15,
   "metadata": {},
   "outputs": [
    {
     "name": "stdout",
     "output_type": "stream",
     "text": [
      "[[1. 0. 0.]\n",
      " [0. 1. 0.]\n",
      " [0. 0. 1.]]\n"
     ]
    }
   ],
   "source": [
    "# aivietnam.ai\n",
    "# Tạo một numpy array với đường chéo là số 1\n",
    "# số 0 được điền vào những ô phần tử còn lại\n",
    "\n",
    "import numpy as np\n",
    "\n",
    "# numpy.eye(N)\n",
    "# shape: 3 dòng, 3 cột\n",
    "arr = np.eye(3)  \n",
    "print(arr)  "
   ]
  },
  {
   "cell_type": "code",
   "execution_count": 16,
   "metadata": {},
   "outputs": [
    {
     "name": "stdout",
     "output_type": "stream",
     "text": [
      "[[0.10967801 0.84028221 0.60813421]\n",
      " [0.70996553 0.34230144 0.92027013]]\n"
     ]
    }
   ],
   "source": [
    "# aivietnam.ai\n",
    "# Tạo một numpy array với \n",
    "# giá trị ngẫu nhiên\n",
    "\n",
    "import numpy as np\n",
    "\n",
    "# np.random.random(size)\n",
    "# shape: 2 dòng, 3 cột; với \n",
    "# phần tử có giá trị ngẫu nhiên\n",
    "arr = np.random.random((2,3))  \n",
    "print(arr)"
   ]
  },
  {
   "cell_type": "code",
   "execution_count": 17,
   "metadata": {},
   "outputs": [
    {
     "name": "stdout",
     "output_type": "stream",
     "text": [
      "[[1 2]\n",
      " [3 4]]\n",
      "[1 2 3 4]\n"
     ]
    }
   ],
   "source": [
    "# aivietnam.ai\n",
    "import numpy as np\n",
    "\n",
    "arr = np.array([[1,2], [3,4]])\n",
    "out = arr.flatten()\n",
    "\n",
    "print(arr)\n",
    "print(out)"
   ]
  },
  {
   "cell_type": "code",
   "execution_count": 18,
   "metadata": {},
   "outputs": [
    {
     "name": "stdout",
     "output_type": "stream",
     "text": [
      "[0 1 2 3 4]\n",
      "[ True  True  True False False]\n",
      "[0 1 2 6 8]\n"
     ]
    }
   ],
   "source": [
    "# aivietnam.ai\n",
    "import numpy as np\n",
    "\n",
    "# create an array\n",
    "arr = np.arange(5)\n",
    "print(arr)\n",
    "\n",
    "# condition\n",
    "condition = arr < 3\n",
    "out = np.where(condition, arr, arr*2)\n",
    "\n",
    "print(condition)\n",
    "print(out)"
   ]
  },
  {
   "cell_type": "code",
   "execution_count": 19,
   "metadata": {},
   "outputs": [
    {
     "name": "stdout",
     "output_type": "stream",
     "text": [
      "[0 1 2 3 4]\n",
      "[0 2 4]\n"
     ]
    }
   ],
   "source": [
    "# aivietnam.ai\n",
    "import numpy as np\n",
    "\n",
    "# np.arange(start=0, stop, step=1)\n",
    "arr1 = np.arange(5)\n",
    "print(arr1)\n",
    "\n",
    "arr2 = np.arange(0, 5, 2)\n",
    "print(arr2)"
   ]
  },
  {
   "cell_type": "markdown",
   "metadata": {},
   "source": [
    "### Array indexing"
   ]
  },
  {
   "cell_type": "markdown",
   "metadata": {},
   "source": [
    "Numpy cung cấp một số cách để truy xuất phần tử trong mảng\n",
    "Slicing: Tương tự như kiểu danh sách(list) trong python, mảng numpy cũng có thể được cắt. Vì mảng có thể nhiều chiều, nên bạn phải chỉ việc cắt cho mỗi chiều của mảng."
   ]
  },
  {
   "cell_type": "code",
   "execution_count": 20,
   "metadata": {},
   "outputs": [
    {
     "name": "stdout",
     "output_type": "stream",
     "text": [
      "[[1 2 3]\n",
      " [5 6 7]]\n"
     ]
    }
   ],
   "source": [
    "# aivietnam.ai\n",
    "import numpy as np\n",
    " \n",
    "# Khởi tạo numpy array có shape = (2, 3) có giá trị như sau:\n",
    "# [[ 1  2  3]\n",
    "#  [ 5  6  7]\n",
    "\n",
    "arr = np.array([[1,2,3], [5,6,7]])\n",
    "print(arr)"
   ]
  },
  {
   "cell_type": "code",
   "execution_count": 21,
   "metadata": {},
   "outputs": [
    {
     "name": "stdout",
     "output_type": "stream",
     "text": [
      "\n",
      "b_arr \n",
      " [[2 3]\n",
      " [6 7]]\n"
     ]
    }
   ],
   "source": [
    "# aivietnam.ai\n",
    "import numpy as np\n",
    " \n",
    "# Khởi tạo numpy array có \n",
    "# shape=(2, 3) có giá trị như sau:\n",
    "# [[ 1  2  3]\n",
    "#  [ 5  6  7]\n",
    "a_arr = np.array([[1,2,3], \n",
    "                  [5,6,7]])\n",
    "\n",
    "# Sử dụng slicing để tạo mảng b_arr \n",
    "# bằng cách lấy tất cả các dòng và cột 1,2\n",
    "# [[2 3]\n",
    "#  [6 7]]\n",
    "b_arr = a_arr[:, 1:3]\n",
    "print('\\nb_arr \\n', b_arr)"
   ]
  },
  {
   "cell_type": "code",
   "execution_count": 22,
   "metadata": {},
   "outputs": [
    {
     "name": "stdout",
     "output_type": "stream",
     "text": [
      "[[1 2 3]\n",
      " [5 6 7]]\n"
     ]
    }
   ],
   "source": [
    "# aivietnam.ai\n",
    "import numpy as np\n",
    " \n",
    "# Khởi tạo numpy array a_arr\n",
    "a_arr = np.array([[1,2,3], \n",
    "                  [5,6,7]])\n",
    "print(a_arr)"
   ]
  },
  {
   "cell_type": "code",
   "execution_count": 23,
   "metadata": {},
   "outputs": [
    {
     "name": "stdout",
     "output_type": "stream",
     "text": [
      "[[2 3]\n",
      " [6 7]]\n"
     ]
    }
   ],
   "source": [
    "b_arr = a_arr[:, 1:3]\n",
    "print(b_arr)"
   ]
  },
  {
   "cell_type": "code",
   "execution_count": null,
   "metadata": {},
   "outputs": [],
   "source": []
  },
  {
   "cell_type": "code",
   "execution_count": 24,
   "metadata": {},
   "outputs": [
    {
     "name": "stdout",
     "output_type": "stream",
     "text": [
      "[[2 3]\n",
      " [6 7]]\n"
     ]
    }
   ],
   "source": [
    "# aivietnam.ai\n",
    "import numpy as np\n",
    " \n",
    "# Khởi tạo numpy array a_arr\n",
    "a_arr = np.array([[1,2,3], \n",
    "                  [5,6,7]])\n",
    "\n",
    "# Sử dụng slicing để tạo mảng b_arr \n",
    "# bằng cách lấy tất cả các dòng và cột 1,2\n",
    "b_arr = a_arr[:, 1:3]\n",
    "\n",
    "\n",
    "print(b_arr)"
   ]
  },
  {
   "cell_type": "code",
   "execution_count": 25,
   "metadata": {},
   "outputs": [
    {
     "name": "stdout",
     "output_type": "stream",
     "text": [
      "a_arr \n",
      " [[1 2 3]\n",
      " [5 6 7]]\n",
      "b_arr \n",
      " [[2 3]\n",
      " [6 7]]\n",
      "before changing \n",
      " 2\n",
      "after changing \n",
      " 99\n"
     ]
    }
   ],
   "source": [
    "# aivietnam.ai\n",
    "import numpy as np\n",
    " \n",
    "# Khởi tạo numpy array a_arr\n",
    "a_arr = np.array([[1,2,3], \n",
    "                  [5,6,7]])\n",
    "print('a_arr \\n', a_arr)\n",
    "\n",
    "# Sử dụng slicing để tạo mảng b_arr\n",
    "b_arr = a_arr[:, 1:3]\n",
    "print('b_arr \\n', b_arr)\n",
    "\n",
    "print('before changing \\n', a_arr[0, 1])\n",
    "b_arr[0, 0] = 99 \n",
    "print('after changing \\n', a_arr[0, 1])"
   ]
  },
  {
   "cell_type": "code",
   "execution_count": 26,
   "metadata": {},
   "outputs": [
    {
     "name": "stdout",
     "output_type": "stream",
     "text": [
      "[5 6 7] (3,)\n",
      "[5 6 7] (1, 3)\n"
     ]
    }
   ],
   "source": [
    "# aivietnam.ai\n",
    "import numpy as np\n",
    " \n",
    "# Tạo một numpy array có shape (3, 3) với giá trị như sau:\n",
    "# [[ 1  2  3]\n",
    "#  [ 5  6  7]\n",
    "#  [ 9 10 11]]\n",
    "arr = np.array([[1, 2, 3], \n",
    "                [5, 6, 7], \n",
    "                [9,10,11]])\n",
    " \n",
    "# Hai cách truy cập dữ liệu ở dòng index=1\n",
    "# cách 1: số chiều giảm\n",
    "row_m1 = arr[1, :]  \n",
    "\n",
    "# cách 2: số chiều được giữa nguyên\n",
    "row_m2 = arr[1:2, :] \n",
    "\n",
    "print(row_m1, row_m1.shape)\n",
    "print(row_m1, row_m2.shape)"
   ]
  },
  {
   "cell_type": "code",
   "execution_count": 27,
   "metadata": {},
   "outputs": [
    {
     "name": "stdout",
     "output_type": "stream",
     "text": [
      "[ 2  6 10] (3,)\n",
      "[[ 2]\n",
      " [ 6]\n",
      " [10]] (3, 1)\n"
     ]
    }
   ],
   "source": [
    "# aivietnam.ai\n",
    "import numpy as np\n",
    " \n",
    "# Tạo một numpy array có shape (3, 3) với giá trị\n",
    "arr = np.array([[1,2,3], \n",
    "                [5,6,7], \n",
    "                [9,10,11]])\n",
    " \n",
    "# Hai cách truy cập dữ liệu ở cột index=1 của mảng\n",
    "# cách 1: số chiều giảm\n",
    "col_m1 = arr[:, 1]\n",
    "\n",
    "# cách 2: số chiều được giữa nguyên\n",
    "col_m2 = arr[:, 1:2]\n",
    "\n",
    "print(col_m1, col_m1.shape)\n",
    "print(col_m2, col_m2.shape)                            "
   ]
  },
  {
   "cell_type": "markdown",
   "metadata": {},
   "source": [
    "### Integer array indexing:\n",
    "    \n",
    "Khi bạn truy xuất mảng dùng slicing, kết quả trả về sẽ là mảng con của mảng ban đầu, tuy nhiên sử dụng chỉ số mảng cho phép bạn xây dựng mảng tùy ý từ một mảng khác, ví dụ: "
   ]
  },
  {
   "cell_type": "code",
   "execution_count": 28,
   "metadata": {},
   "outputs": [
    {
     "name": "stdout",
     "output_type": "stream",
     "text": [
      "out1:\n",
      " [1 4 5]\n",
      "out2:\n",
      " [2 2]\n"
     ]
    }
   ],
   "source": [
    "# aivietnam.ai\n",
    "import numpy as np\n",
    "\n",
    "# tạo arr\n",
    "arr = np.array([[1,2], \n",
    "                [3, 4], \n",
    "                [5, 6]])\n",
    " \n",
    "# lấy giá trị vị trí (0,0), (1,1) và (2,0)\n",
    "out1 = arr[[0, 1, 2], [0, 1, 0]]\n",
    "print('out1:\\n', out1)\n",
    "\n",
    "# Có thể truy xuất tới 1 phần tử nhiều hơn 1 lần\n",
    "out2 = arr[[0, 0], [1, 1]]\n",
    "print('out2:\\n', out2)"
   ]
  },
  {
   "cell_type": "markdown",
   "metadata": {},
   "source": [
    "### Một mẹo hữu ích dùng chỉ số mảng để chọn và thay đổi phần tử từ mỗi hàng của ma trận"
   ]
  },
  {
   "cell_type": "code",
   "execution_count": 29,
   "metadata": {},
   "outputs": [
    {
     "name": "stdout",
     "output_type": "stream",
     "text": [
      "[[ 1  2  3]\n",
      " [ 5  6  7]\n",
      " [ 9 10 11]\n",
      " [13 14 15]]\n",
      "[ 1  7  9 14]\n"
     ]
    }
   ],
   "source": [
    "# aivietnam.ai\n",
    "import numpy as np\n",
    "\n",
    "# Tạo một mảng mới có shape=(4,3)\n",
    "a_arr = np.array([[1,2,3], [5,6,7], [9,10,11], [13, 14, 15]])\n",
    "print(a_arr)\n",
    "\n",
    "# Tạo một mảng các chỉ số\n",
    "b_arr = np.array([0, 2, 0, 1])\n",
    "\n",
    "# Lấy 1 phần tử từ mỗi hàng của mảng a_arr dùng với chỉ số ở mảng b_arr\n",
    "\n",
    "c_array = a_arr[np.arange(4), b_arr]\n",
    "\n",
    "print(c_array)  # Prints \"[ 1  7  9 14]\"\n"
   ]
  },
  {
   "cell_type": "code",
   "execution_count": 30,
   "metadata": {},
   "outputs": [
    {
     "name": "stdout",
     "output_type": "stream",
     "text": [
      "[[ 1  2  3]\n",
      " [ 5  6  7]\n",
      " [ 9 10 11]\n",
      " [13 14 15]]\n",
      "[ 1  7  9 14]\n",
      "[[11  2  3]\n",
      " [ 5  6 17]\n",
      " [19 10 11]\n",
      " [13 24 15]]\n"
     ]
    }
   ],
   "source": [
    "# aivietnam.ai\n",
    "import numpy as np\n",
    "\n",
    "# Tạo một mảng mới từ đó ta sẽ chọn các phần tử\n",
    "a_arr = np.array([[1,2,3], [5,6,7], [9,10,11], [13, 14, 15]])\n",
    "\n",
    "print(a_arr)    # prints \"a_array([[ 1,2,3],\n",
    "                #                [5,6,7],\n",
    "                #                [ 9,10,11],\n",
    "                #                [13, 14, 15]])\"\n",
    "\n",
    "# Tạo một mảng các chỉ số\n",
    "b_arr = np.array([0, 2, 0, 1])\n",
    "\n",
    "# Lấy 1 phần tử từ mỗi hàng của mảng a dùng với chỉ số ở mảng b\n",
    "print(a_arr[np.arange(4), b_arr])  # Prints \"[ 1  7  9 14]\"\n",
    "\n",
    "# Thay đổi một phẩn tử từ mỗi hàng của a dùng với chỉ số ở mảng b\n",
    "a_arr[np.arange(4), b_arr] += 10\n",
    "\n",
    "print(a_arr)    # prints \"array([[11,  2,  3],\n",
    "                #                [ 4,  5, 16],\n",
    "                #                [17,  8,  9],\n",
    "                #                [10, 21, 12]])"
   ]
  },
  {
   "cell_type": "markdown",
   "metadata": {},
   "source": [
    "### Boolean array indexing: "
   ]
  },
  {
   "cell_type": "code",
   "execution_count": 31,
   "metadata": {},
   "outputs": [
    {
     "name": "stdout",
     "output_type": "stream",
     "text": [
      "[[1 2]\n",
      " [3 4]\n",
      " [5 6]]\n",
      "[[False False]\n",
      " [ True  True]\n",
      " [ True  True]]\n"
     ]
    }
   ],
   "source": [
    "# aivietnam.ai\n",
    "import numpy as np\n",
    "\n",
    "arr = np.array([[1,2], \n",
    "                [3, 4], \n",
    "                [5, 6]])\n",
    "print(arr)\n",
    "\n",
    "# Tìm các phần tử lớn hơn 2\n",
    "bool_idx = (arr > 2)\n",
    "print(bool_idx) "
   ]
  },
  {
   "cell_type": "code",
   "execution_count": 32,
   "metadata": {},
   "outputs": [
    {
     "name": "stdout",
     "output_type": "stream",
     "text": [
      "[[1 2]\n",
      " [3 4]\n",
      " [5 6]]\n",
      "\n",
      "bool_idx\n",
      " [[False False]\n",
      " [ True  True]\n",
      " [ True  True]]\n",
      "\n",
      "method 1\n",
      " [3 4 5 6]\n",
      "\n",
      "method 1\n",
      " [3 4 5 6]\n"
     ]
    }
   ],
   "source": [
    "# aivietnam.ai\n",
    "import numpy as np\n",
    "\n",
    "a_arr = np.array([[1,2], [3, 4], [5, 6]])\n",
    "print(a_arr)\n",
    "\n",
    "# Tìm các phần tử lớn hơn 2;\n",
    "# Trả về 1 mảng boolean có chiều như mảng a\n",
    "# và giá trị tại mỗi phần tử là \n",
    "# True nếu phần tử của a tại đó > 2,\n",
    "# False cho trường hợp ngược lại.\n",
    "bool_idx = (a_arr > 2)\n",
    "print('\\nbool_idx\\n', bool_idx)\n",
    "\n",
    "# Chúng ta sử dụng boolean array indexing để xây dựng mảng 1 chiều \n",
    "# bao gồm các phần tử tương ứng với giá trị True của bool_idx\n",
    "\n",
    "# Ví dụ ở đây in ra các giá trị của a_arr > 2 , sử dụng array bool_idx đã tạo\n",
    "out = a_arr[bool_idx]\n",
    "print('\\nmethod 1\\n', out)\n",
    "\n",
    "# Một cách ngắn gọn hơn:\n",
    "print('\\nmethod 1\\n', a_arr[a_arr > 2])"
   ]
  },
  {
   "cell_type": "markdown",
   "metadata": {},
   "source": [
    "### Kiểu dữ liệu (Datatypes)\n"
   ]
  },
  {
   "cell_type": "code",
   "execution_count": 33,
   "metadata": {},
   "outputs": [
    {
     "name": "stdout",
     "output_type": "stream",
     "text": [
      "int32\n",
      "float64\n",
      "int64\n"
     ]
    }
   ],
   "source": [
    "# aivietnam.ai\n",
    "import numpy as np\n",
    "\n",
    "# int32\n",
    "arr1 = np.array([1, 2])\n",
    "print(arr1.dtype)       \n",
    "\n",
    "# float64\n",
    "arr2 = np.array([1.0, 2.0])  \n",
    "print(arr2.dtype)             \n",
    "\n",
    "# int64\n",
    "arr3 = np.array([1, 2], dtype=np.int64)  \n",
    "print(arr3.dtype)                        "
   ]
  },
  {
   "cell_type": "code",
   "execution_count": 34,
   "metadata": {},
   "outputs": [
    {
     "name": "stdout",
     "output_type": "stream",
     "text": [
      "(3, 3)\n",
      "(1, 3)\n"
     ]
    }
   ],
   "source": [
    "# aivietnam.ai\n",
    "import numpy as np\n",
    "\n",
    "X = np.array([[1, 2, 3], \n",
    "              [4, 5, 6], \n",
    "              [7, 8, 9]])\n",
    "v = np.array([1, 0, 1])\n",
    "\n",
    "v = v.reshape((1,3))\n",
    "\n",
    "print(X.shape)\n",
    "print(v.shape)"
   ]
  },
  {
   "cell_type": "code",
   "execution_count": 35,
   "metadata": {},
   "outputs": [
    {
     "name": "stdout",
     "output_type": "stream",
     "text": [
      "[[ 2  2  4]\n",
      " [ 5  5  7]\n",
      " [ 8  8 10]]\n"
     ]
    }
   ],
   "source": [
    "Y = X + v \n",
    "print(Y)"
   ]
  },
  {
   "cell_type": "code",
   "execution_count": 36,
   "metadata": {},
   "outputs": [
    {
     "name": "stdout",
     "output_type": "stream",
     "text": [
      "(3, 3)\n",
      "(3, 1)\n"
     ]
    }
   ],
   "source": [
    "# aivietnam.ai\n",
    "import numpy as np\n",
    "\n",
    "X = np.array([[1, 2, 3], \n",
    "              [4, 5, 6], \n",
    "              [7, 8, 9]])\n",
    "v = np.array([1, 0, 1])\n",
    "\n",
    "v = v.reshape((3,1))\n",
    "\n",
    "print(X.shape)\n",
    "print(v.shape)"
   ]
  },
  {
   "cell_type": "code",
   "execution_count": 37,
   "metadata": {},
   "outputs": [
    {
     "name": "stdout",
     "output_type": "stream",
     "text": [
      "[[ 2  3  4]\n",
      " [ 4  5  6]\n",
      " [ 8  9 10]]\n"
     ]
    }
   ],
   "source": [
    "Y = X + v \n",
    "print(Y)"
   ]
  },
  {
   "cell_type": "code",
   "execution_count": null,
   "metadata": {},
   "outputs": [],
   "source": []
  }
 ],
 "metadata": {
  "kernelspec": {
   "display_name": "Python 3 (ipykernel)",
   "language": "python",
   "name": "python3"
  },
  "language_info": {
   "codemirror_mode": {
    "name": "ipython",
    "version": 3
   },
   "file_extension": ".py",
   "mimetype": "text/x-python",
   "name": "python",
   "nbconvert_exporter": "python",
   "pygments_lexer": "ipython3",
   "version": "3.11.5"
  }
 },
 "nbformat": 4,
 "nbformat_minor": 2
}
